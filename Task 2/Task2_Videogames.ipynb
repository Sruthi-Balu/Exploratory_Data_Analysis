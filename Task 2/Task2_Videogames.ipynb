{
  "nbformat": 4,
  "nbformat_minor": 0,
  "metadata": {
    "colab": {
      "provenance": []
    },
    "kernelspec": {
      "name": "python3",
      "display_name": "Python 3"
    },
    "language_info": {
      "name": "python"
    }
  },
  "cells": [
    {
      "cell_type": "markdown",
      "source": [
        "# **IMPORTING THE LIBRABRIES**"
      ],
      "metadata": {
        "id": "Xfam-QyxSyUG"
      }
    },
    {
      "cell_type": "code",
      "execution_count": 61,
      "metadata": {
        "id": "bjP4fFmaDdp4"
      },
      "outputs": [],
      "source": [
        "import numpy as np\n",
        "import pandas as pd\n",
        "import matplotlib.pyplot as plt\n",
        "import seaborn as sns\n",
        "from datetime import datetime\n",
        "import plotly\n",
        "import cufflinks as cf\n",
        "from plotly.offline import download_plotlyjs, init_notebook_mode, plot, iplot\n",
        "import plotly.graph_objects as go\n",
        "import plotly.express as px\n",
        "from plotly.subplots import make_subplots"
      ]
    },
    {
      "cell_type": "markdown",
      "source": [
        "# **LOADING THE DATASET**"
      ],
      "metadata": {
        "id": "93ha7LZ0XIk9"
      }
    },
    {
      "cell_type": "code",
      "source": [
        "video_games = pd.read_csv(\"/content/Video Games Sales.csv\")\n",
        "video_games.head()"
      ],
      "metadata": {
        "colab": {
          "base_uri": "https://localhost:8080/",
          "height": 206
        },
        "id": "3kzWO93IDlVt",
        "outputId": "1a7dd2fc-7a85-443d-b195-81c07331dd97"
      },
      "execution_count": 62,
      "outputs": [
        {
          "output_type": "execute_result",
          "data": {
            "text/plain": [
              "   index  Rank         Game Title Platform    Year     Genre Publisher  \\\n",
              "0      0     1         Wii Sports      Wii  2006.0    Sports  Nintendo   \n",
              "1      1     2  Super Mario Bros.      NES  1985.0  Platform  Nintendo   \n",
              "2      2     3     Mario Kart Wii      Wii  2008.0    Racing  Nintendo   \n",
              "3      3     4  Wii Sports Resort      Wii  2009.0    Sports  Nintendo   \n",
              "4      4     5             Tetris       GB  1989.0    Puzzle  Nintendo   \n",
              "\n",
              "   North America  Europe  Japan  Rest of World  Global  Review  \n",
              "0          40.43   28.39   3.77           8.54   81.12   76.28  \n",
              "1          29.08    3.58   6.81           0.77   40.24   91.00  \n",
              "2          14.50   12.22   3.63           3.21   33.55   82.07  \n",
              "3          14.82   10.51   3.18           3.01   31.52   82.65  \n",
              "4          23.20    2.26   4.22           0.58   30.26   88.00  "
            ],
            "text/html": [
              "\n",
              "  <div id=\"df-6c544213-3757-4070-a175-83505062eae7\">\n",
              "    <div class=\"colab-df-container\">\n",
              "      <div>\n",
              "<style scoped>\n",
              "    .dataframe tbody tr th:only-of-type {\n",
              "        vertical-align: middle;\n",
              "    }\n",
              "\n",
              "    .dataframe tbody tr th {\n",
              "        vertical-align: top;\n",
              "    }\n",
              "\n",
              "    .dataframe thead th {\n",
              "        text-align: right;\n",
              "    }\n",
              "</style>\n",
              "<table border=\"1\" class=\"dataframe\">\n",
              "  <thead>\n",
              "    <tr style=\"text-align: right;\">\n",
              "      <th></th>\n",
              "      <th>index</th>\n",
              "      <th>Rank</th>\n",
              "      <th>Game Title</th>\n",
              "      <th>Platform</th>\n",
              "      <th>Year</th>\n",
              "      <th>Genre</th>\n",
              "      <th>Publisher</th>\n",
              "      <th>North America</th>\n",
              "      <th>Europe</th>\n",
              "      <th>Japan</th>\n",
              "      <th>Rest of World</th>\n",
              "      <th>Global</th>\n",
              "      <th>Review</th>\n",
              "    </tr>\n",
              "  </thead>\n",
              "  <tbody>\n",
              "    <tr>\n",
              "      <th>0</th>\n",
              "      <td>0</td>\n",
              "      <td>1</td>\n",
              "      <td>Wii Sports</td>\n",
              "      <td>Wii</td>\n",
              "      <td>2006.0</td>\n",
              "      <td>Sports</td>\n",
              "      <td>Nintendo</td>\n",
              "      <td>40.43</td>\n",
              "      <td>28.39</td>\n",
              "      <td>3.77</td>\n",
              "      <td>8.54</td>\n",
              "      <td>81.12</td>\n",
              "      <td>76.28</td>\n",
              "    </tr>\n",
              "    <tr>\n",
              "      <th>1</th>\n",
              "      <td>1</td>\n",
              "      <td>2</td>\n",
              "      <td>Super Mario Bros.</td>\n",
              "      <td>NES</td>\n",
              "      <td>1985.0</td>\n",
              "      <td>Platform</td>\n",
              "      <td>Nintendo</td>\n",
              "      <td>29.08</td>\n",
              "      <td>3.58</td>\n",
              "      <td>6.81</td>\n",
              "      <td>0.77</td>\n",
              "      <td>40.24</td>\n",
              "      <td>91.00</td>\n",
              "    </tr>\n",
              "    <tr>\n",
              "      <th>2</th>\n",
              "      <td>2</td>\n",
              "      <td>3</td>\n",
              "      <td>Mario Kart Wii</td>\n",
              "      <td>Wii</td>\n",
              "      <td>2008.0</td>\n",
              "      <td>Racing</td>\n",
              "      <td>Nintendo</td>\n",
              "      <td>14.50</td>\n",
              "      <td>12.22</td>\n",
              "      <td>3.63</td>\n",
              "      <td>3.21</td>\n",
              "      <td>33.55</td>\n",
              "      <td>82.07</td>\n",
              "    </tr>\n",
              "    <tr>\n",
              "      <th>3</th>\n",
              "      <td>3</td>\n",
              "      <td>4</td>\n",
              "      <td>Wii Sports Resort</td>\n",
              "      <td>Wii</td>\n",
              "      <td>2009.0</td>\n",
              "      <td>Sports</td>\n",
              "      <td>Nintendo</td>\n",
              "      <td>14.82</td>\n",
              "      <td>10.51</td>\n",
              "      <td>3.18</td>\n",
              "      <td>3.01</td>\n",
              "      <td>31.52</td>\n",
              "      <td>82.65</td>\n",
              "    </tr>\n",
              "    <tr>\n",
              "      <th>4</th>\n",
              "      <td>4</td>\n",
              "      <td>5</td>\n",
              "      <td>Tetris</td>\n",
              "      <td>GB</td>\n",
              "      <td>1989.0</td>\n",
              "      <td>Puzzle</td>\n",
              "      <td>Nintendo</td>\n",
              "      <td>23.20</td>\n",
              "      <td>2.26</td>\n",
              "      <td>4.22</td>\n",
              "      <td>0.58</td>\n",
              "      <td>30.26</td>\n",
              "      <td>88.00</td>\n",
              "    </tr>\n",
              "  </tbody>\n",
              "</table>\n",
              "</div>\n",
              "      <button class=\"colab-df-convert\" onclick=\"convertToInteractive('df-6c544213-3757-4070-a175-83505062eae7')\"\n",
              "              title=\"Convert this dataframe to an interactive table.\"\n",
              "              style=\"display:none;\">\n",
              "        \n",
              "  <svg xmlns=\"http://www.w3.org/2000/svg\" height=\"24px\"viewBox=\"0 0 24 24\"\n",
              "       width=\"24px\">\n",
              "    <path d=\"M0 0h24v24H0V0z\" fill=\"none\"/>\n",
              "    <path d=\"M18.56 5.44l.94 2.06.94-2.06 2.06-.94-2.06-.94-.94-2.06-.94 2.06-2.06.94zm-11 1L8.5 8.5l.94-2.06 2.06-.94-2.06-.94L8.5 2.5l-.94 2.06-2.06.94zm10 10l.94 2.06.94-2.06 2.06-.94-2.06-.94-.94-2.06-.94 2.06-2.06.94z\"/><path d=\"M17.41 7.96l-1.37-1.37c-.4-.4-.92-.59-1.43-.59-.52 0-1.04.2-1.43.59L10.3 9.45l-7.72 7.72c-.78.78-.78 2.05 0 2.83L4 21.41c.39.39.9.59 1.41.59.51 0 1.02-.2 1.41-.59l7.78-7.78 2.81-2.81c.8-.78.8-2.07 0-2.86zM5.41 20L4 18.59l7.72-7.72 1.47 1.35L5.41 20z\"/>\n",
              "  </svg>\n",
              "      </button>\n",
              "      \n",
              "  <style>\n",
              "    .colab-df-container {\n",
              "      display:flex;\n",
              "      flex-wrap:wrap;\n",
              "      gap: 12px;\n",
              "    }\n",
              "\n",
              "    .colab-df-convert {\n",
              "      background-color: #E8F0FE;\n",
              "      border: none;\n",
              "      border-radius: 50%;\n",
              "      cursor: pointer;\n",
              "      display: none;\n",
              "      fill: #1967D2;\n",
              "      height: 32px;\n",
              "      padding: 0 0 0 0;\n",
              "      width: 32px;\n",
              "    }\n",
              "\n",
              "    .colab-df-convert:hover {\n",
              "      background-color: #E2EBFA;\n",
              "      box-shadow: 0px 1px 2px rgba(60, 64, 67, 0.3), 0px 1px 3px 1px rgba(60, 64, 67, 0.15);\n",
              "      fill: #174EA6;\n",
              "    }\n",
              "\n",
              "    [theme=dark] .colab-df-convert {\n",
              "      background-color: #3B4455;\n",
              "      fill: #D2E3FC;\n",
              "    }\n",
              "\n",
              "    [theme=dark] .colab-df-convert:hover {\n",
              "      background-color: #434B5C;\n",
              "      box-shadow: 0px 1px 3px 1px rgba(0, 0, 0, 0.15);\n",
              "      filter: drop-shadow(0px 1px 2px rgba(0, 0, 0, 0.3));\n",
              "      fill: #FFFFFF;\n",
              "    }\n",
              "  </style>\n",
              "\n",
              "      <script>\n",
              "        const buttonEl =\n",
              "          document.querySelector('#df-6c544213-3757-4070-a175-83505062eae7 button.colab-df-convert');\n",
              "        buttonEl.style.display =\n",
              "          google.colab.kernel.accessAllowed ? 'block' : 'none';\n",
              "\n",
              "        async function convertToInteractive(key) {\n",
              "          const element = document.querySelector('#df-6c544213-3757-4070-a175-83505062eae7');\n",
              "          const dataTable =\n",
              "            await google.colab.kernel.invokeFunction('convertToInteractive',\n",
              "                                                     [key], {});\n",
              "          if (!dataTable) return;\n",
              "\n",
              "          const docLinkHtml = 'Like what you see? Visit the ' +\n",
              "            '<a target=\"_blank\" href=https://colab.research.google.com/notebooks/data_table.ipynb>data table notebook</a>'\n",
              "            + ' to learn more about interactive tables.';\n",
              "          element.innerHTML = '';\n",
              "          dataTable['output_type'] = 'display_data';\n",
              "          await google.colab.output.renderOutput(dataTable, element);\n",
              "          const docLink = document.createElement('div');\n",
              "          docLink.innerHTML = docLinkHtml;\n",
              "          element.appendChild(docLink);\n",
              "        }\n",
              "      </script>\n",
              "    </div>\n",
              "  </div>\n",
              "  "
            ]
          },
          "metadata": {},
          "execution_count": 62
        }
      ]
    },
    {
      "cell_type": "markdown",
      "source": [
        "# **DATA CLEANING AND PREPROCESSING**"
      ],
      "metadata": {
        "id": "f8wgCs0mZoQz"
      }
    },
    {
      "cell_type": "markdown",
      "source": [
        "***Listing the columns of the dataset***"
      ],
      "metadata": {
        "id": "JtJVMqzhXVpK"
      }
    },
    {
      "cell_type": "code",
      "source": [
        "columns = list(video_games.columns)\n",
        "columns"
      ],
      "metadata": {
        "colab": {
          "base_uri": "https://localhost:8080/"
        },
        "id": "nImdxdBMD5q1",
        "outputId": "c9945730-f69a-4d60-fb24-5fffe629216f"
      },
      "execution_count": 63,
      "outputs": [
        {
          "output_type": "execute_result",
          "data": {
            "text/plain": [
              "['index',\n",
              " 'Rank',\n",
              " 'Game Title',\n",
              " 'Platform',\n",
              " 'Year',\n",
              " 'Genre',\n",
              " 'Publisher',\n",
              " 'North America',\n",
              " 'Europe',\n",
              " 'Japan',\n",
              " 'Rest of World',\n",
              " 'Global',\n",
              " 'Review']"
            ]
          },
          "metadata": {},
          "execution_count": 63
        }
      ]
    },
    {
      "cell_type": "markdown",
      "source": [
        "***Information about the dataset***"
      ],
      "metadata": {
        "id": "BxcKVuN-XeOQ"
      }
    },
    {
      "cell_type": "code",
      "source": [
        "print(\"Database dimension  :\",video_games.shape)\n",
        "print(\"Database size       :\",video_games.size)\n",
        "video_games.describe()"
      ],
      "metadata": {
        "colab": {
          "base_uri": "https://localhost:8080/",
          "height": 336
        },
        "id": "1hStvKRCEGfJ",
        "outputId": "41e44681-db7e-444d-c6bb-9c16e8096d6f"
      },
      "execution_count": 64,
      "outputs": [
        {
          "output_type": "stream",
          "name": "stdout",
          "text": [
            "Database dimension  : (1907, 13)\n",
            "Database size       : 24791\n"
          ]
        },
        {
          "output_type": "execute_result",
          "data": {
            "text/plain": [
              "           index       Rank         Year  North America       Europe  \\\n",
              "count  1907.0000  1907.0000  1878.000000    1907.000000  1907.000000   \n",
              "mean    953.0000   954.0000  2003.766773       1.258789     0.706675   \n",
              "std     550.6478   550.6478     5.895369       1.956560     1.148904   \n",
              "min       0.0000     1.0000  1983.000000       0.000000     0.000000   \n",
              "25%     476.5000   477.5000  2000.000000       0.510000     0.230000   \n",
              "50%     953.0000   954.0000  2005.000000       0.810000     0.440000   \n",
              "75%    1429.5000  1430.5000  2008.000000       1.375000     0.810000   \n",
              "max    1906.0000  1907.0000  2012.000000      40.430000    28.390000   \n",
              "\n",
              "             Japan  Rest of World       Global       Review  \n",
              "count  1907.000000    1907.000000  1907.000000  1907.000000  \n",
              "mean      0.317493       0.206471     2.489240    79.038977  \n",
              "std       0.724945       0.343093     3.563159    10.616899  \n",
              "min       0.000000       0.000000     0.830000    30.500000  \n",
              "25%       0.000000       0.060000     1.110000    74.000000  \n",
              "50%       0.020000       0.130000     1.530000    81.000000  \n",
              "75%       0.300000       0.220000     2.540000    86.230000  \n",
              "max       7.200000       8.540000    81.120000    97.000000  "
            ],
            "text/html": [
              "\n",
              "  <div id=\"df-e60baf8f-fab4-47ad-9a05-80ded66a326d\">\n",
              "    <div class=\"colab-df-container\">\n",
              "      <div>\n",
              "<style scoped>\n",
              "    .dataframe tbody tr th:only-of-type {\n",
              "        vertical-align: middle;\n",
              "    }\n",
              "\n",
              "    .dataframe tbody tr th {\n",
              "        vertical-align: top;\n",
              "    }\n",
              "\n",
              "    .dataframe thead th {\n",
              "        text-align: right;\n",
              "    }\n",
              "</style>\n",
              "<table border=\"1\" class=\"dataframe\">\n",
              "  <thead>\n",
              "    <tr style=\"text-align: right;\">\n",
              "      <th></th>\n",
              "      <th>index</th>\n",
              "      <th>Rank</th>\n",
              "      <th>Year</th>\n",
              "      <th>North America</th>\n",
              "      <th>Europe</th>\n",
              "      <th>Japan</th>\n",
              "      <th>Rest of World</th>\n",
              "      <th>Global</th>\n",
              "      <th>Review</th>\n",
              "    </tr>\n",
              "  </thead>\n",
              "  <tbody>\n",
              "    <tr>\n",
              "      <th>count</th>\n",
              "      <td>1907.0000</td>\n",
              "      <td>1907.0000</td>\n",
              "      <td>1878.000000</td>\n",
              "      <td>1907.000000</td>\n",
              "      <td>1907.000000</td>\n",
              "      <td>1907.000000</td>\n",
              "      <td>1907.000000</td>\n",
              "      <td>1907.000000</td>\n",
              "      <td>1907.000000</td>\n",
              "    </tr>\n",
              "    <tr>\n",
              "      <th>mean</th>\n",
              "      <td>953.0000</td>\n",
              "      <td>954.0000</td>\n",
              "      <td>2003.766773</td>\n",
              "      <td>1.258789</td>\n",
              "      <td>0.706675</td>\n",
              "      <td>0.317493</td>\n",
              "      <td>0.206471</td>\n",
              "      <td>2.489240</td>\n",
              "      <td>79.038977</td>\n",
              "    </tr>\n",
              "    <tr>\n",
              "      <th>std</th>\n",
              "      <td>550.6478</td>\n",
              "      <td>550.6478</td>\n",
              "      <td>5.895369</td>\n",
              "      <td>1.956560</td>\n",
              "      <td>1.148904</td>\n",
              "      <td>0.724945</td>\n",
              "      <td>0.343093</td>\n",
              "      <td>3.563159</td>\n",
              "      <td>10.616899</td>\n",
              "    </tr>\n",
              "    <tr>\n",
              "      <th>min</th>\n",
              "      <td>0.0000</td>\n",
              "      <td>1.0000</td>\n",
              "      <td>1983.000000</td>\n",
              "      <td>0.000000</td>\n",
              "      <td>0.000000</td>\n",
              "      <td>0.000000</td>\n",
              "      <td>0.000000</td>\n",
              "      <td>0.830000</td>\n",
              "      <td>30.500000</td>\n",
              "    </tr>\n",
              "    <tr>\n",
              "      <th>25%</th>\n",
              "      <td>476.5000</td>\n",
              "      <td>477.5000</td>\n",
              "      <td>2000.000000</td>\n",
              "      <td>0.510000</td>\n",
              "      <td>0.230000</td>\n",
              "      <td>0.000000</td>\n",
              "      <td>0.060000</td>\n",
              "      <td>1.110000</td>\n",
              "      <td>74.000000</td>\n",
              "    </tr>\n",
              "    <tr>\n",
              "      <th>50%</th>\n",
              "      <td>953.0000</td>\n",
              "      <td>954.0000</td>\n",
              "      <td>2005.000000</td>\n",
              "      <td>0.810000</td>\n",
              "      <td>0.440000</td>\n",
              "      <td>0.020000</td>\n",
              "      <td>0.130000</td>\n",
              "      <td>1.530000</td>\n",
              "      <td>81.000000</td>\n",
              "    </tr>\n",
              "    <tr>\n",
              "      <th>75%</th>\n",
              "      <td>1429.5000</td>\n",
              "      <td>1430.5000</td>\n",
              "      <td>2008.000000</td>\n",
              "      <td>1.375000</td>\n",
              "      <td>0.810000</td>\n",
              "      <td>0.300000</td>\n",
              "      <td>0.220000</td>\n",
              "      <td>2.540000</td>\n",
              "      <td>86.230000</td>\n",
              "    </tr>\n",
              "    <tr>\n",
              "      <th>max</th>\n",
              "      <td>1906.0000</td>\n",
              "      <td>1907.0000</td>\n",
              "      <td>2012.000000</td>\n",
              "      <td>40.430000</td>\n",
              "      <td>28.390000</td>\n",
              "      <td>7.200000</td>\n",
              "      <td>8.540000</td>\n",
              "      <td>81.120000</td>\n",
              "      <td>97.000000</td>\n",
              "    </tr>\n",
              "  </tbody>\n",
              "</table>\n",
              "</div>\n",
              "      <button class=\"colab-df-convert\" onclick=\"convertToInteractive('df-e60baf8f-fab4-47ad-9a05-80ded66a326d')\"\n",
              "              title=\"Convert this dataframe to an interactive table.\"\n",
              "              style=\"display:none;\">\n",
              "        \n",
              "  <svg xmlns=\"http://www.w3.org/2000/svg\" height=\"24px\"viewBox=\"0 0 24 24\"\n",
              "       width=\"24px\">\n",
              "    <path d=\"M0 0h24v24H0V0z\" fill=\"none\"/>\n",
              "    <path d=\"M18.56 5.44l.94 2.06.94-2.06 2.06-.94-2.06-.94-.94-2.06-.94 2.06-2.06.94zm-11 1L8.5 8.5l.94-2.06 2.06-.94-2.06-.94L8.5 2.5l-.94 2.06-2.06.94zm10 10l.94 2.06.94-2.06 2.06-.94-2.06-.94-.94-2.06-.94 2.06-2.06.94z\"/><path d=\"M17.41 7.96l-1.37-1.37c-.4-.4-.92-.59-1.43-.59-.52 0-1.04.2-1.43.59L10.3 9.45l-7.72 7.72c-.78.78-.78 2.05 0 2.83L4 21.41c.39.39.9.59 1.41.59.51 0 1.02-.2 1.41-.59l7.78-7.78 2.81-2.81c.8-.78.8-2.07 0-2.86zM5.41 20L4 18.59l7.72-7.72 1.47 1.35L5.41 20z\"/>\n",
              "  </svg>\n",
              "      </button>\n",
              "      \n",
              "  <style>\n",
              "    .colab-df-container {\n",
              "      display:flex;\n",
              "      flex-wrap:wrap;\n",
              "      gap: 12px;\n",
              "    }\n",
              "\n",
              "    .colab-df-convert {\n",
              "      background-color: #E8F0FE;\n",
              "      border: none;\n",
              "      border-radius: 50%;\n",
              "      cursor: pointer;\n",
              "      display: none;\n",
              "      fill: #1967D2;\n",
              "      height: 32px;\n",
              "      padding: 0 0 0 0;\n",
              "      width: 32px;\n",
              "    }\n",
              "\n",
              "    .colab-df-convert:hover {\n",
              "      background-color: #E2EBFA;\n",
              "      box-shadow: 0px 1px 2px rgba(60, 64, 67, 0.3), 0px 1px 3px 1px rgba(60, 64, 67, 0.15);\n",
              "      fill: #174EA6;\n",
              "    }\n",
              "\n",
              "    [theme=dark] .colab-df-convert {\n",
              "      background-color: #3B4455;\n",
              "      fill: #D2E3FC;\n",
              "    }\n",
              "\n",
              "    [theme=dark] .colab-df-convert:hover {\n",
              "      background-color: #434B5C;\n",
              "      box-shadow: 0px 1px 3px 1px rgba(0, 0, 0, 0.15);\n",
              "      filter: drop-shadow(0px 1px 2px rgba(0, 0, 0, 0.3));\n",
              "      fill: #FFFFFF;\n",
              "    }\n",
              "  </style>\n",
              "\n",
              "      <script>\n",
              "        const buttonEl =\n",
              "          document.querySelector('#df-e60baf8f-fab4-47ad-9a05-80ded66a326d button.colab-df-convert');\n",
              "        buttonEl.style.display =\n",
              "          google.colab.kernel.accessAllowed ? 'block' : 'none';\n",
              "\n",
              "        async function convertToInteractive(key) {\n",
              "          const element = document.querySelector('#df-e60baf8f-fab4-47ad-9a05-80ded66a326d');\n",
              "          const dataTable =\n",
              "            await google.colab.kernel.invokeFunction('convertToInteractive',\n",
              "                                                     [key], {});\n",
              "          if (!dataTable) return;\n",
              "\n",
              "          const docLinkHtml = 'Like what you see? Visit the ' +\n",
              "            '<a target=\"_blank\" href=https://colab.research.google.com/notebooks/data_table.ipynb>data table notebook</a>'\n",
              "            + ' to learn more about interactive tables.';\n",
              "          element.innerHTML = '';\n",
              "          dataTable['output_type'] = 'display_data';\n",
              "          await google.colab.output.renderOutput(dataTable, element);\n",
              "          const docLink = document.createElement('div');\n",
              "          docLink.innerHTML = docLinkHtml;\n",
              "          element.appendChild(docLink);\n",
              "        }\n",
              "      </script>\n",
              "    </div>\n",
              "  </div>\n",
              "  "
            ]
          },
          "metadata": {},
          "execution_count": 64
        }
      ]
    },
    {
      "cell_type": "markdown",
      "source": [
        "***Renaming the columns appropriately***"
      ],
      "metadata": {
        "id": "xh_JvPUtXj7J"
      }
    },
    {
      "cell_type": "code",
      "source": [
        "video_games.rename(columns = {'Game Title':'Game_Title','North America':'North_America','Rest of World':'Rest_Of_world'}, inplace = True)"
      ],
      "metadata": {
        "id": "tLV_qfbyKjBN"
      },
      "execution_count": 65,
      "outputs": []
    },
    {
      "cell_type": "markdown",
      "source": [
        "***Checking for unique values in each column***"
      ],
      "metadata": {
        "id": "oplgTGT6XjOy"
      }
    },
    {
      "cell_type": "code",
      "source": [
        "games = video_games.Game_Title.unique()\n",
        "print(\"No. of games:\" ,len(games))\n",
        "genres = video_games.Genre.unique()\n",
        "print(\"No. of genres:\" ,len(genres))\n",
        "publishers = video_games.Publisher.unique()\n",
        "print(\"No. of publishers:\" ,len(publishers))\n",
        "platforms = video_games.Platform.unique()\n",
        "print(\"No. of platforms:\" ,len(platforms))"
      ],
      "metadata": {
        "colab": {
          "base_uri": "https://localhost:8080/"
        },
        "id": "o4XmQAFtJvxO",
        "outputId": "99c28fbb-cd70-42e3-af2e-2ca088817335"
      },
      "execution_count": 66,
      "outputs": [
        {
          "output_type": "stream",
          "name": "stdout",
          "text": [
            "No. of games: 1519\n",
            "No. of genres: 12\n",
            "No. of publishers: 95\n",
            "No. of platforms: 22\n"
          ]
        }
      ]
    },
    {
      "cell_type": "markdown",
      "source": [
        "***Checking for the missing values in the data*** "
      ],
      "metadata": {
        "id": "-h_1if5aYBTy"
      }
    },
    {
      "cell_type": "code",
      "source": [
        "nullvalue_percentage = pd.DataFrame((video_games.isnull().sum())*100/video_games.shape[0]).reset_index()\n",
        "nullvalue_percentage.columns = ['Column Name', 'Null Values Percentage']\n",
        "null_value = pd.DataFrame(video_games.isnull().sum()).reset_index()\n",
        "null_value.columns = ['Column Name', 'No. of Null Values']\n",
        "\n",
        "null_value_table = pd.merge(null_value, nullvalue_percentage, on='Column Name')\n",
        "null_value_table"
      ],
      "metadata": {
        "id": "1qJhWc7rO0vF",
        "colab": {
          "base_uri": "https://localhost:8080/",
          "height": 457
        },
        "outputId": "ef00e87b-2d92-482f-b852-d179d3c75064"
      },
      "execution_count": 67,
      "outputs": [
        {
          "output_type": "execute_result",
          "data": {
            "text/plain": [
              "      Column Name  No. of Null Values  Null Values Percentage\n",
              "0           index                   0                0.000000\n",
              "1            Rank                   0                0.000000\n",
              "2      Game_Title                   0                0.000000\n",
              "3        Platform                   0                0.000000\n",
              "4            Year                  29                1.520713\n",
              "5           Genre                   0                0.000000\n",
              "6       Publisher                   2                0.104877\n",
              "7   North_America                   0                0.000000\n",
              "8          Europe                   0                0.000000\n",
              "9           Japan                   0                0.000000\n",
              "10  Rest_Of_world                   0                0.000000\n",
              "11         Global                   0                0.000000\n",
              "12         Review                   0                0.000000"
            ],
            "text/html": [
              "\n",
              "  <div id=\"df-5653a8fd-9b5a-4c8c-b26b-1f1f4094faad\">\n",
              "    <div class=\"colab-df-container\">\n",
              "      <div>\n",
              "<style scoped>\n",
              "    .dataframe tbody tr th:only-of-type {\n",
              "        vertical-align: middle;\n",
              "    }\n",
              "\n",
              "    .dataframe tbody tr th {\n",
              "        vertical-align: top;\n",
              "    }\n",
              "\n",
              "    .dataframe thead th {\n",
              "        text-align: right;\n",
              "    }\n",
              "</style>\n",
              "<table border=\"1\" class=\"dataframe\">\n",
              "  <thead>\n",
              "    <tr style=\"text-align: right;\">\n",
              "      <th></th>\n",
              "      <th>Column Name</th>\n",
              "      <th>No. of Null Values</th>\n",
              "      <th>Null Values Percentage</th>\n",
              "    </tr>\n",
              "  </thead>\n",
              "  <tbody>\n",
              "    <tr>\n",
              "      <th>0</th>\n",
              "      <td>index</td>\n",
              "      <td>0</td>\n",
              "      <td>0.000000</td>\n",
              "    </tr>\n",
              "    <tr>\n",
              "      <th>1</th>\n",
              "      <td>Rank</td>\n",
              "      <td>0</td>\n",
              "      <td>0.000000</td>\n",
              "    </tr>\n",
              "    <tr>\n",
              "      <th>2</th>\n",
              "      <td>Game_Title</td>\n",
              "      <td>0</td>\n",
              "      <td>0.000000</td>\n",
              "    </tr>\n",
              "    <tr>\n",
              "      <th>3</th>\n",
              "      <td>Platform</td>\n",
              "      <td>0</td>\n",
              "      <td>0.000000</td>\n",
              "    </tr>\n",
              "    <tr>\n",
              "      <th>4</th>\n",
              "      <td>Year</td>\n",
              "      <td>29</td>\n",
              "      <td>1.520713</td>\n",
              "    </tr>\n",
              "    <tr>\n",
              "      <th>5</th>\n",
              "      <td>Genre</td>\n",
              "      <td>0</td>\n",
              "      <td>0.000000</td>\n",
              "    </tr>\n",
              "    <tr>\n",
              "      <th>6</th>\n",
              "      <td>Publisher</td>\n",
              "      <td>2</td>\n",
              "      <td>0.104877</td>\n",
              "    </tr>\n",
              "    <tr>\n",
              "      <th>7</th>\n",
              "      <td>North_America</td>\n",
              "      <td>0</td>\n",
              "      <td>0.000000</td>\n",
              "    </tr>\n",
              "    <tr>\n",
              "      <th>8</th>\n",
              "      <td>Europe</td>\n",
              "      <td>0</td>\n",
              "      <td>0.000000</td>\n",
              "    </tr>\n",
              "    <tr>\n",
              "      <th>9</th>\n",
              "      <td>Japan</td>\n",
              "      <td>0</td>\n",
              "      <td>0.000000</td>\n",
              "    </tr>\n",
              "    <tr>\n",
              "      <th>10</th>\n",
              "      <td>Rest_Of_world</td>\n",
              "      <td>0</td>\n",
              "      <td>0.000000</td>\n",
              "    </tr>\n",
              "    <tr>\n",
              "      <th>11</th>\n",
              "      <td>Global</td>\n",
              "      <td>0</td>\n",
              "      <td>0.000000</td>\n",
              "    </tr>\n",
              "    <tr>\n",
              "      <th>12</th>\n",
              "      <td>Review</td>\n",
              "      <td>0</td>\n",
              "      <td>0.000000</td>\n",
              "    </tr>\n",
              "  </tbody>\n",
              "</table>\n",
              "</div>\n",
              "      <button class=\"colab-df-convert\" onclick=\"convertToInteractive('df-5653a8fd-9b5a-4c8c-b26b-1f1f4094faad')\"\n",
              "              title=\"Convert this dataframe to an interactive table.\"\n",
              "              style=\"display:none;\">\n",
              "        \n",
              "  <svg xmlns=\"http://www.w3.org/2000/svg\" height=\"24px\"viewBox=\"0 0 24 24\"\n",
              "       width=\"24px\">\n",
              "    <path d=\"M0 0h24v24H0V0z\" fill=\"none\"/>\n",
              "    <path d=\"M18.56 5.44l.94 2.06.94-2.06 2.06-.94-2.06-.94-.94-2.06-.94 2.06-2.06.94zm-11 1L8.5 8.5l.94-2.06 2.06-.94-2.06-.94L8.5 2.5l-.94 2.06-2.06.94zm10 10l.94 2.06.94-2.06 2.06-.94-2.06-.94-.94-2.06-.94 2.06-2.06.94z\"/><path d=\"M17.41 7.96l-1.37-1.37c-.4-.4-.92-.59-1.43-.59-.52 0-1.04.2-1.43.59L10.3 9.45l-7.72 7.72c-.78.78-.78 2.05 0 2.83L4 21.41c.39.39.9.59 1.41.59.51 0 1.02-.2 1.41-.59l7.78-7.78 2.81-2.81c.8-.78.8-2.07 0-2.86zM5.41 20L4 18.59l7.72-7.72 1.47 1.35L5.41 20z\"/>\n",
              "  </svg>\n",
              "      </button>\n",
              "      \n",
              "  <style>\n",
              "    .colab-df-container {\n",
              "      display:flex;\n",
              "      flex-wrap:wrap;\n",
              "      gap: 12px;\n",
              "    }\n",
              "\n",
              "    .colab-df-convert {\n",
              "      background-color: #E8F0FE;\n",
              "      border: none;\n",
              "      border-radius: 50%;\n",
              "      cursor: pointer;\n",
              "      display: none;\n",
              "      fill: #1967D2;\n",
              "      height: 32px;\n",
              "      padding: 0 0 0 0;\n",
              "      width: 32px;\n",
              "    }\n",
              "\n",
              "    .colab-df-convert:hover {\n",
              "      background-color: #E2EBFA;\n",
              "      box-shadow: 0px 1px 2px rgba(60, 64, 67, 0.3), 0px 1px 3px 1px rgba(60, 64, 67, 0.15);\n",
              "      fill: #174EA6;\n",
              "    }\n",
              "\n",
              "    [theme=dark] .colab-df-convert {\n",
              "      background-color: #3B4455;\n",
              "      fill: #D2E3FC;\n",
              "    }\n",
              "\n",
              "    [theme=dark] .colab-df-convert:hover {\n",
              "      background-color: #434B5C;\n",
              "      box-shadow: 0px 1px 3px 1px rgba(0, 0, 0, 0.15);\n",
              "      filter: drop-shadow(0px 1px 2px rgba(0, 0, 0, 0.3));\n",
              "      fill: #FFFFFF;\n",
              "    }\n",
              "  </style>\n",
              "\n",
              "      <script>\n",
              "        const buttonEl =\n",
              "          document.querySelector('#df-5653a8fd-9b5a-4c8c-b26b-1f1f4094faad button.colab-df-convert');\n",
              "        buttonEl.style.display =\n",
              "          google.colab.kernel.accessAllowed ? 'block' : 'none';\n",
              "\n",
              "        async function convertToInteractive(key) {\n",
              "          const element = document.querySelector('#df-5653a8fd-9b5a-4c8c-b26b-1f1f4094faad');\n",
              "          const dataTable =\n",
              "            await google.colab.kernel.invokeFunction('convertToInteractive',\n",
              "                                                     [key], {});\n",
              "          if (!dataTable) return;\n",
              "\n",
              "          const docLinkHtml = 'Like what you see? Visit the ' +\n",
              "            '<a target=\"_blank\" href=https://colab.research.google.com/notebooks/data_table.ipynb>data table notebook</a>'\n",
              "            + ' to learn more about interactive tables.';\n",
              "          element.innerHTML = '';\n",
              "          dataTable['output_type'] = 'display_data';\n",
              "          await google.colab.output.renderOutput(dataTable, element);\n",
              "          const docLink = document.createElement('div');\n",
              "          docLink.innerHTML = docLinkHtml;\n",
              "          element.appendChild(docLink);\n",
              "        }\n",
              "      </script>\n",
              "    </div>\n",
              "  </div>\n",
              "  "
            ]
          },
          "metadata": {},
          "execution_count": 67
        }
      ]
    },
    {
      "cell_type": "markdown",
      "source": [
        "***Checking the unique number of game year missing***"
      ],
      "metadata": {
        "id": "L2B8S9ZkYN3p"
      }
    },
    {
      "cell_type": "code",
      "source": [
        "game_missedyear = video_games[video_games['Year'].isnull()][\"Game_Title\"].unique()\n",
        "print(\"Number of unique game year missing : \",len(game_missedyear))"
      ],
      "metadata": {
        "colab": {
          "base_uri": "https://localhost:8080/"
        },
        "id": "pmGz0C-7TE1t",
        "outputId": "af800320-6a2e-461b-fd83-96b58d2976cd"
      },
      "execution_count": 68,
      "outputs": [
        {
          "output_type": "stream",
          "name": "stdout",
          "text": [
            "Number of unique game year missing :  25\n"
          ]
        }
      ]
    },
    {
      "cell_type": "markdown",
      "source": [
        "***Handling the missing values by dropping them as they are diverse***"
      ],
      "metadata": {
        "id": "U3RVtqhgYbEx"
      }
    },
    {
      "cell_type": "code",
      "source": [
        "video_games.dropna(axis='rows', subset=['Year'], inplace=True)\n",
        "video_games.dropna(axis='rows', subset=['Publisher'], inplace=True)"
      ],
      "metadata": {
        "id": "PoFoJT3bBHBI"
      },
      "execution_count": 69,
      "outputs": []
    },
    {
      "cell_type": "markdown",
      "source": [
        "***Rechecking for any missing values in the data***"
      ],
      "metadata": {
        "id": "No8C6mKbYgzp"
      }
    },
    {
      "cell_type": "code",
      "source": [
        "video_games['Year'].isnull().sum()\n",
        "video_games['Publisher'].isnull().sum()"
      ],
      "metadata": {
        "colab": {
          "base_uri": "https://localhost:8080/"
        },
        "id": "lGi_YBOGC7RY",
        "outputId": "cf1e3737-56a4-4453-d426-1c0e5673b23e"
      },
      "execution_count": 70,
      "outputs": [
        {
          "output_type": "execute_result",
          "data": {
            "text/plain": [
              "0"
            ]
          },
          "metadata": {},
          "execution_count": 70
        }
      ]
    },
    {
      "cell_type": "markdown",
      "source": [
        "***Converting the datatype of Years from float to int***"
      ],
      "metadata": {
        "id": "CvXm8XnAYrAP"
      }
    },
    {
      "cell_type": "code",
      "source": [
        "video_games['Year'] = video_games['Year'].astype('int')\n",
        "video_games.info()"
      ],
      "metadata": {
        "colab": {
          "base_uri": "https://localhost:8080/"
        },
        "id": "V_Tc-XxfE94d",
        "outputId": "1a98ca8f-2f93-4a16-85ef-645893735cf1"
      },
      "execution_count": 71,
      "outputs": [
        {
          "output_type": "stream",
          "name": "stdout",
          "text": [
            "<class 'pandas.core.frame.DataFrame'>\n",
            "Int64Index: 1878 entries, 0 to 1906\n",
            "Data columns (total 13 columns):\n",
            " #   Column         Non-Null Count  Dtype  \n",
            "---  ------         --------------  -----  \n",
            " 0   index          1878 non-null   int64  \n",
            " 1   Rank           1878 non-null   int64  \n",
            " 2   Game_Title     1878 non-null   object \n",
            " 3   Platform       1878 non-null   object \n",
            " 4   Year           1878 non-null   int64  \n",
            " 5   Genre          1878 non-null   object \n",
            " 6   Publisher      1878 non-null   object \n",
            " 7   North_America  1878 non-null   float64\n",
            " 8   Europe         1878 non-null   float64\n",
            " 9   Japan          1878 non-null   float64\n",
            " 10  Rest_Of_world  1878 non-null   float64\n",
            " 11  Global         1878 non-null   float64\n",
            " 12  Review         1878 non-null   float64\n",
            "dtypes: float64(6), int64(3), object(4)\n",
            "memory usage: 205.4+ KB\n"
          ]
        }
      ]
    },
    {
      "cell_type": "code",
      "source": [
        "min_gsales_value = video_games['Global'].min()\n",
        "min_gsales_value"
      ],
      "metadata": {
        "colab": {
          "base_uri": "https://localhost:8080/"
        },
        "id": "TjideU8StUU5",
        "outputId": "93c6a40d-014e-4ca3-baf4-e65d7d5c4334"
      },
      "execution_count": 72,
      "outputs": [
        {
          "output_type": "execute_result",
          "data": {
            "text/plain": [
              "0.83"
            ]
          },
          "metadata": {},
          "execution_count": 72
        }
      ]
    },
    {
      "cell_type": "markdown",
      "source": [
        "***Checking if sales in each region equals global sales***"
      ],
      "metadata": {
        "id": "gybE-AoYZI7f"
      }
    },
    {
      "cell_type": "code",
      "source": [
        "test = video_games[video_games['Global']>min_gsales_value]\n",
        "test[test['Global'] != test['North_America']+test['Europe']+test['Japan']+test['Rest_Of_world']].shape[0]"
      ],
      "metadata": {
        "colab": {
          "base_uri": "https://localhost:8080/"
        },
        "id": "KqERO8H5t1KU",
        "outputId": "b00e71d0-63e2-42f3-ab6b-46307d235979"
      },
      "execution_count": 73,
      "outputs": [
        {
          "output_type": "execute_result",
          "data": {
            "text/plain": [
              "1024"
            ]
          },
          "metadata": {},
          "execution_count": 73
        }
      ]
    },
    {
      "cell_type": "markdown",
      "source": [
        "***Correcting the global sales value***"
      ],
      "metadata": {
        "id": "4tNwXpIuZRuV"
      }
    },
    {
      "cell_type": "code",
      "source": [
        "video_games['Global'] = video_games['North_America'] + video_games['Europe'] + video_games['Japan']+video_games['Rest_Of_world']\n",
        "\n",
        "# Rechecking\n",
        "video_games[video_games['Global'] != video_games['North_America'] + video_games['Europe'] + video_games['Japan']+video_games['Rest_Of_world']].shape[0]"
      ],
      "metadata": {
        "colab": {
          "base_uri": "https://localhost:8080/"
        },
        "id": "F_iBbm8yuIIp",
        "outputId": "5d0cd6fd-88e9-404d-bcdd-f51bbbeb5a4c"
      },
      "execution_count": 74,
      "outputs": [
        {
          "output_type": "execute_result",
          "data": {
            "text/plain": [
              "0"
            ]
          },
          "metadata": {},
          "execution_count": 74
        }
      ]
    },
    {
      "cell_type": "markdown",
      "source": [
        "*Now the data is cleaned and ready for analysis.*\n",
        "\n",
        "\n"
      ],
      "metadata": {
        "id": "rMXzGROtZZgz"
      }
    },
    {
      "cell_type": "markdown",
      "source": [
        "# **EXPLORATORY DATA ANALYSIS & VISUALIZATION**"
      ],
      "metadata": {
        "id": "ZO6rr93Nb4hd"
      }
    },
    {
      "cell_type": "markdown",
      "source": [
        "***Average sales in each country***"
      ],
      "metadata": {
        "id": "rYwrFJ1eiyES"
      }
    },
    {
      "cell_type": "code",
      "source": [
        "NA = round((video_games['North_America'].mean()*1000000),3)\n",
        "EU = round((video_games['Europe'].mean()*1000000),3)\n",
        "JP = round((video_games['Japan'].mean()*1000000),3)\n",
        "Rest = round((video_games['Rest_Of_world'].mean()*1000000),3)\n",
        "Global = round((video_games['Global'].mean()*1000000),3)\n",
        "print(\"The average sales in North America =\",NA) \n",
        "print(\"The average sales in Europe =\",EU)\n",
        "print(\"The average sales in Japan =\",JP)\n",
        "print(\"The average sales in other regions =\",Rest)\n",
        "print(\"The average sales globally =\",Global)"
      ],
      "metadata": {
        "colab": {
          "base_uri": "https://localhost:8080/"
        },
        "id": "xEC6D0rVdX8I",
        "outputId": "fa19d76a-ed57-4691-8ea9-e816c2ba04d4"
      },
      "execution_count": 75,
      "outputs": [
        {
          "output_type": "stream",
          "name": "stdout",
          "text": [
            "The average sales in North America = 1262108.626\n",
            "The average sales in Europe = 710516.507\n",
            "The average sales in Japan = 320979.766\n",
            "The average sales in other regions = 207055.378\n",
            "The average sales globally = 2500660.277\n"
          ]
        }
      ]
    },
    {
      "cell_type": "markdown",
      "source": [
        "***Barplot to visualize country with highest sales on an average***"
      ],
      "metadata": {
        "id": "0rVu3OIPNGaW"
      }
    },
    {
      "cell_type": "code",
      "source": [
        "colors = ['lightslategray',] * 4\n",
        "colors[1]='red'\n",
        "colors[2]='grey'\n",
        "colors[3]='grey'\n",
        "colors[0] = 'grey'\n",
        "bar1 = go.Figure(data=[go.Bar(\n",
        "    y=['Global','North America', 'Europe', 'Japan',\n",
        "       'Other'],\n",
        "    x=[Global,NA,EU,JP,Rest],\n",
        "    orientation='h',\n",
        "    marker_color=colors \n",
        ")])\n",
        "\n",
        "bar1.update_layout(title_text='COUNTRY WITH HIGHEST SALES ON AN AVERAGE')\n",
        "bar1.update_xaxes(title='Average Sales')\n",
        "bar1.update_yaxes(title='Regions')"
      ],
      "metadata": {
        "colab": {
          "base_uri": "https://localhost:8080/",
          "height": 542
        },
        "id": "b0Ro_6u7cem_",
        "outputId": "41ff313c-a9bb-4e3b-97ab-f2e70d7c0e07"
      },
      "execution_count": 76,
      "outputs": [
        {
          "output_type": "display_data",
          "data": {
            "text/html": [
              "<html>\n",
              "<head><meta charset=\"utf-8\" /></head>\n",
              "<body>\n",
              "    <div>            <script src=\"https://cdnjs.cloudflare.com/ajax/libs/mathjax/2.7.5/MathJax.js?config=TeX-AMS-MML_SVG\"></script><script type=\"text/javascript\">if (window.MathJax) {MathJax.Hub.Config({SVG: {font: \"STIX-Web\"}});}</script>                <script type=\"text/javascript\">window.PlotlyConfig = {MathJaxConfig: 'local'};</script>\n",
              "        <script src=\"https://cdn.plot.ly/plotly-2.8.3.min.js\"></script>                <div id=\"ed3b5299-0e45-4515-80fb-45eda1b8f765\" class=\"plotly-graph-div\" style=\"height:525px; width:100%;\"></div>            <script type=\"text/javascript\">                                    window.PLOTLYENV=window.PLOTLYENV || {};                                    if (document.getElementById(\"ed3b5299-0e45-4515-80fb-45eda1b8f765\")) {                    Plotly.newPlot(                        \"ed3b5299-0e45-4515-80fb-45eda1b8f765\",                        [{\"marker\":{\"color\":[\"grey\",\"red\",\"grey\",\"grey\"]},\"orientation\":\"h\",\"x\":[2500660.277,1262108.626,710516.507,320979.766,207055.378],\"y\":[\"Global\",\"North America\",\"Europe\",\"Japan\",\"Other\"],\"type\":\"bar\"}],                        {\"template\":{\"data\":{\"bar\":[{\"error_x\":{\"color\":\"#2a3f5f\"},\"error_y\":{\"color\":\"#2a3f5f\"},\"marker\":{\"line\":{\"color\":\"#E5ECF6\",\"width\":0.5},\"pattern\":{\"fillmode\":\"overlay\",\"size\":10,\"solidity\":0.2}},\"type\":\"bar\"}],\"barpolar\":[{\"marker\":{\"line\":{\"color\":\"#E5ECF6\",\"width\":0.5},\"pattern\":{\"fillmode\":\"overlay\",\"size\":10,\"solidity\":0.2}},\"type\":\"barpolar\"}],\"carpet\":[{\"aaxis\":{\"endlinecolor\":\"#2a3f5f\",\"gridcolor\":\"white\",\"linecolor\":\"white\",\"minorgridcolor\":\"white\",\"startlinecolor\":\"#2a3f5f\"},\"baxis\":{\"endlinecolor\":\"#2a3f5f\",\"gridcolor\":\"white\",\"linecolor\":\"white\",\"minorgridcolor\":\"white\",\"startlinecolor\":\"#2a3f5f\"},\"type\":\"carpet\"}],\"choropleth\":[{\"colorbar\":{\"outlinewidth\":0,\"ticks\":\"\"},\"type\":\"choropleth\"}],\"contour\":[{\"colorbar\":{\"outlinewidth\":0,\"ticks\":\"\"},\"colorscale\":[[0.0,\"#0d0887\"],[0.1111111111111111,\"#46039f\"],[0.2222222222222222,\"#7201a8\"],[0.3333333333333333,\"#9c179e\"],[0.4444444444444444,\"#bd3786\"],[0.5555555555555556,\"#d8576b\"],[0.6666666666666666,\"#ed7953\"],[0.7777777777777778,\"#fb9f3a\"],[0.8888888888888888,\"#fdca26\"],[1.0,\"#f0f921\"]],\"type\":\"contour\"}],\"contourcarpet\":[{\"colorbar\":{\"outlinewidth\":0,\"ticks\":\"\"},\"type\":\"contourcarpet\"}],\"heatmap\":[{\"colorbar\":{\"outlinewidth\":0,\"ticks\":\"\"},\"colorscale\":[[0.0,\"#0d0887\"],[0.1111111111111111,\"#46039f\"],[0.2222222222222222,\"#7201a8\"],[0.3333333333333333,\"#9c179e\"],[0.4444444444444444,\"#bd3786\"],[0.5555555555555556,\"#d8576b\"],[0.6666666666666666,\"#ed7953\"],[0.7777777777777778,\"#fb9f3a\"],[0.8888888888888888,\"#fdca26\"],[1.0,\"#f0f921\"]],\"type\":\"heatmap\"}],\"heatmapgl\":[{\"colorbar\":{\"outlinewidth\":0,\"ticks\":\"\"},\"colorscale\":[[0.0,\"#0d0887\"],[0.1111111111111111,\"#46039f\"],[0.2222222222222222,\"#7201a8\"],[0.3333333333333333,\"#9c179e\"],[0.4444444444444444,\"#bd3786\"],[0.5555555555555556,\"#d8576b\"],[0.6666666666666666,\"#ed7953\"],[0.7777777777777778,\"#fb9f3a\"],[0.8888888888888888,\"#fdca26\"],[1.0,\"#f0f921\"]],\"type\":\"heatmapgl\"}],\"histogram\":[{\"marker\":{\"pattern\":{\"fillmode\":\"overlay\",\"size\":10,\"solidity\":0.2}},\"type\":\"histogram\"}],\"histogram2d\":[{\"colorbar\":{\"outlinewidth\":0,\"ticks\":\"\"},\"colorscale\":[[0.0,\"#0d0887\"],[0.1111111111111111,\"#46039f\"],[0.2222222222222222,\"#7201a8\"],[0.3333333333333333,\"#9c179e\"],[0.4444444444444444,\"#bd3786\"],[0.5555555555555556,\"#d8576b\"],[0.6666666666666666,\"#ed7953\"],[0.7777777777777778,\"#fb9f3a\"],[0.8888888888888888,\"#fdca26\"],[1.0,\"#f0f921\"]],\"type\":\"histogram2d\"}],\"histogram2dcontour\":[{\"colorbar\":{\"outlinewidth\":0,\"ticks\":\"\"},\"colorscale\":[[0.0,\"#0d0887\"],[0.1111111111111111,\"#46039f\"],[0.2222222222222222,\"#7201a8\"],[0.3333333333333333,\"#9c179e\"],[0.4444444444444444,\"#bd3786\"],[0.5555555555555556,\"#d8576b\"],[0.6666666666666666,\"#ed7953\"],[0.7777777777777778,\"#fb9f3a\"],[0.8888888888888888,\"#fdca26\"],[1.0,\"#f0f921\"]],\"type\":\"histogram2dcontour\"}],\"mesh3d\":[{\"colorbar\":{\"outlinewidth\":0,\"ticks\":\"\"},\"type\":\"mesh3d\"}],\"parcoords\":[{\"line\":{\"colorbar\":{\"outlinewidth\":0,\"ticks\":\"\"}},\"type\":\"parcoords\"}],\"pie\":[{\"automargin\":true,\"type\":\"pie\"}],\"scatter\":[{\"marker\":{\"colorbar\":{\"outlinewidth\":0,\"ticks\":\"\"}},\"type\":\"scatter\"}],\"scatter3d\":[{\"line\":{\"colorbar\":{\"outlinewidth\":0,\"ticks\":\"\"}},\"marker\":{\"colorbar\":{\"outlinewidth\":0,\"ticks\":\"\"}},\"type\":\"scatter3d\"}],\"scattercarpet\":[{\"marker\":{\"colorbar\":{\"outlinewidth\":0,\"ticks\":\"\"}},\"type\":\"scattercarpet\"}],\"scattergeo\":[{\"marker\":{\"colorbar\":{\"outlinewidth\":0,\"ticks\":\"\"}},\"type\":\"scattergeo\"}],\"scattergl\":[{\"marker\":{\"colorbar\":{\"outlinewidth\":0,\"ticks\":\"\"}},\"type\":\"scattergl\"}],\"scattermapbox\":[{\"marker\":{\"colorbar\":{\"outlinewidth\":0,\"ticks\":\"\"}},\"type\":\"scattermapbox\"}],\"scatterpolar\":[{\"marker\":{\"colorbar\":{\"outlinewidth\":0,\"ticks\":\"\"}},\"type\":\"scatterpolar\"}],\"scatterpolargl\":[{\"marker\":{\"colorbar\":{\"outlinewidth\":0,\"ticks\":\"\"}},\"type\":\"scatterpolargl\"}],\"scatterternary\":[{\"marker\":{\"colorbar\":{\"outlinewidth\":0,\"ticks\":\"\"}},\"type\":\"scatterternary\"}],\"surface\":[{\"colorbar\":{\"outlinewidth\":0,\"ticks\":\"\"},\"colorscale\":[[0.0,\"#0d0887\"],[0.1111111111111111,\"#46039f\"],[0.2222222222222222,\"#7201a8\"],[0.3333333333333333,\"#9c179e\"],[0.4444444444444444,\"#bd3786\"],[0.5555555555555556,\"#d8576b\"],[0.6666666666666666,\"#ed7953\"],[0.7777777777777778,\"#fb9f3a\"],[0.8888888888888888,\"#fdca26\"],[1.0,\"#f0f921\"]],\"type\":\"surface\"}],\"table\":[{\"cells\":{\"fill\":{\"color\":\"#EBF0F8\"},\"line\":{\"color\":\"white\"}},\"header\":{\"fill\":{\"color\":\"#C8D4E3\"},\"line\":{\"color\":\"white\"}},\"type\":\"table\"}]},\"layout\":{\"annotationdefaults\":{\"arrowcolor\":\"#2a3f5f\",\"arrowhead\":0,\"arrowwidth\":1},\"autotypenumbers\":\"strict\",\"coloraxis\":{\"colorbar\":{\"outlinewidth\":0,\"ticks\":\"\"}},\"colorscale\":{\"diverging\":[[0,\"#8e0152\"],[0.1,\"#c51b7d\"],[0.2,\"#de77ae\"],[0.3,\"#f1b6da\"],[0.4,\"#fde0ef\"],[0.5,\"#f7f7f7\"],[0.6,\"#e6f5d0\"],[0.7,\"#b8e186\"],[0.8,\"#7fbc41\"],[0.9,\"#4d9221\"],[1,\"#276419\"]],\"sequential\":[[0.0,\"#0d0887\"],[0.1111111111111111,\"#46039f\"],[0.2222222222222222,\"#7201a8\"],[0.3333333333333333,\"#9c179e\"],[0.4444444444444444,\"#bd3786\"],[0.5555555555555556,\"#d8576b\"],[0.6666666666666666,\"#ed7953\"],[0.7777777777777778,\"#fb9f3a\"],[0.8888888888888888,\"#fdca26\"],[1.0,\"#f0f921\"]],\"sequentialminus\":[[0.0,\"#0d0887\"],[0.1111111111111111,\"#46039f\"],[0.2222222222222222,\"#7201a8\"],[0.3333333333333333,\"#9c179e\"],[0.4444444444444444,\"#bd3786\"],[0.5555555555555556,\"#d8576b\"],[0.6666666666666666,\"#ed7953\"],[0.7777777777777778,\"#fb9f3a\"],[0.8888888888888888,\"#fdca26\"],[1.0,\"#f0f921\"]]},\"colorway\":[\"#636efa\",\"#EF553B\",\"#00cc96\",\"#ab63fa\",\"#FFA15A\",\"#19d3f3\",\"#FF6692\",\"#B6E880\",\"#FF97FF\",\"#FECB52\"],\"font\":{\"color\":\"#2a3f5f\"},\"geo\":{\"bgcolor\":\"white\",\"lakecolor\":\"white\",\"landcolor\":\"#E5ECF6\",\"showlakes\":true,\"showland\":true,\"subunitcolor\":\"white\"},\"hoverlabel\":{\"align\":\"left\"},\"hovermode\":\"closest\",\"mapbox\":{\"style\":\"light\"},\"paper_bgcolor\":\"white\",\"plot_bgcolor\":\"#E5ECF6\",\"polar\":{\"angularaxis\":{\"gridcolor\":\"white\",\"linecolor\":\"white\",\"ticks\":\"\"},\"bgcolor\":\"#E5ECF6\",\"radialaxis\":{\"gridcolor\":\"white\",\"linecolor\":\"white\",\"ticks\":\"\"}},\"scene\":{\"xaxis\":{\"backgroundcolor\":\"#E5ECF6\",\"gridcolor\":\"white\",\"gridwidth\":2,\"linecolor\":\"white\",\"showbackground\":true,\"ticks\":\"\",\"zerolinecolor\":\"white\"},\"yaxis\":{\"backgroundcolor\":\"#E5ECF6\",\"gridcolor\":\"white\",\"gridwidth\":2,\"linecolor\":\"white\",\"showbackground\":true,\"ticks\":\"\",\"zerolinecolor\":\"white\"},\"zaxis\":{\"backgroundcolor\":\"#E5ECF6\",\"gridcolor\":\"white\",\"gridwidth\":2,\"linecolor\":\"white\",\"showbackground\":true,\"ticks\":\"\",\"zerolinecolor\":\"white\"}},\"shapedefaults\":{\"line\":{\"color\":\"#2a3f5f\"}},\"ternary\":{\"aaxis\":{\"gridcolor\":\"white\",\"linecolor\":\"white\",\"ticks\":\"\"},\"baxis\":{\"gridcolor\":\"white\",\"linecolor\":\"white\",\"ticks\":\"\"},\"bgcolor\":\"#E5ECF6\",\"caxis\":{\"gridcolor\":\"white\",\"linecolor\":\"white\",\"ticks\":\"\"}},\"title\":{\"x\":0.05},\"xaxis\":{\"automargin\":true,\"gridcolor\":\"white\",\"linecolor\":\"white\",\"ticks\":\"\",\"title\":{\"standoff\":15},\"zerolinecolor\":\"white\",\"zerolinewidth\":2},\"yaxis\":{\"automargin\":true,\"gridcolor\":\"white\",\"linecolor\":\"white\",\"ticks\":\"\",\"title\":{\"standoff\":15},\"zerolinecolor\":\"white\",\"zerolinewidth\":2}}},\"title\":{\"text\":\"COUNTRY WITH HIGHEST SALES ON AN AVERAGE\"},\"xaxis\":{\"title\":{\"text\":\"Average Sales\"}},\"yaxis\":{\"title\":{\"text\":\"Regions\"}}},                        {\"responsive\": true}                    ).then(function(){\n",
              "                            \n",
              "var gd = document.getElementById('ed3b5299-0e45-4515-80fb-45eda1b8f765');\n",
              "var x = new MutationObserver(function (mutations, observer) {{\n",
              "        var display = window.getComputedStyle(gd).display;\n",
              "        if (!display || display === 'none') {{\n",
              "            console.log([gd, 'removed!']);\n",
              "            Plotly.purge(gd);\n",
              "            observer.disconnect();\n",
              "        }}\n",
              "}});\n",
              "\n",
              "// Listen for the removal of the full notebook cells\n",
              "var notebookContainer = gd.closest('#notebook-container');\n",
              "if (notebookContainer) {{\n",
              "    x.observe(notebookContainer, {childList: true});\n",
              "}}\n",
              "\n",
              "// Listen for the clearing of the current output cell\n",
              "var outputEl = gd.closest('.output');\n",
              "if (outputEl) {{\n",
              "    x.observe(outputEl, {childList: true});\n",
              "}}\n",
              "\n",
              "                        })                };                            </script>        </div>\n",
              "</body>\n",
              "</html>"
            ]
          },
          "metadata": {}
        }
      ]
    },
    {
      "cell_type": "markdown",
      "source": [
        "***Barplot to visualise global sales of games by platform***"
      ],
      "metadata": {
        "id": "THWQGRxzN0bz"
      }
    },
    {
      "cell_type": "code",
      "source": [
        "global_sales_by_pf = video_games.groupby('Platform').agg({'Global':np.sum}).sort_values('Global')\n",
        "plt.subplots(figsize=(11,8))\n",
        "ax = sns.barplot(x=global_sales_by_pf.index, y=global_sales_by_pf.Global)\n",
        "ax.set_title('GLOBAL SALES OF GAMES BY PLATFORMS ', color='Red', size=25, alpha=0.5)\n",
        "ax.set_xlabel('Platform', color='black', size=25, alpha=0.5)\n",
        "ax.set_ylabel('Global Sales', color='black', size=25, alpha=0.5)"
      ],
      "metadata": {
        "colab": {
          "base_uri": "https://localhost:8080/",
          "height": 554
        },
        "id": "swfk4PxRP8ZE",
        "outputId": "786c4aca-2f46-4d8e-b616-69faf46cb674"
      },
      "execution_count": 77,
      "outputs": [
        {
          "output_type": "execute_result",
          "data": {
            "text/plain": [
              "Text(0, 0.5, 'Global Sales')"
            ]
          },
          "metadata": {},
          "execution_count": 77
        },
        {
          "output_type": "display_data",
          "data": {
            "text/plain": [
              "<Figure size 792x576 with 1 Axes>"
            ],
            "image/png": "[encoded data removed]"
          },
          "metadata": {
            "needs_background": "light"
          }
        }
      ]
    },
    {
      "cell_type": "markdown",
      "source": [
        "***Bar plot to visualize best platforms region wise***\n"
      ],
      "metadata": {
        "id": "10wiepNvQsGI"
      }
    },
    {
      "cell_type": "code",
      "source": [
        "platreg=video_games.groupby('Platform').agg({'North_America':'sum','Europe':'sum','Japan':'sum','Rest_Of_world':'sum'})\n",
        "platreg=platreg.sort_values('North_America',ascending=False).head(5)\n",
        "platreg.plot(kind='bar',figsize=(15,8))\n",
        "plt.xlabel('Platform')\n",
        "plt.ylabel('Sales')\n",
        "plt.title('REGION WISE BEST PERFORMING PLATFORMS')"
      ],
      "metadata": {
        "colab": {
          "base_uri": "https://localhost:8080/",
          "height": 547
        },
        "id": "oQBS3qnXJxlu",
        "outputId": "78ccb61d-502f-4c5e-c131-33917e662dd7"
      },
      "execution_count": 78,
      "outputs": [
        {
          "output_type": "execute_result",
          "data": {
            "text/plain": [
              "Text(0.5, 1.0, 'REGION WISE BEST PERFORMING PLATFORMS')"
            ]
          },
          "metadata": {},
          "execution_count": 78
        },
        {
          "output_type": "display_data",
          "data": {
            "text/plain": [
              "<Figure size 1080x576 with 1 Axes>"
            ],
            "image/png": "[encoded data removed]"
          },
          "metadata": {
            "needs_background": "light"
          }
        }
      ]
    },
    {
      "cell_type": "markdown",
      "source": [
        "***Box plot to visualize the performance of platforms over years***"
      ],
      "metadata": {
        "id": "8GoqV28gRdCK"
      }
    },
    {
      "cell_type": "code",
      "source": [
        "min_year = int(video_games['Year'].min())\n",
        "max_year = int(video_games['Year'].max())\n",
        "\n",
        "vg = video_games[video_games['Platform'].isin(['PS', 'PS2', 'PS3', 'X360', 'Wii'])]\n",
        "plt.figure(figsize=(20,4))\n",
        "sns.boxplot(data = vg, x = 'Year', y = 'Platform', color = 'grey')\n",
        "plt.xlabel('Year')\n",
        "plt.ylabel('Platform')\n",
        "plt.xticks(range(min_year,max_year,2), range(min_year,max_year,2))"
      ],
      "metadata": {
        "id": "NnoQFHyH3Ajl",
        "colab": {
          "base_uri": "https://localhost:8080/",
          "height": 815
        },
        "outputId": "78c5edfa-bec5-45e5-c641-5037db0eec94"
      },
      "execution_count": 79,
      "outputs": [
        {
          "output_type": "execute_result",
          "data": {
            "text/plain": [
              "([<matplotlib.axis.XTick at 0x7fb195f2ed90>,\n",
              "  <matplotlib.axis.XTick at 0x7fb195f2ec10>,\n",
              "  <matplotlib.axis.XTick at 0x7fb195f38d00>,\n",
              "  <matplotlib.axis.XTick at 0x7fb195e82700>,\n",
              "  <matplotlib.axis.XTick at 0x7fb192e3e760>,\n",
              "  <matplotlib.axis.XTick at 0x7fb192e3ec70>,\n",
              "  <matplotlib.axis.XTick at 0x7fb192e441c0>,\n",
              "  <matplotlib.axis.XTick at 0x7fb192e3e970>,\n",
              "  <matplotlib.axis.XTick at 0x7fb192e36a90>,\n",
              "  <matplotlib.axis.XTick at 0x7fb192e44520>,\n",
              "  <matplotlib.axis.XTick at 0x7fb192e44a30>,\n",
              "  <matplotlib.axis.XTick at 0x7fb192e44f40>,\n",
              "  <matplotlib.axis.XTick at 0x7fb192dcb490>,\n",
              "  <matplotlib.axis.XTick at 0x7fb192dcb9a0>,\n",
              "  <matplotlib.axis.XTick at 0x7fb192dcbeb0>],\n",
              " [Text(0, 0, '1983'),\n",
              "  Text(0, 0, '1985'),\n",
              "  Text(0, 0, '1987'),\n",
              "  Text(0, 0, '1989'),\n",
              "  Text(0, 0, '1991'),\n",
              "  Text(0, 0, '1993'),\n",
              "  Text(0, 0, '1995'),\n",
              "  Text(0, 0, '1997'),\n",
              "  Text(0, 0, '1999'),\n",
              "  Text(0, 0, '2001'),\n",
              "  Text(0, 0, '2003'),\n",
              "  Text(0, 0, '2005'),\n",
              "  Text(0, 0, '2007'),\n",
              "  Text(0, 0, '2009'),\n",
              "  Text(0, 0, '2011')])"
            ]
          },
          "metadata": {},
          "execution_count": 79
        },
        {
          "output_type": "display_data",
          "data": {
            "text/plain": [
              "<Figure size 1440x288 with 1 Axes>"
            ],
            "image/png": "[encoded data removed]"
          },
          "metadata": {
            "needs_background": "light"
          }
        }
      ]
    },
    {
      "cell_type": "markdown",
      "source": [
        "***Barplot to visualize best publishers region wise***"
      ],
      "metadata": {
        "id": "FWbFxi7uR9A9"
      }
    },
    {
      "cell_type": "code",
      "source": [
        "pubreg=video_games.groupby('Publisher').agg({'North_America':'sum','Europe':'sum','Japan':'sum','Rest_Of_world':'sum'})\n",
        "pubreg=pubreg.sort_values('North_America',ascending=False).head(5)\n",
        "\n",
        "\n",
        "pubreg.plot(kind='bar',figsize=(15,8))\n",
        "plt.xlabel('Publisher')\n",
        "plt.ylabel('Sales')\n",
        "plt.title('REGION WISE SALES FROM PUBLISHERS')"
      ],
      "metadata": {
        "colab": {
          "base_uri": "https://localhost:8080/",
          "height": 673
        },
        "id": "11O9pYK3IbSc",
        "outputId": "831d7cb8-ad86-4be8-af70-d03d483e2643"
      },
      "execution_count": 80,
      "outputs": [
        {
          "output_type": "execute_result",
          "data": {
            "text/plain": [
              "Text(0.5, 1.0, 'REGION WISE SALES FROM PUBLISHERS')"
            ]
          },
          "metadata": {},
          "execution_count": 80
        },
        {
          "output_type": "display_data",
          "data": {
            "text/plain": [
              "<Figure size 1080x576 with 1 Axes>"
            ],
            "image/png": "[encoded data removed]"
          },
          "metadata": {
            "needs_background": "light"
          }
        }
      ]
    },
    {
      "cell_type": "markdown",
      "source": [
        "***Barplot to visualize top genre across the globe by total sales***"
      ],
      "metadata": {
        "id": "zICdjMyJN13k"
      }
    },
    {
      "cell_type": "code",
      "source": [
        "global_sales_by_genre = video_games.groupby('Genre').agg({'Global':np.sum}).sort_values('Global')\n",
        "plt.subplots(figsize=(11,8))\n",
        "ax = sns.barplot(x=global_sales_by_genre.index, y=global_sales_by_genre.Global)\n",
        "ax.set_title('GLOBAL SALES OF GAMES BY GENRE ', color='Green', size=25, alpha=0.5)\n",
        "ax.set_xlabel('Genre', color='black', size=25, alpha=0.5)\n",
        "ax.set_ylabel('Global Sales', color='black', size=25, alpha=0.5)"
      ],
      "metadata": {
        "id": "YNuHbLPvJ-En",
        "colab": {
          "base_uri": "https://localhost:8080/",
          "height": 554
        },
        "outputId": "f6c20d4f-8710-42c8-bc76-4e26fa7606d5"
      },
      "execution_count": 81,
      "outputs": [
        {
          "output_type": "execute_result",
          "data": {
            "text/plain": [
              "Text(0, 0.5, 'Global Sales')"
            ]
          },
          "metadata": {},
          "execution_count": 81
        },
        {
          "output_type": "display_data",
          "data": {
            "text/plain": [
              "<Figure size 792x576 with 1 Axes>"
            ],
            "image/png": "[encoded data removed]"
          },
          "metadata": {
            "needs_background": "light"
          }
        }
      ]
    },
    {
      "cell_type": "markdown",
      "source": [
        "***Pivot Table to visualise region wise average sales of each games based on genre***"
      ],
      "metadata": {
        "id": "CvItq01ISdCg"
      }
    },
    {
      "cell_type": "code",
      "source": [
        "genre=pd.DataFrame(video_games.groupby(\"Genre\")[[\"North_America\",\"Europe\",\"Japan\",\"Rest_Of_world\",\"Global\"]].sum())\n",
        "genre.reset_index(level=0, inplace=True)\n",
        "genrecount=pd.DataFrame(video_games[\"Genre\"].value_counts())\n",
        "genrecount.reset_index(level=0, inplace=True)\n",
        "genrecount.rename(columns={\"Genre\": \"Counts\",\"index\":\"Genre\"}, inplace=True)\n",
        "\n",
        "genre=pd.merge(genre,genrecount,on=\"Genre\")"
      ],
      "metadata": {
        "id": "Mm-ys0KdGuy3"
      },
      "execution_count": 82,
      "outputs": []
    },
    {
      "cell_type": "code",
      "source": [
        "table_data=genre[[\"Genre\",\"North_America\",\"Europe\",\"Japan\",\"Rest_Of_world\",\"Global\"]]\n",
        "table_data = table_data.rename(columns = {\"North_America\": \"North America\", \n",
        "                                  \"Europe\":\"Europe\", \n",
        "                                  \"Japan\": \"Japan\",\"Rest_Of_world\":\"Other\",\"Global\":\"Total\"})"
      ],
      "metadata": {
        "id": "JvViGIu5HIz_"
      },
      "execution_count": 83,
      "outputs": []
    },
    {
      "cell_type": "code",
      "source": [
        "x=genre.Genre\n",
        "NA_Perce=list(genre[\"North_America\"]/genre[\"Global\"]*100)\n",
        "EU_Perce=list(genre[\"Europe\"]/genre[\"Global\"]*100)\n",
        "JP_Perce=list(genre[\"Japan\"]/genre[\"Global\"]*100)\n",
        "Other_Perce=list(genre[\"Rest_Of_world\"]/genre[\"Global\"]*100)\n",
        "\n",
        "trace1 = go.Bar(\n",
        "    x=x,\n",
        "    y=NA_Perce,\n",
        "    name=\"North America\" ,\n",
        "    xaxis='x2', yaxis='y2',\n",
        "    marker=dict(\n",
        "        color='rgb(158,202,225)',\n",
        "        line=dict(\n",
        "            color='rgb(8,48,107)',\n",
        "            width=3),\n",
        "        ),\n",
        "    opacity=0.75)\n",
        "trace2 = go.Bar(\n",
        "    x=x,\n",
        "    y=EU_Perce,\n",
        "    xaxis='x2', yaxis='y2',\n",
        "    marker=dict(\n",
        "        color='red',\n",
        "        line=dict(\n",
        "            color='rgb(8,48,107)',\n",
        "            width=3),\n",
        "        ),\n",
        "    opacity=0.75,\n",
        "    name = \"Europe\",\n",
        "    )\n",
        "trace3 = go.Bar(\n",
        "    x=x,\n",
        "    y=JP_Perce,\n",
        "    xaxis='x2', yaxis='y2',\n",
        "  \n",
        "    marker=dict(\n",
        "        color='orange',\n",
        "        line=dict(\n",
        "            color='rgb(8,48,107)',\n",
        "            width=3),\n",
        "        ),\n",
        "    opacity=0.75,\n",
        "    name = \"Japan\",\n",
        "    )\n",
        "trace4 = go.Bar(\n",
        "    x=x,\n",
        "    y=Other_Perce,\n",
        "    xaxis='x2', yaxis='y2',\n",
        "    \n",
        "    marker=dict(\n",
        "        color='purple',\n",
        "        line=dict(\n",
        "            color='rgb(8,48,107)',\n",
        "            width=3),\n",
        "        ),\n",
        "    opacity=0.75,\n",
        "    name = \"Other\",)\n",
        "trace5=go.Table(\n",
        "  header = dict(\n",
        "    values = table_data.columns,\n",
        "    line = dict(color = 'rgb(8,48,107)',width=3),\n",
        "    fill = dict(color = [\"darkslateblue\",\"blue\",\"red\", \"orange\",\"purple\",\"green\"]),\n",
        "    align = ['left','center'],\n",
        "    font = dict(color = 'white', size = 12),\n",
        "     height=30,\n",
        "  ),\n",
        "  cells = dict(\n",
        "    values = [table_data.Genre,round(table_data[\"North America\"]),round(table_data[\"Europe\"]), round(table_data[\"Japan\"]), round(table_data[\"Other\"]),round(table_data[\"Total\"])],\n",
        "    height=30,\n",
        "    line = dict(color = 'rgb(8,48,107)',width=3),\n",
        "    fill = dict(color = [\"silver\",\"rgb(158,202,225)\",\"darksalmon\", \"gold\",\"mediumorchid\",\"yellowgreen\"]),\n",
        "    align = ['left', 'center'],\n",
        "    font = dict(color = '#506784', size = 12)),\n",
        "    domain=dict(x=[0.60,1],y=[0,0.95]),\n",
        ")\n",
        "\n",
        "data = [trace1, trace2,trace3,trace4,trace5]\n",
        "layout = go.Layout(barmode='stack',autosize=False,width=1200,height=650,\n",
        "                legend=dict(x=.58, y=0,orientation=\"h\",font=dict(family='Courier New, monospace',size=11,color='#000'),\n",
        "                           bgcolor='beige', bordercolor='beige', borderwidth=1),\n",
        "                title='North America, Europe, Japan and Other Sales Percentage and Amounts According to Genre',\n",
        "                titlefont=dict(family='Courier New, monospace',size=17,color='black'),\n",
        "                xaxis2=dict(domain=[0, 0.50],anchor=\"y2\", title='Genre',titlefont=dict(family='Courier New, monospace'),tickfont=dict(family='Courier New, monospace')), yaxis2=dict( domain=[0, 1],anchor='x2',title=\"Total Percentage\",titlefont=dict(family='Courier New, monospace'),tickfont=dict(family='Courier New, monospace')),\n",
        "                paper_bgcolor='beige',plot_bgcolor='beige',\n",
        "                annotations=[ dict( text='Sales Percentage According to Region',x=0.08,y=1.02,xref=\"paper\",yref=\"paper\",showarrow=False,font=dict(size=15,family=\"Courier New, monospace\"),bgcolor=\"lightyellow\",borderwidth=5),dict( text='Total Sales(In Millions)',x=0.9,y=1.02,xref=\"paper\",yref=\"paper\",showarrow=False,font=dict(size=15,family='Courier New, monospace'),bgcolor=\"lightyellow\",borderwidth=5)],\n",
        "              \n",
        "                  )\n",
        "fig = go.Figure(data=data, layout=layout)\n",
        "iplot(fig)"
      ],
      "metadata": {
        "colab": {
          "base_uri": "https://localhost:8080/",
          "height": 667
        },
        "id": "6jW929CRHga8",
        "outputId": "977b9df2-f5ec-4f6f-d704-86eaf8f1cefe"
      },
      "execution_count": 84,
      "outputs": [
        {
          "output_type": "display_data",
          "data": {
            "text/html": [
              "<html>\n",
              "<head><meta charset=\"utf-8\" /></head>\n",
              "<body>\n",
              "    <div>            <script src=\"https://cdnjs.cloudflare.com/ajax/libs/mathjax/2.7.5/MathJax.js?config=TeX-AMS-MML_SVG\"></script><script type=\"text/javascript\">if (window.MathJax) {MathJax.Hub.Config({SVG: {font: \"STIX-Web\"}});}</script>                <script type=\"text/javascript\">window.PlotlyConfig = {MathJaxConfig: 'local'};</script>\n",
              "        <script src=\"https://cdn.plot.ly/plotly-2.8.3.min.js\"></script>                <div id=\"c085f2c2-16ab-4ae7-a484-801e2a901aa3\" class=\"plotly-graph-div\" style=\"height:650px; width:1200px;\"></div>            <script type=\"text/javascript\">                                    window.PLOTLYENV=window.PLOTLYENV || {};                                    if (document.getElementById(\"c085f2c2-16ab-4ae7-a484-801e2a901aa3\")) {                    Plotly.newPlot(                        \"c085f2c2-16ab-4ae7-a484-801e2a901aa3\",                        [{\"marker\":{\"color\":\"rgb(158,202,225)\",\"line\":{\"color\":\"rgb(8,48,107)\",\"width\":3}},\"name\":\"North America\",\"opacity\":0.75,\"x\":[\"Action\",\"Adventure\",\"Fighting\",\"Misc\",\"Platform\",\"Puzzle\",\"Racing\",\"Role-Playing\",\"Shooter\",\"Simulation\",\"Sports\",\"Strategy\"],\"xaxis\":\"x2\",\"y\":[50.30512323194096,48.21863051790059,53.45311166212756,47.80012947466852,53.21735025877037,55.88587206626783,47.63018918376897,39.918644891020584,59.91114642779745,49.31967812728602,50.25965196510971,56.289690582353735],\"yaxis\":\"y2\",\"type\":\"bar\"},{\"marker\":{\"color\":\"red\",\"line\":{\"color\":\"rgb(8,48,107)\",\"width\":3}},\"name\":\"Europe\",\"opacity\":0.75,\"x\":[\"Action\",\"Adventure\",\"Fighting\",\"Misc\",\"Platform\",\"Puzzle\",\"Racing\",\"Role-Playing\",\"Shooter\",\"Simulation\",\"Sports\",\"Strategy\"],\"xaxis\":\"x2\",\"y\":[32.2989103868048,32.50782064650678,25.393276696069268,31.042750617402355,23.4292553819181,17.100782328578003,33.43806404171402,20.37318114666181,27.87871126200968,31.250914411119236,31.51408196033617,24.53722469936495],\"yaxis\":\"y2\",\"type\":\"bar\"},{\"marker\":{\"color\":\"orange\",\"line\":{\"color\":\"rgb(8,48,107)\",\"width\":3}},\"name\":\"Japan\",\"opacity\":0.75,\"x\":[\"Action\",\"Adventure\",\"Fighting\",\"Misc\",\"Platform\",\"Puzzle\",\"Racing\",\"Role-Playing\",\"Shooter\",\"Simulation\",\"Sports\",\"Strategy\"],\"xaxis\":\"x2\",\"y\":[7.199962155258054,11.46159193604449,13.824641274744929,12.175414199055314,17.56098383317318,23.00966405890474,9.664193239298527,33.9505798069334,2.568084952683667,11.855644964642769,8.16131692005034,14.484529117686797],\"yaxis\":\"y2\",\"type\":\"bar\"},{\"marker\":{\"color\":\"purple\",\"line\":{\"color\":\"rgb(8,48,107)\",\"width\":3}},\"name\":\"Other\",\"opacity\":0.75,\"x\":[\"Action\",\"Adventure\",\"Fighting\",\"Misc\",\"Platform\",\"Puzzle\",\"Racing\",\"Role-Playing\",\"Shooter\",\"Simulation\",\"Sports\",\"Strategy\"],\"xaxis\":\"x2\",\"y\":[10.196004225996184,7.81195689954814,7.3289703670582504,8.981705708873811,5.792410526138337,4.003681546249424,9.267553535218486,5.7575941553842105,9.64205735750921,7.573762496951962,10.064949154503768,4.688555600594515],\"yaxis\":\"y2\",\"type\":\"bar\"},{\"cells\":{\"align\":[\"left\",\"center\"],\"fill\":{\"color\":[\"silver\",\"rgb(158,202,225)\",\"darksalmon\",\"gold\",\"mediumorchid\",\"yellowgreen\"]},\"font\":{\"color\":\"#506784\",\"size\":12},\"height\":30,\"line\":{\"color\":\"rgb(8,48,107)\",\"width\":3},\"values\":[[\"Action\",\"Adventure\",\"Fighting\",\"Misc\",\"Platform\",\"Puzzle\",\"Racing\",\"Role-Playing\",\"Shooter\",\"Simulation\",\"Sports\",\"Strategy\"],[319.0,111.0,132.0,199.0,316.0,61.0,214.0,197.0,332.0,101.0,347.0,42.0],[205.0,75.0,62.0,129.0,139.0,19.0,150.0,101.0,154.0,64.0,218.0,18.0],[46.0,26.0,34.0,51.0,104.0,25.0,43.0,168.0,14.0,24.0,56.0,11.0],[65.0,18.0,18.0,37.0,34.0,4.0,42.0,28.0,53.0,16.0,70.0,3.0],[634.0,230.0,246.0,417.0,593.0,109.0,449.0,494.0,554.0,205.0,691.0,74.0]]},\"domain\":{\"x\":[0.6,1],\"y\":[0,0.95]},\"header\":{\"align\":[\"left\",\"center\"],\"fill\":{\"color\":[\"darkslateblue\",\"blue\",\"red\",\"orange\",\"purple\",\"green\"]},\"font\":{\"color\":\"white\",\"size\":12},\"height\":30,\"line\":{\"color\":\"rgb(8,48,107)\",\"width\":3},\"values\":[\"Genre\",\"North America\",\"Europe\",\"Japan\",\"Other\",\"Total\"]},\"type\":\"table\"}],                        {\"annotations\":[{\"bgcolor\":\"lightyellow\",\"borderwidth\":5,\"font\":{\"family\":\"Courier New, monospace\",\"size\":15},\"showarrow\":false,\"text\":\"Sales Percentage According to Region\",\"x\":0.08,\"xref\":\"paper\",\"y\":1.02,\"yref\":\"paper\"},{\"bgcolor\":\"lightyellow\",\"borderwidth\":5,\"font\":{\"family\":\"Courier New, monospace\",\"size\":15},\"showarrow\":false,\"text\":\"Total Sales(In Millions)\",\"x\":0.9,\"xref\":\"paper\",\"y\":1.02,\"yref\":\"paper\"}],\"autosize\":false,\"barmode\":\"stack\",\"height\":650,\"legend\":{\"bgcolor\":\"beige\",\"bordercolor\":\"beige\",\"borderwidth\":1,\"font\":{\"color\":\"#000\",\"family\":\"Courier New, monospace\",\"size\":11},\"orientation\":\"h\",\"x\":0.58,\"y\":0},\"paper_bgcolor\":\"beige\",\"plot_bgcolor\":\"beige\",\"template\":{\"data\":{\"barpolar\":[{\"marker\":{\"line\":{\"color\":\"#E5ECF6\",\"width\":0.5},\"pattern\":{\"fillmode\":\"overlay\",\"size\":10,\"solidity\":0.2}},\"type\":\"barpolar\"}],\"bar\":[{\"error_x\":{\"color\":\"#2a3f5f\"},\"error_y\":{\"color\":\"#2a3f5f\"},\"marker\":{\"line\":{\"color\":\"#E5ECF6\",\"width\":0.5},\"pattern\":{\"fillmode\":\"overlay\",\"size\":10,\"solidity\":0.2}},\"type\":\"bar\"}],\"carpet\":[{\"aaxis\":{\"endlinecolor\":\"#2a3f5f\",\"gridcolor\":\"white\",\"linecolor\":\"white\",\"minorgridcolor\":\"white\",\"startlinecolor\":\"#2a3f5f\"},\"baxis\":{\"endlinecolor\":\"#2a3f5f\",\"gridcolor\":\"white\",\"linecolor\":\"white\",\"minorgridcolor\":\"white\",\"startlinecolor\":\"#2a3f5f\"},\"type\":\"carpet\"}],\"choropleth\":[{\"colorbar\":{\"outlinewidth\":0,\"ticks\":\"\"},\"type\":\"choropleth\"}],\"contourcarpet\":[{\"colorbar\":{\"outlinewidth\":0,\"ticks\":\"\"},\"type\":\"contourcarpet\"}],\"contour\":[{\"colorbar\":{\"outlinewidth\":0,\"ticks\":\"\"},\"colorscale\":[[0.0,\"#0d0887\"],[0.1111111111111111,\"#46039f\"],[0.2222222222222222,\"#7201a8\"],[0.3333333333333333,\"#9c179e\"],[0.4444444444444444,\"#bd3786\"],[0.5555555555555556,\"#d8576b\"],[0.6666666666666666,\"#ed7953\"],[0.7777777777777778,\"#fb9f3a\"],[0.8888888888888888,\"#fdca26\"],[1.0,\"#f0f921\"]],\"type\":\"contour\"}],\"heatmapgl\":[{\"colorbar\":{\"outlinewidth\":0,\"ticks\":\"\"},\"colorscale\":[[0.0,\"#0d0887\"],[0.1111111111111111,\"#46039f\"],[0.2222222222222222,\"#7201a8\"],[0.3333333333333333,\"#9c179e\"],[0.4444444444444444,\"#bd3786\"],[0.5555555555555556,\"#d8576b\"],[0.6666666666666666,\"#ed7953\"],[0.7777777777777778,\"#fb9f3a\"],[0.8888888888888888,\"#fdca26\"],[1.0,\"#f0f921\"]],\"type\":\"heatmapgl\"}],\"heatmap\":[{\"colorbar\":{\"outlinewidth\":0,\"ticks\":\"\"},\"colorscale\":[[0.0,\"#0d0887\"],[0.1111111111111111,\"#46039f\"],[0.2222222222222222,\"#7201a8\"],[0.3333333333333333,\"#9c179e\"],[0.4444444444444444,\"#bd3786\"],[0.5555555555555556,\"#d8576b\"],[0.6666666666666666,\"#ed7953\"],[0.7777777777777778,\"#fb9f3a\"],[0.8888888888888888,\"#fdca26\"],[1.0,\"#f0f921\"]],\"type\":\"heatmap\"}],\"histogram2dcontour\":[{\"colorbar\":{\"outlinewidth\":0,\"ticks\":\"\"},\"colorscale\":[[0.0,\"#0d0887\"],[0.1111111111111111,\"#46039f\"],[0.2222222222222222,\"#7201a8\"],[0.3333333333333333,\"#9c179e\"],[0.4444444444444444,\"#bd3786\"],[0.5555555555555556,\"#d8576b\"],[0.6666666666666666,\"#ed7953\"],[0.7777777777777778,\"#fb9f3a\"],[0.8888888888888888,\"#fdca26\"],[1.0,\"#f0f921\"]],\"type\":\"histogram2dcontour\"}],\"histogram2d\":[{\"colorbar\":{\"outlinewidth\":0,\"ticks\":\"\"},\"colorscale\":[[0.0,\"#0d0887\"],[0.1111111111111111,\"#46039f\"],[0.2222222222222222,\"#7201a8\"],[0.3333333333333333,\"#9c179e\"],[0.4444444444444444,\"#bd3786\"],[0.5555555555555556,\"#d8576b\"],[0.6666666666666666,\"#ed7953\"],[0.7777777777777778,\"#fb9f3a\"],[0.8888888888888888,\"#fdca26\"],[1.0,\"#f0f921\"]],\"type\":\"histogram2d\"}],\"histogram\":[{\"marker\":{\"pattern\":{\"fillmode\":\"overlay\",\"size\":10,\"solidity\":0.2}},\"type\":\"histogram\"}],\"mesh3d\":[{\"colorbar\":{\"outlinewidth\":0,\"ticks\":\"\"},\"type\":\"mesh3d\"}],\"parcoords\":[{\"line\":{\"colorbar\":{\"outlinewidth\":0,\"ticks\":\"\"}},\"type\":\"parcoords\"}],\"pie\":[{\"automargin\":true,\"type\":\"pie\"}],\"scatter3d\":[{\"line\":{\"colorbar\":{\"outlinewidth\":0,\"ticks\":\"\"}},\"marker\":{\"colorbar\":{\"outlinewidth\":0,\"ticks\":\"\"}},\"type\":\"scatter3d\"}],\"scattercarpet\":[{\"marker\":{\"colorbar\":{\"outlinewidth\":0,\"ticks\":\"\"}},\"type\":\"scattercarpet\"}],\"scattergeo\":[{\"marker\":{\"colorbar\":{\"outlinewidth\":0,\"ticks\":\"\"}},\"type\":\"scattergeo\"}],\"scattergl\":[{\"marker\":{\"colorbar\":{\"outlinewidth\":0,\"ticks\":\"\"}},\"type\":\"scattergl\"}],\"scattermapbox\":[{\"marker\":{\"colorbar\":{\"outlinewidth\":0,\"ticks\":\"\"}},\"type\":\"scattermapbox\"}],\"scatterpolargl\":[{\"marker\":{\"colorbar\":{\"outlinewidth\":0,\"ticks\":\"\"}},\"type\":\"scatterpolargl\"}],\"scatterpolar\":[{\"marker\":{\"colorbar\":{\"outlinewidth\":0,\"ticks\":\"\"}},\"type\":\"scatterpolar\"}],\"scatter\":[{\"marker\":{\"colorbar\":{\"outlinewidth\":0,\"ticks\":\"\"}},\"type\":\"scatter\"}],\"scatterternary\":[{\"marker\":{\"colorbar\":{\"outlinewidth\":0,\"ticks\":\"\"}},\"type\":\"scatterternary\"}],\"surface\":[{\"colorbar\":{\"outlinewidth\":0,\"ticks\":\"\"},\"colorscale\":[[0.0,\"#0d0887\"],[0.1111111111111111,\"#46039f\"],[0.2222222222222222,\"#7201a8\"],[0.3333333333333333,\"#9c179e\"],[0.4444444444444444,\"#bd3786\"],[0.5555555555555556,\"#d8576b\"],[0.6666666666666666,\"#ed7953\"],[0.7777777777777778,\"#fb9f3a\"],[0.8888888888888888,\"#fdca26\"],[1.0,\"#f0f921\"]],\"type\":\"surface\"}],\"table\":[{\"cells\":{\"fill\":{\"color\":\"#EBF0F8\"},\"line\":{\"color\":\"white\"}},\"header\":{\"fill\":{\"color\":\"#C8D4E3\"},\"line\":{\"color\":\"white\"}},\"type\":\"table\"}]},\"layout\":{\"annotationdefaults\":{\"arrowcolor\":\"#2a3f5f\",\"arrowhead\":0,\"arrowwidth\":1},\"autotypenumbers\":\"strict\",\"coloraxis\":{\"colorbar\":{\"outlinewidth\":0,\"ticks\":\"\"}},\"colorscale\":{\"diverging\":[[0,\"#8e0152\"],[0.1,\"#c51b7d\"],[0.2,\"#de77ae\"],[0.3,\"#f1b6da\"],[0.4,\"#fde0ef\"],[0.5,\"#f7f7f7\"],[0.6,\"#e6f5d0\"],[0.7,\"#b8e186\"],[0.8,\"#7fbc41\"],[0.9,\"#4d9221\"],[1,\"#276419\"]],\"sequential\":[[0.0,\"#0d0887\"],[0.1111111111111111,\"#46039f\"],[0.2222222222222222,\"#7201a8\"],[0.3333333333333333,\"#9c179e\"],[0.4444444444444444,\"#bd3786\"],[0.5555555555555556,\"#d8576b\"],[0.6666666666666666,\"#ed7953\"],[0.7777777777777778,\"#fb9f3a\"],[0.8888888888888888,\"#fdca26\"],[1.0,\"#f0f921\"]],\"sequentialminus\":[[0.0,\"#0d0887\"],[0.1111111111111111,\"#46039f\"],[0.2222222222222222,\"#7201a8\"],[0.3333333333333333,\"#9c179e\"],[0.4444444444444444,\"#bd3786\"],[0.5555555555555556,\"#d8576b\"],[0.6666666666666666,\"#ed7953\"],[0.7777777777777778,\"#fb9f3a\"],[0.8888888888888888,\"#fdca26\"],[1.0,\"#f0f921\"]]},\"colorway\":[\"#636efa\",\"#EF553B\",\"#00cc96\",\"#ab63fa\",\"#FFA15A\",\"#19d3f3\",\"#FF6692\",\"#B6E880\",\"#FF97FF\",\"#FECB52\"],\"font\":{\"color\":\"#2a3f5f\"},\"geo\":{\"bgcolor\":\"white\",\"lakecolor\":\"white\",\"landcolor\":\"#E5ECF6\",\"showlakes\":true,\"showland\":true,\"subunitcolor\":\"white\"},\"hoverlabel\":{\"align\":\"left\"},\"hovermode\":\"closest\",\"mapbox\":{\"style\":\"light\"},\"paper_bgcolor\":\"white\",\"plot_bgcolor\":\"#E5ECF6\",\"polar\":{\"angularaxis\":{\"gridcolor\":\"white\",\"linecolor\":\"white\",\"ticks\":\"\"},\"bgcolor\":\"#E5ECF6\",\"radialaxis\":{\"gridcolor\":\"white\",\"linecolor\":\"white\",\"ticks\":\"\"}},\"scene\":{\"xaxis\":{\"backgroundcolor\":\"#E5ECF6\",\"gridcolor\":\"white\",\"gridwidth\":2,\"linecolor\":\"white\",\"showbackground\":true,\"ticks\":\"\",\"zerolinecolor\":\"white\"},\"yaxis\":{\"backgroundcolor\":\"#E5ECF6\",\"gridcolor\":\"white\",\"gridwidth\":2,\"linecolor\":\"white\",\"showbackground\":true,\"ticks\":\"\",\"zerolinecolor\":\"white\"},\"zaxis\":{\"backgroundcolor\":\"#E5ECF6\",\"gridcolor\":\"white\",\"gridwidth\":2,\"linecolor\":\"white\",\"showbackground\":true,\"ticks\":\"\",\"zerolinecolor\":\"white\"}},\"shapedefaults\":{\"line\":{\"color\":\"#2a3f5f\"}},\"ternary\":{\"aaxis\":{\"gridcolor\":\"white\",\"linecolor\":\"white\",\"ticks\":\"\"},\"baxis\":{\"gridcolor\":\"white\",\"linecolor\":\"white\",\"ticks\":\"\"},\"bgcolor\":\"#E5ECF6\",\"caxis\":{\"gridcolor\":\"white\",\"linecolor\":\"white\",\"ticks\":\"\"}},\"title\":{\"x\":0.05},\"xaxis\":{\"automargin\":true,\"gridcolor\":\"white\",\"linecolor\":\"white\",\"ticks\":\"\",\"title\":{\"standoff\":15},\"zerolinecolor\":\"white\",\"zerolinewidth\":2},\"yaxis\":{\"automargin\":true,\"gridcolor\":\"white\",\"linecolor\":\"white\",\"ticks\":\"\",\"title\":{\"standoff\":15},\"zerolinecolor\":\"white\",\"zerolinewidth\":2}}},\"title\":{\"font\":{\"color\":\"black\",\"family\":\"Courier New, monospace\",\"size\":17},\"text\":\"North America, Europe, Japan and Other Sales Percentage and Amounts According to Genre\"},\"width\":1200,\"xaxis2\":{\"anchor\":\"y2\",\"domain\":[0,0.5],\"tickfont\":{\"family\":\"Courier New, monospace\"},\"title\":{\"font\":{\"family\":\"Courier New, monospace\"},\"text\":\"Genre\"}},\"yaxis2\":{\"anchor\":\"x2\",\"domain\":[0,1],\"tickfont\":{\"family\":\"Courier New, monospace\"},\"title\":{\"font\":{\"family\":\"Courier New, monospace\"},\"text\":\"Total Percentage\"}}},                        {\"responsive\": true}                    ).then(function(){\n",
              "                            \n",
              "var gd = document.getElementById('c085f2c2-16ab-4ae7-a484-801e2a901aa3');\n",
              "var x = new MutationObserver(function (mutations, observer) {{\n",
              "        var display = window.getComputedStyle(gd).display;\n",
              "        if (!display || display === 'none') {{\n",
              "            console.log([gd, 'removed!']);\n",
              "            Plotly.purge(gd);\n",
              "            observer.disconnect();\n",
              "        }}\n",
              "}});\n",
              "\n",
              "// Listen for the removal of the full notebook cells\n",
              "var notebookContainer = gd.closest('#notebook-container');\n",
              "if (notebookContainer) {{\n",
              "    x.observe(notebookContainer, {childList: true});\n",
              "}}\n",
              "\n",
              "// Listen for the clearing of the current output cell\n",
              "var outputEl = gd.closest('.output');\n",
              "if (outputEl) {{\n",
              "    x.observe(outputEl, {childList: true});\n",
              "}}\n",
              "\n",
              "                        })                };                            </script>        </div>\n",
              "</body>\n",
              "</html>"
            ]
          },
          "metadata": {}
        }
      ]
    },
    {
      "cell_type": "markdown",
      "source": [
        "***Bubble chart for interactive visualization of release year with the game rankings***"
      ],
      "metadata": {
        "id": "M_5JDd3bS0xF"
      }
    },
    {
      "cell_type": "code",
      "source": [
        "video_game=video_games.head(100)\n",
        "fig={\n",
        "    \"data\" : [\n",
        "    {\n",
        "        'x': video_game.Rank,\n",
        "        'y': video_game.Year,\n",
        "        'mode': 'markers',\n",
        "        'marker': {\n",
        "            \"color\":video_game.Global,\n",
        "            'size': video_game.Global,\n",
        "            'showscale': True,\n",
        "            \"colorscale\":'Blackbody'\n",
        "        },\n",
        "        \"text\" :  \"Name:\"+ video_game.Game_Title +\",\"+\" Publisher:\" + video_game.Publisher\n",
        "        \n",
        "    },\n",
        "],\n",
        "\"layout\":\n",
        "    {\n",
        "    \"title\":\"RELEASE YEARS OF GAMES BASED ON GLOBAL SALES AND RANKING\",\n",
        "    \"xaxis\":{\n",
        "        \"title\":\"Rank\",\n",
        "        \"gridcolor\":'rgb(255, 255, 255)',\n",
        "        \"zerolinewidth\":1,\n",
        "        \"ticklen\":5,\n",
        "        \"gridwidth\":2,\n",
        "    },\n",
        "    \"yaxis\":{\n",
        "        \"title\":'Years',\n",
        "        \"gridcolor\":'rgb(255, 255, 255)',\n",
        "        \"zerolinewidth\":1,\n",
        "        \"ticklen\":5,\n",
        "        \"gridwidth\":2,\n",
        "    },\n",
        "    \n",
        "    \"paper_bgcolor\":'rgb(243, 243, 243)',\n",
        "    \"plot_bgcolor\":'rgb(243, 243, 243)'\n",
        "    }}\n",
        "\n",
        "iplot(fig)"
      ],
      "metadata": {
        "colab": {
          "base_uri": "https://localhost:8080/",
          "height": 542
        },
        "id": "m4sjwS9jqpXb",
        "outputId": "9a1243be-7eb6-4ad2-d382-41ac11e541a5"
      },
      "execution_count": 88,
      "outputs": [
        {
          "output_type": "display_data",
          "data": {
            "text/html": [
              "<html>\n",
              "<head><meta charset=\"utf-8\" /></head>\n",
              "<body>\n",
              "    <div>            <script src=\"https://cdnjs.cloudflare.com/ajax/libs/mathjax/2.7.5/MathJax.js?config=TeX-AMS-MML_SVG\"></script><script type=\"text/javascript\">if (window.MathJax) {MathJax.Hub.Config({SVG: {font: \"STIX-Web\"}});}</script>                <script type=\"text/javascript\">window.PlotlyConfig = {MathJaxConfig: 'local'};</script>\n",
              "        <script src=\"https://cdn.plot.ly/plotly-2.8.3.min.js\"></script>                <div id=\"53736ab7-7ccd-4511-baf4-4c8a1ab6a63d\" class=\"plotly-graph-div\" style=\"height:525px; width:100%;\"></div>            <script type=\"text/javascript\">                                    window.PLOTLYENV=window.PLOTLYENV || {};                                    if (document.getElementById(\"53736ab7-7ccd-4511-baf4-4c8a1ab6a63d\")) {                    Plotly.newPlot(                        \"53736ab7-7ccd-4511-baf4-4c8a1ab6a63d\",                        [{\"marker\":{\"color\":[81.13,40.24,33.559999999999995,31.519999999999996,30.259999999999998,29.08,28.709999999999997,28.31,26.74,24.49,23.09,22.740000000000002,22.47,21.150000000000002,20.810000000000002,20.62,20.02,19.9,18.14,18.05,17.28,16.150000000000002,15.84,15.23,14.870000000000001,14.87,14.64,14.64,13.9,13.100000000000001,13.0,12.65,11.9,11.89,11.85,11.85,11.74,11.58,11.52,11.36,11.23,11.179999999999998,11.149999999999999,10.75,10.55,10.49,10.180000000000001,10.12,9.94,9.870000000000001,9.860000000000001,9.780000000000001,9.719999999999999,9.66,9.4,9.379999999999999,9.36,9.3,8.879999999999999,8.82,8.77,8.7,8.48,8.23,8.09,8.09,8.040000000000001,8.03,7.9399999999999995,7.89,7.87,7.86,7.710000000000001,7.6,7.5200000000000005,7.470000000000001,7.46,7.199999999999999,7.180000000000001,7.12,7.06,7.010000000000001,6.96,6.950000000000001,6.92,6.9,6.84,6.76,6.71,6.6,6.56,6.499999999999999,6.430000000000001,6.420000000000001,6.39,6.390000000000001,6.32,6.31,6.29,6.3100000000000005],\"colorscale\":[[0.0,\"rgb(0,0,0)\"],[0.25,\"rgb(230,0,0)\"],[0.5,\"rgb(230,210,0)\"],[0.75,\"rgb(255,255,255)\"],[1.0,\"rgb(160,200,255)\"]],\"showscale\":true,\"size\":[81.13,40.24,33.559999999999995,31.519999999999996,30.259999999999998,29.08,28.709999999999997,28.31,26.74,24.49,23.09,22.740000000000002,22.47,21.150000000000002,20.810000000000002,20.62,20.02,19.9,18.14,18.05,17.28,16.150000000000002,15.84,15.23,14.870000000000001,14.87,14.64,14.64,13.9,13.100000000000001,13.0,12.65,11.9,11.89,11.85,11.85,11.74,11.58,11.52,11.36,11.23,11.179999999999998,11.149999999999999,10.75,10.55,10.49,10.180000000000001,10.12,9.94,9.870000000000001,9.860000000000001,9.780000000000001,9.719999999999999,9.66,9.4,9.379999999999999,9.36,9.3,8.879999999999999,8.82,8.77,8.7,8.48,8.23,8.09,8.09,8.040000000000001,8.03,7.9399999999999995,7.89,7.87,7.86,7.710000000000001,7.6,7.5200000000000005,7.470000000000001,7.46,7.199999999999999,7.180000000000001,7.12,7.06,7.010000000000001,6.96,6.950000000000001,6.92,6.9,6.84,6.76,6.71,6.6,6.56,6.499999999999999,6.430000000000001,6.420000000000001,6.39,6.390000000000001,6.32,6.31,6.29,6.3100000000000005]},\"mode\":\"markers\",\"text\":[\"Name:Wii Sports, Publisher:Nintendo\",\"Name:Super Mario Bros., Publisher:Nintendo\",\"Name:Mario Kart Wii, Publisher:Nintendo\",\"Name:Wii Sports Resort, Publisher:Nintendo\",\"Name:Tetris, Publisher:Nintendo\",\"Name:New Super Mario Bros., Publisher:Nintendo\",\"Name:Wii Play, Publisher:Nintendo\",\"Name:Duck Hunt, Publisher:Nintendo\",\"Name:New Super Mario Bros. Wii, Publisher:Nintendo\",\"Name:Nintendogs, Publisher:Nintendo\",\"Name:Pok\\u00e9mon Gold / Silver Version, Publisher:Nintendo\",\"Name:Wii Fit, Publisher:Nintendo\",\"Name:Mario Kart DS, Publisher:Nintendo\",\"Name:Wii Fit Plus, Publisher:Nintendo\",\"Name:Grand Theft Auto: San Andreas, Publisher:Take-Two Interactive\",\"Name:Super Mario World, Publisher:Nintendo\",\"Name:Brain Age: Train Your Brain in Minutes a Day, Publisher:Nintendo\",\"Name:Kinect Adventures!, Publisher:Microsoft Game Studios\",\"Name:Super Mario Land, Publisher:Nintendo\",\"Name:Pok\\u00e9mon Diamond / Pearl Version, Publisher:Nintendo\",\"Name:Super Mario Bros. 3, Publisher:Nintendo\",\"Name:Grand Theft Auto: Vice City, Publisher:Take-Two Interactive\",\"Name:Pok\\u00e9mon Ruby / Sapphire Version, Publisher:Nintendo\",\"Name:Brain Age 2: More Training in Minutes a Day, Publisher:Nintendo\",\"Name:Gran Turismo 3: A-Spec, Publisher:Sony Computer Entertainment\",\"Name:Call of Duty: Modern Warfare 3, Publisher:Activision\",\"Name:Pok\\u00e9mon Yellow: Special Pikachu Edition, Publisher:Nintendo\",\"Name:Pok\\u00e9mon Black / White Version, Publisher:Nintendo\",\"Name:Call of Duty: Black Ops, Publisher:Activision\",\"Name:Grand Theft Auto III, Publisher:Take-Two Interactive\",\"Name:Call of Duty: Modern Warfare 2, Publisher:Activision\",\"Name:Call of Duty: Modern Warfare 3, Publisher:Activision\",\"Name:Super Mario 64, Publisher:Nintendo\",\"Name:Call of Duty: Black Ops, Publisher:Activision\",\"Name:Call of Duty: Black Ops II, Publisher:Activision\",\"Name:Animal Crossing: Wild World, Publisher:Nintendo\",\"Name:Halo 3, Publisher:Microsoft Game Studios\",\"Name:Super Smash Bros. Brawl, Publisher:Nintendo\",\"Name:Pok\\u00e9mon Heart Gold / Soul Silver Version, Publisher:Nintendo\",\"Name:Gran Turismo 4, Publisher:Sony Computer Entertainment\",\"Name:The Sims, Publisher:Electronic Arts\",\"Name:Super Mario Land 2: 6 Golden Coins, Publisher:Nintendo\",\"Name:Gran Turismo, Publisher:Sony Computer Entertainment\",\"Name:Super Mario Galaxy, Publisher:Nintendo\",\"Name:Super Mario All-Stars, Publisher:Nintendo\",\"Name:Pok\\u00e9mon FireRed / LeafGreen Version, Publisher:Nintendo\",\"Name:Grand Theft Auto IV, Publisher:Take-Two Interactive\",\"Name:Call of Duty: Modern Warfare 2, Publisher:Activision\",\"Name:Super Mario 64 DS, Publisher:Nintendo\",\"Name:Mario Kart 64, Publisher:Nintendo\",\"Name:Call of Duty: Black Ops II, Publisher:Activision\",\"Name:Just Dance 3, Publisher:Ubisoft\",\"Name:Final Fantasy VII, Publisher:Sony Computer Entertainment\",\"Name:Grand Theft Auto IV, Publisher:Take-Two Interactive\",\"Name:Halo: Reach, Publisher:Microsoft Game Studios\",\"Name:Just Dance 2, Publisher:Ubisoft\",\"Name:Gran Turismo 2, Publisher:Sony Computer Entertainment\",\"Name:Donkey Kong Country, Publisher:Nintendo\",\"Name:Call of Duty 4: Modern Warfare, Publisher:Activision\",\"Name:Gran Turismo 5, Publisher:Sony Computer Entertainment\",\"Name:Super Mario Kart, Publisher:Nintendo\",\"Name:Mario Party DS, Publisher:Nintendo\",\"Name:Halo 2, Publisher:Microsoft Game Studios\",\"Name:Super Mario 3D Land, Publisher:Nintendo\",\"Name:Wii Party, Publisher:Nintendo\",\"Name:GoldenEye 007, Publisher:Nintendo\",\"Name:Final Fantasy X, Publisher:Sony Computer Entertainment\",\"Name:Myst, Publisher:Red Orb\",\"Name:Halo 4, Publisher:Microsoft Game Studios\",\"Name:Mario Party 8, Publisher:Nintendo\",\"Name:Mario & Sonic at the Olympic Games, Publisher:Nintendo\",\"Name:Final Fantasy VIII, Publisher:Square\",\"Name:Mario Kart 7, Publisher:Nintendo\",\"Name:The Legend of Zelda: Ocarina of Time, Publisher:Nintendo\",\"Name:Pok\\u00e9mon Platinum Version, Publisher:Nintendo\",\"Name:Grand Theft Auto: Liberty City Stories, Publisher:Take-Two Interactive\",\"Name:Super Mario Bros. 2, Publisher:Nintendo\",\"Name:Need for Speed Underground, Publisher:Electronic Arts\",\"Name:Tekken 3, Publisher:Sony Computer Entertainment\",\"Name:The Elder Scrolls V: Skyrim, Publisher:Bethesda Softworks\",\"Name:Super Smash Bros. Melee, Publisher:Nintendo\",\"Name:Super Mario Galaxy 2, Publisher:Nintendo\",\"Name:Just Dance, Publisher:Ubisoft\",\"Name:Mario Kart: Double Dash!!, Publisher:Nintendo\",\"Name:Call of Duty: World at War, Publisher:Activision\",\"Name:Need for Speed Underground 2, Publisher:Electronic Arts\",\"Name:Medal of Honor: Frontline, Publisher:Electronic Arts\",\"Name:The Legend of Zelda: Twilight Princess, Publisher:Nintendo\",\"Name:Battlefield 3, Publisher:Electronic Arts\",\"Name:Gears of War 2, Publisher:Microsoft Game Studios\",\"Name:Big Brain Academy, Publisher:Nintendo\",\"Name:The Legend of Zelda, Publisher:Nintendo\",\"Name:Halo: Combat Evolved, Publisher:Microsoft Game Studios\",\"Name:Pok\\u00e9mon Emerald Version, Publisher:Nintendo\",\"Name:Pok\\u00e9mon Crystal Version, Publisher:Nintendo\",\"Name:Pokemon Black / White Version 2, Publisher:Nintendo\",\"Name:FIFA Soccer 12, Publisher:Electronic Arts\",\"Name:Super Mario Sunshine, Publisher:Nintendo\",\"Name:Street Fighter II: The World Warrior, Publisher:Capcom\",\"Name:Zumba Fitness, Publisher:505 Games\"],\"x\":[1,2,3,4,5,6,7,8,9,10,11,12,13,14,15,16,17,18,19,20,21,22,23,24,25,26,27,28,29,30,31,32,33,34,35,36,37,38,39,40,41,42,43,44,45,46,47,48,49,50,51,52,53,54,55,56,57,58,59,60,61,62,63,64,65,66,67,68,69,70,71,72,73,74,75,76,77,78,79,80,81,82,83,84,85,86,87,88,89,90,91,92,93,94,95,96,97,98,99,100],\"y\":[2006,1985,2008,2009,1989,2006,2006,1984,2009,2005,1999,2007,2005,2009,2004,1990,2005,2010,1989,2006,1988,2002,2002,2005,2001,2011,1998,2010,2010,2001,2009,2011,1996,2010,2012,2005,2007,2008,2009,2004,2000,1992,1997,2007,1993,2004,2008,2009,2004,1996,2012,2011,1997,2008,2010,2010,1999,1994,2007,2010,1992,2007,2004,2011,2010,1997,2001,1994,2012,2007,2007,1999,2011,1998,2008,2005,1988,2003,1998,2011,2001,2010,2009,2003,2008,2004,2002,2006,2011,2008,2005,1986,2001,2004,2000,2012,2011,2002,1992,2010],\"type\":\"scatter\"}],                        {\"paper_bgcolor\":\"rgb(243, 243, 243)\",\"plot_bgcolor\":\"rgb(243, 243, 243)\",\"template\":{\"data\":{\"barpolar\":[{\"marker\":{\"line\":{\"color\":\"#E5ECF6\",\"width\":0.5},\"pattern\":{\"fillmode\":\"overlay\",\"size\":10,\"solidity\":0.2}},\"type\":\"barpolar\"}],\"bar\":[{\"error_x\":{\"color\":\"#2a3f5f\"},\"error_y\":{\"color\":\"#2a3f5f\"},\"marker\":{\"line\":{\"color\":\"#E5ECF6\",\"width\":0.5},\"pattern\":{\"fillmode\":\"overlay\",\"size\":10,\"solidity\":0.2}},\"type\":\"bar\"}],\"carpet\":[{\"aaxis\":{\"endlinecolor\":\"#2a3f5f\",\"gridcolor\":\"white\",\"linecolor\":\"white\",\"minorgridcolor\":\"white\",\"startlinecolor\":\"#2a3f5f\"},\"baxis\":{\"endlinecolor\":\"#2a3f5f\",\"gridcolor\":\"white\",\"linecolor\":\"white\",\"minorgridcolor\":\"white\",\"startlinecolor\":\"#2a3f5f\"},\"type\":\"carpet\"}],\"choropleth\":[{\"colorbar\":{\"outlinewidth\":0,\"ticks\":\"\"},\"type\":\"choropleth\"}],\"contourcarpet\":[{\"colorbar\":{\"outlinewidth\":0,\"ticks\":\"\"},\"type\":\"contourcarpet\"}],\"contour\":[{\"colorbar\":{\"outlinewidth\":0,\"ticks\":\"\"},\"colorscale\":[[0.0,\"#0d0887\"],[0.1111111111111111,\"#46039f\"],[0.2222222222222222,\"#7201a8\"],[0.3333333333333333,\"#9c179e\"],[0.4444444444444444,\"#bd3786\"],[0.5555555555555556,\"#d8576b\"],[0.6666666666666666,\"#ed7953\"],[0.7777777777777778,\"#fb9f3a\"],[0.8888888888888888,\"#fdca26\"],[1.0,\"#f0f921\"]],\"type\":\"contour\"}],\"heatmapgl\":[{\"colorbar\":{\"outlinewidth\":0,\"ticks\":\"\"},\"colorscale\":[[0.0,\"#0d0887\"],[0.1111111111111111,\"#46039f\"],[0.2222222222222222,\"#7201a8\"],[0.3333333333333333,\"#9c179e\"],[0.4444444444444444,\"#bd3786\"],[0.5555555555555556,\"#d8576b\"],[0.6666666666666666,\"#ed7953\"],[0.7777777777777778,\"#fb9f3a\"],[0.8888888888888888,\"#fdca26\"],[1.0,\"#f0f921\"]],\"type\":\"heatmapgl\"}],\"heatmap\":[{\"colorbar\":{\"outlinewidth\":0,\"ticks\":\"\"},\"colorscale\":[[0.0,\"#0d0887\"],[0.1111111111111111,\"#46039f\"],[0.2222222222222222,\"#7201a8\"],[0.3333333333333333,\"#9c179e\"],[0.4444444444444444,\"#bd3786\"],[0.5555555555555556,\"#d8576b\"],[0.6666666666666666,\"#ed7953\"],[0.7777777777777778,\"#fb9f3a\"],[0.8888888888888888,\"#fdca26\"],[1.0,\"#f0f921\"]],\"type\":\"heatmap\"}],\"histogram2dcontour\":[{\"colorbar\":{\"outlinewidth\":0,\"ticks\":\"\"},\"colorscale\":[[0.0,\"#0d0887\"],[0.1111111111111111,\"#46039f\"],[0.2222222222222222,\"#7201a8\"],[0.3333333333333333,\"#9c179e\"],[0.4444444444444444,\"#bd3786\"],[0.5555555555555556,\"#d8576b\"],[0.6666666666666666,\"#ed7953\"],[0.7777777777777778,\"#fb9f3a\"],[0.8888888888888888,\"#fdca26\"],[1.0,\"#f0f921\"]],\"type\":\"histogram2dcontour\"}],\"histogram2d\":[{\"colorbar\":{\"outlinewidth\":0,\"ticks\":\"\"},\"colorscale\":[[0.0,\"#0d0887\"],[0.1111111111111111,\"#46039f\"],[0.2222222222222222,\"#7201a8\"],[0.3333333333333333,\"#9c179e\"],[0.4444444444444444,\"#bd3786\"],[0.5555555555555556,\"#d8576b\"],[0.6666666666666666,\"#ed7953\"],[0.7777777777777778,\"#fb9f3a\"],[0.8888888888888888,\"#fdca26\"],[1.0,\"#f0f921\"]],\"type\":\"histogram2d\"}],\"histogram\":[{\"marker\":{\"pattern\":{\"fillmode\":\"overlay\",\"size\":10,\"solidity\":0.2}},\"type\":\"histogram\"}],\"mesh3d\":[{\"colorbar\":{\"outlinewidth\":0,\"ticks\":\"\"},\"type\":\"mesh3d\"}],\"parcoords\":[{\"line\":{\"colorbar\":{\"outlinewidth\":0,\"ticks\":\"\"}},\"type\":\"parcoords\"}],\"pie\":[{\"automargin\":true,\"type\":\"pie\"}],\"scatter3d\":[{\"line\":{\"colorbar\":{\"outlinewidth\":0,\"ticks\":\"\"}},\"marker\":{\"colorbar\":{\"outlinewidth\":0,\"ticks\":\"\"}},\"type\":\"scatter3d\"}],\"scattercarpet\":[{\"marker\":{\"colorbar\":{\"outlinewidth\":0,\"ticks\":\"\"}},\"type\":\"scattercarpet\"}],\"scattergeo\":[{\"marker\":{\"colorbar\":{\"outlinewidth\":0,\"ticks\":\"\"}},\"type\":\"scattergeo\"}],\"scattergl\":[{\"marker\":{\"colorbar\":{\"outlinewidth\":0,\"ticks\":\"\"}},\"type\":\"scattergl\"}],\"scattermapbox\":[{\"marker\":{\"colorbar\":{\"outlinewidth\":0,\"ticks\":\"\"}},\"type\":\"scattermapbox\"}],\"scatterpolargl\":[{\"marker\":{\"colorbar\":{\"outlinewidth\":0,\"ticks\":\"\"}},\"type\":\"scatterpolargl\"}],\"scatterpolar\":[{\"marker\":{\"colorbar\":{\"outlinewidth\":0,\"ticks\":\"\"}},\"type\":\"scatterpolar\"}],\"scatter\":[{\"marker\":{\"colorbar\":{\"outlinewidth\":0,\"ticks\":\"\"}},\"type\":\"scatter\"}],\"scatterternary\":[{\"marker\":{\"colorbar\":{\"outlinewidth\":0,\"ticks\":\"\"}},\"type\":\"scatterternary\"}],\"surface\":[{\"colorbar\":{\"outlinewidth\":0,\"ticks\":\"\"},\"colorscale\":[[0.0,\"#0d0887\"],[0.1111111111111111,\"#46039f\"],[0.2222222222222222,\"#7201a8\"],[0.3333333333333333,\"#9c179e\"],[0.4444444444444444,\"#bd3786\"],[0.5555555555555556,\"#d8576b\"],[0.6666666666666666,\"#ed7953\"],[0.7777777777777778,\"#fb9f3a\"],[0.8888888888888888,\"#fdca26\"],[1.0,\"#f0f921\"]],\"type\":\"surface\"}],\"table\":[{\"cells\":{\"fill\":{\"color\":\"#EBF0F8\"},\"line\":{\"color\":\"white\"}},\"header\":{\"fill\":{\"color\":\"#C8D4E3\"},\"line\":{\"color\":\"white\"}},\"type\":\"table\"}]},\"layout\":{\"annotationdefaults\":{\"arrowcolor\":\"#2a3f5f\",\"arrowhead\":0,\"arrowwidth\":1},\"autotypenumbers\":\"strict\",\"coloraxis\":{\"colorbar\":{\"outlinewidth\":0,\"ticks\":\"\"}},\"colorscale\":{\"diverging\":[[0,\"#8e0152\"],[0.1,\"#c51b7d\"],[0.2,\"#de77ae\"],[0.3,\"#f1b6da\"],[0.4,\"#fde0ef\"],[0.5,\"#f7f7f7\"],[0.6,\"#e6f5d0\"],[0.7,\"#b8e186\"],[0.8,\"#7fbc41\"],[0.9,\"#4d9221\"],[1,\"#276419\"]],\"sequential\":[[0.0,\"#0d0887\"],[0.1111111111111111,\"#46039f\"],[0.2222222222222222,\"#7201a8\"],[0.3333333333333333,\"#9c179e\"],[0.4444444444444444,\"#bd3786\"],[0.5555555555555556,\"#d8576b\"],[0.6666666666666666,\"#ed7953\"],[0.7777777777777778,\"#fb9f3a\"],[0.8888888888888888,\"#fdca26\"],[1.0,\"#f0f921\"]],\"sequentialminus\":[[0.0,\"#0d0887\"],[0.1111111111111111,\"#46039f\"],[0.2222222222222222,\"#7201a8\"],[0.3333333333333333,\"#9c179e\"],[0.4444444444444444,\"#bd3786\"],[0.5555555555555556,\"#d8576b\"],[0.6666666666666666,\"#ed7953\"],[0.7777777777777778,\"#fb9f3a\"],[0.8888888888888888,\"#fdca26\"],[1.0,\"#f0f921\"]]},\"colorway\":[\"#636efa\",\"#EF553B\",\"#00cc96\",\"#ab63fa\",\"#FFA15A\",\"#19d3f3\",\"#FF6692\",\"#B6E880\",\"#FF97FF\",\"#FECB52\"],\"font\":{\"color\":\"#2a3f5f\"},\"geo\":{\"bgcolor\":\"white\",\"lakecolor\":\"white\",\"landcolor\":\"#E5ECF6\",\"showlakes\":true,\"showland\":true,\"subunitcolor\":\"white\"},\"hoverlabel\":{\"align\":\"left\"},\"hovermode\":\"closest\",\"mapbox\":{\"style\":\"light\"},\"paper_bgcolor\":\"white\",\"plot_bgcolor\":\"#E5ECF6\",\"polar\":{\"angularaxis\":{\"gridcolor\":\"white\",\"linecolor\":\"white\",\"ticks\":\"\"},\"bgcolor\":\"#E5ECF6\",\"radialaxis\":{\"gridcolor\":\"white\",\"linecolor\":\"white\",\"ticks\":\"\"}},\"scene\":{\"xaxis\":{\"backgroundcolor\":\"#E5ECF6\",\"gridcolor\":\"white\",\"gridwidth\":2,\"linecolor\":\"white\",\"showbackground\":true,\"ticks\":\"\",\"zerolinecolor\":\"white\"},\"yaxis\":{\"backgroundcolor\":\"#E5ECF6\",\"gridcolor\":\"white\",\"gridwidth\":2,\"linecolor\":\"white\",\"showbackground\":true,\"ticks\":\"\",\"zerolinecolor\":\"white\"},\"zaxis\":{\"backgroundcolor\":\"#E5ECF6\",\"gridcolor\":\"white\",\"gridwidth\":2,\"linecolor\":\"white\",\"showbackground\":true,\"ticks\":\"\",\"zerolinecolor\":\"white\"}},\"shapedefaults\":{\"line\":{\"color\":\"#2a3f5f\"}},\"ternary\":{\"aaxis\":{\"gridcolor\":\"white\",\"linecolor\":\"white\",\"ticks\":\"\"},\"baxis\":{\"gridcolor\":\"white\",\"linecolor\":\"white\",\"ticks\":\"\"},\"bgcolor\":\"#E5ECF6\",\"caxis\":{\"gridcolor\":\"white\",\"linecolor\":\"white\",\"ticks\":\"\"}},\"title\":{\"x\":0.05},\"xaxis\":{\"automargin\":true,\"gridcolor\":\"white\",\"linecolor\":\"white\",\"ticks\":\"\",\"title\":{\"standoff\":15},\"zerolinecolor\":\"white\",\"zerolinewidth\":2},\"yaxis\":{\"automargin\":true,\"gridcolor\":\"white\",\"linecolor\":\"white\",\"ticks\":\"\",\"title\":{\"standoff\":15},\"zerolinecolor\":\"white\",\"zerolinewidth\":2}}},\"title\":{\"text\":\"RELEASE YEARS OF GAMES BASED ON GLOBAL SALES AND RANKING\"},\"xaxis\":{\"gridcolor\":\"rgb(255, 255, 255)\",\"gridwidth\":2,\"ticklen\":5,\"title\":{\"text\":\"Rank\"},\"zerolinewidth\":1},\"yaxis\":{\"gridcolor\":\"rgb(255, 255, 255)\",\"gridwidth\":2,\"ticklen\":5,\"title\":{\"text\":\"Years\"},\"zerolinewidth\":1}},                        {\"responsive\": true}                    ).then(function(){\n",
              "                            \n",
              "var gd = document.getElementById('53736ab7-7ccd-4511-baf4-4c8a1ab6a63d');\n",
              "var x = new MutationObserver(function (mutations, observer) {{\n",
              "        var display = window.getComputedStyle(gd).display;\n",
              "        if (!display || display === 'none') {{\n",
              "            console.log([gd, 'removed!']);\n",
              "            Plotly.purge(gd);\n",
              "            observer.disconnect();\n",
              "        }}\n",
              "}});\n",
              "\n",
              "// Listen for the removal of the full notebook cells\n",
              "var notebookContainer = gd.closest('#notebook-container');\n",
              "if (notebookContainer) {{\n",
              "    x.observe(notebookContainer, {childList: true});\n",
              "}}\n",
              "\n",
              "// Listen for the clearing of the current output cell\n",
              "var outputEl = gd.closest('.output');\n",
              "if (outputEl) {{\n",
              "    x.observe(outputEl, {childList: true});\n",
              "}}\n",
              "\n",
              "                        })                };                            </script>        </div>\n",
              "</body>\n",
              "</html>"
            ]
          },
          "metadata": {}
        }
      ]
    },
    {
      "cell_type": "markdown",
      "source": [
        "***Top 10 games by global sales***"
      ],
      "metadata": {
        "id": "Du0iBW4kTbGL"
      }
    },
    {
      "cell_type": "code",
      "source": [
        "top = pd.DataFrame(video_games.groupby(\"Game_Title\")[[\"Global\"]].sum().sort_values(by=['Global'],ascending=[False]).reset_index())\n",
        "top.head(10)"
      ],
      "metadata": {
        "colab": {
          "base_uri": "https://localhost:8080/",
          "height": 363
        },
        "id": "7rlRasIPrJlz",
        "outputId": "3fda42e7-dcae-4b79-eac9-2fe00d6ceb2d"
      },
      "execution_count": 89,
      "outputs": [
        {
          "output_type": "execute_result",
          "data": {
            "text/plain": [
              "                       Game_Title  Global\n",
              "0                      Wii Sports   81.13\n",
              "1               Super Mario Bros.   40.24\n",
              "2                          Tetris   35.84\n",
              "3                  Mario Kart Wii   33.56\n",
              "4               Wii Sports Resort   31.52\n",
              "5           New Super Mario Bros.   29.08\n",
              "6                        Wii Play   28.71\n",
              "7                       Duck Hunt   28.31\n",
              "8  Call of Duty: Modern Warfare 3   27.52\n",
              "9         Call of Duty: Black Ops   27.05"
            ],
            "text/html": [
              "\n",
              "  <div id=\"df-761d5f92-53b8-4edd-962c-9a1f6291019c\">\n",
              "    <div class=\"colab-df-container\">\n",
              "      <div>\n",
              "<style scoped>\n",
              "    .dataframe tbody tr th:only-of-type {\n",
              "        vertical-align: middle;\n",
              "    }\n",
              "\n",
              "    .dataframe tbody tr th {\n",
              "        vertical-align: top;\n",
              "    }\n",
              "\n",
              "    .dataframe thead th {\n",
              "        text-align: right;\n",
              "    }\n",
              "</style>\n",
              "<table border=\"1\" class=\"dataframe\">\n",
              "  <thead>\n",
              "    <tr style=\"text-align: right;\">\n",
              "      <th></th>\n",
              "      <th>Game_Title</th>\n",
              "      <th>Global</th>\n",
              "    </tr>\n",
              "  </thead>\n",
              "  <tbody>\n",
              "    <tr>\n",
              "      <th>0</th>\n",
              "      <td>Wii Sports</td>\n",
              "      <td>81.13</td>\n",
              "    </tr>\n",
              "    <tr>\n",
              "      <th>1</th>\n",
              "      <td>Super Mario Bros.</td>\n",
              "      <td>40.24</td>\n",
              "    </tr>\n",
              "    <tr>\n",
              "      <th>2</th>\n",
              "      <td>Tetris</td>\n",
              "      <td>35.84</td>\n",
              "    </tr>\n",
              "    <tr>\n",
              "      <th>3</th>\n",
              "      <td>Mario Kart Wii</td>\n",
              "      <td>33.56</td>\n",
              "    </tr>\n",
              "    <tr>\n",
              "      <th>4</th>\n",
              "      <td>Wii Sports Resort</td>\n",
              "      <td>31.52</td>\n",
              "    </tr>\n",
              "    <tr>\n",
              "      <th>5</th>\n",
              "      <td>New Super Mario Bros.</td>\n",
              "      <td>29.08</td>\n",
              "    </tr>\n",
              "    <tr>\n",
              "      <th>6</th>\n",
              "      <td>Wii Play</td>\n",
              "      <td>28.71</td>\n",
              "    </tr>\n",
              "    <tr>\n",
              "      <th>7</th>\n",
              "      <td>Duck Hunt</td>\n",
              "      <td>28.31</td>\n",
              "    </tr>\n",
              "    <tr>\n",
              "      <th>8</th>\n",
              "      <td>Call of Duty: Modern Warfare 3</td>\n",
              "      <td>27.52</td>\n",
              "    </tr>\n",
              "    <tr>\n",
              "      <th>9</th>\n",
              "      <td>Call of Duty: Black Ops</td>\n",
              "      <td>27.05</td>\n",
              "    </tr>\n",
              "  </tbody>\n",
              "</table>\n",
              "</div>\n",
              "      <button class=\"colab-df-convert\" onclick=\"convertToInteractive('df-761d5f92-53b8-4edd-962c-9a1f6291019c')\"\n",
              "              title=\"Convert this dataframe to an interactive table.\"\n",
              "              style=\"display:none;\">\n",
              "        \n",
              "  <svg xmlns=\"http://www.w3.org/2000/svg\" height=\"24px\"viewBox=\"0 0 24 24\"\n",
              "       width=\"24px\">\n",
              "    <path d=\"M0 0h24v24H0V0z\" fill=\"none\"/>\n",
              "    <path d=\"M18.56 5.44l.94 2.06.94-2.06 2.06-.94-2.06-.94-.94-2.06-.94 2.06-2.06.94zm-11 1L8.5 8.5l.94-2.06 2.06-.94-2.06-.94L8.5 2.5l-.94 2.06-2.06.94zm10 10l.94 2.06.94-2.06 2.06-.94-2.06-.94-.94-2.06-.94 2.06-2.06.94z\"/><path d=\"M17.41 7.96l-1.37-1.37c-.4-.4-.92-.59-1.43-.59-.52 0-1.04.2-1.43.59L10.3 9.45l-7.72 7.72c-.78.78-.78 2.05 0 2.83L4 21.41c.39.39.9.59 1.41.59.51 0 1.02-.2 1.41-.59l7.78-7.78 2.81-2.81c.8-.78.8-2.07 0-2.86zM5.41 20L4 18.59l7.72-7.72 1.47 1.35L5.41 20z\"/>\n",
              "  </svg>\n",
              "      </button>\n",
              "      \n",
              "  <style>\n",
              "    .colab-df-container {\n",
              "      display:flex;\n",
              "      flex-wrap:wrap;\n",
              "      gap: 12px;\n",
              "    }\n",
              "\n",
              "    .colab-df-convert {\n",
              "      background-color: #E8F0FE;\n",
              "      border: none;\n",
              "      border-radius: 50%;\n",
              "      cursor: pointer;\n",
              "      display: none;\n",
              "      fill: #1967D2;\n",
              "      height: 32px;\n",
              "      padding: 0 0 0 0;\n",
              "      width: 32px;\n",
              "    }\n",
              "\n",
              "    .colab-df-convert:hover {\n",
              "      background-color: #E2EBFA;\n",
              "      box-shadow: 0px 1px 2px rgba(60, 64, 67, 0.3), 0px 1px 3px 1px rgba(60, 64, 67, 0.15);\n",
              "      fill: #174EA6;\n",
              "    }\n",
              "\n",
              "    [theme=dark] .colab-df-convert {\n",
              "      background-color: #3B4455;\n",
              "      fill: #D2E3FC;\n",
              "    }\n",
              "\n",
              "    [theme=dark] .colab-df-convert:hover {\n",
              "      background-color: #434B5C;\n",
              "      box-shadow: 0px 1px 3px 1px rgba(0, 0, 0, 0.15);\n",
              "      filter: drop-shadow(0px 1px 2px rgba(0, 0, 0, 0.3));\n",
              "      fill: #FFFFFF;\n",
              "    }\n",
              "  </style>\n",
              "\n",
              "      <script>\n",
              "        const buttonEl =\n",
              "          document.querySelector('#df-761d5f92-53b8-4edd-962c-9a1f6291019c button.colab-df-convert');\n",
              "        buttonEl.style.display =\n",
              "          google.colab.kernel.accessAllowed ? 'block' : 'none';\n",
              "\n",
              "        async function convertToInteractive(key) {\n",
              "          const element = document.querySelector('#df-761d5f92-53b8-4edd-962c-9a1f6291019c');\n",
              "          const dataTable =\n",
              "            await google.colab.kernel.invokeFunction('convertToInteractive',\n",
              "                                                     [key], {});\n",
              "          if (!dataTable) return;\n",
              "\n",
              "          const docLinkHtml = 'Like what you see? Visit the ' +\n",
              "            '<a target=\"_blank\" href=https://colab.research.google.com/notebooks/data_table.ipynb>data table notebook</a>'\n",
              "            + ' to learn more about interactive tables.';\n",
              "          element.innerHTML = '';\n",
              "          dataTable['output_type'] = 'display_data';\n",
              "          await google.colab.output.renderOutput(dataTable, element);\n",
              "          const docLink = document.createElement('div');\n",
              "          docLink.innerHTML = docLinkHtml;\n",
              "          element.appendChild(docLink);\n",
              "        }\n",
              "      </script>\n",
              "    </div>\n",
              "  </div>\n",
              "  "
            ]
          },
          "metadata": {},
          "execution_count": 89
        }
      ]
    },
    {
      "cell_type": "markdown",
      "source": [
        "***Pie chart to visualize top 10 games sold globally***"
      ],
      "metadata": {
        "id": "ak0BBe2fTmSb"
      }
    },
    {
      "cell_type": "code",
      "source": [
        "pie1 = px.pie(top, values=top['Global'][:10], names=top['Game_Title'][:10],title='TOP 10 GAMES BY GLOBAL SALES', \n",
        "              color_discrete_sequence=px.colors.sequential.Purp_r)\n",
        "pie1.update_traces(textposition='inside', textinfo='percent+label',showlegend=False)\n",
        "\n",
        "pie1.show()"
      ],
      "metadata": {
        "colab": {
          "base_uri": "https://localhost:8080/",
          "height": 542
        },
        "id": "o4kvMCtVuu8p",
        "outputId": "3932ec2c-9698-477f-f075-660339cb5c75"
      },
      "execution_count": 90,
      "outputs": [
        {
          "output_type": "display_data",
          "data": {
            "text/html": [
              "<html>\n",
              "<head><meta charset=\"utf-8\" /></head>\n",
              "<body>\n",
              "    <div>            <script src=\"https://cdnjs.cloudflare.com/ajax/libs/mathjax/2.7.5/MathJax.js?config=TeX-AMS-MML_SVG\"></script><script type=\"text/javascript\">if (window.MathJax) {MathJax.Hub.Config({SVG: {font: \"STIX-Web\"}});}</script>                <script type=\"text/javascript\">window.PlotlyConfig = {MathJaxConfig: 'local'};</script>\n",
              "        <script src=\"https://cdn.plot.ly/plotly-2.8.3.min.js\"></script>                <div id=\"e346b645-c1e6-4923-a37b-a2600be25c89\" class=\"plotly-graph-div\" style=\"height:525px; width:100%;\"></div>            <script type=\"text/javascript\">                                    window.PLOTLYENV=window.PLOTLYENV || {};                                    if (document.getElementById(\"e346b645-c1e6-4923-a37b-a2600be25c89\")) {                    Plotly.newPlot(                        \"e346b645-c1e6-4923-a37b-a2600be25c89\",                        [{\"domain\":{\"x\":[0.0,1.0],\"y\":[0.0,1.0]},\"hovertemplate\":\"label=%{label}<br>value=%{value}<extra></extra>\",\"labels\":[\"Wii Sports\",\"Super Mario Bros.\",\"Tetris\",\"Mario Kart Wii\",\"Wii Sports Resort\",\"New Super Mario Bros.\",\"Wii Play\",\"Duck Hunt\",\"Call of Duty: Modern Warfare 3\",\"Call of Duty: Black Ops\"],\"legendgroup\":\"\",\"name\":\"\",\"showlegend\":false,\"values\":[81.13,40.24,35.839999999999996,33.559999999999995,31.519999999999996,29.08,28.709999999999997,28.31,27.52,27.05],\"type\":\"pie\",\"textinfo\":\"percent+label\",\"textposition\":\"inside\"}],                        {\"template\":{\"data\":{\"bar\":[{\"error_x\":{\"color\":\"#2a3f5f\"},\"error_y\":{\"color\":\"#2a3f5f\"},\"marker\":{\"line\":{\"color\":\"#E5ECF6\",\"width\":0.5},\"pattern\":{\"fillmode\":\"overlay\",\"size\":10,\"solidity\":0.2}},\"type\":\"bar\"}],\"barpolar\":[{\"marker\":{\"line\":{\"color\":\"#E5ECF6\",\"width\":0.5},\"pattern\":{\"fillmode\":\"overlay\",\"size\":10,\"solidity\":0.2}},\"type\":\"barpolar\"}],\"carpet\":[{\"aaxis\":{\"endlinecolor\":\"#2a3f5f\",\"gridcolor\":\"white\",\"linecolor\":\"white\",\"minorgridcolor\":\"white\",\"startlinecolor\":\"#2a3f5f\"},\"baxis\":{\"endlinecolor\":\"#2a3f5f\",\"gridcolor\":\"white\",\"linecolor\":\"white\",\"minorgridcolor\":\"white\",\"startlinecolor\":\"#2a3f5f\"},\"type\":\"carpet\"}],\"choropleth\":[{\"colorbar\":{\"outlinewidth\":0,\"ticks\":\"\"},\"type\":\"choropleth\"}],\"contour\":[{\"colorbar\":{\"outlinewidth\":0,\"ticks\":\"\"},\"colorscale\":[[0.0,\"#0d0887\"],[0.1111111111111111,\"#46039f\"],[0.2222222222222222,\"#7201a8\"],[0.3333333333333333,\"#9c179e\"],[0.4444444444444444,\"#bd3786\"],[0.5555555555555556,\"#d8576b\"],[0.6666666666666666,\"#ed7953\"],[0.7777777777777778,\"#fb9f3a\"],[0.8888888888888888,\"#fdca26\"],[1.0,\"#f0f921\"]],\"type\":\"contour\"}],\"contourcarpet\":[{\"colorbar\":{\"outlinewidth\":0,\"ticks\":\"\"},\"type\":\"contourcarpet\"}],\"heatmap\":[{\"colorbar\":{\"outlinewidth\":0,\"ticks\":\"\"},\"colorscale\":[[0.0,\"#0d0887\"],[0.1111111111111111,\"#46039f\"],[0.2222222222222222,\"#7201a8\"],[0.3333333333333333,\"#9c179e\"],[0.4444444444444444,\"#bd3786\"],[0.5555555555555556,\"#d8576b\"],[0.6666666666666666,\"#ed7953\"],[0.7777777777777778,\"#fb9f3a\"],[0.8888888888888888,\"#fdca26\"],[1.0,\"#f0f921\"]],\"type\":\"heatmap\"}],\"heatmapgl\":[{\"colorbar\":{\"outlinewidth\":0,\"ticks\":\"\"},\"colorscale\":[[0.0,\"#0d0887\"],[0.1111111111111111,\"#46039f\"],[0.2222222222222222,\"#7201a8\"],[0.3333333333333333,\"#9c179e\"],[0.4444444444444444,\"#bd3786\"],[0.5555555555555556,\"#d8576b\"],[0.6666666666666666,\"#ed7953\"],[0.7777777777777778,\"#fb9f3a\"],[0.8888888888888888,\"#fdca26\"],[1.0,\"#f0f921\"]],\"type\":\"heatmapgl\"}],\"histogram\":[{\"marker\":{\"pattern\":{\"fillmode\":\"overlay\",\"size\":10,\"solidity\":0.2}},\"type\":\"histogram\"}],\"histogram2d\":[{\"colorbar\":{\"outlinewidth\":0,\"ticks\":\"\"},\"colorscale\":[[0.0,\"#0d0887\"],[0.1111111111111111,\"#46039f\"],[0.2222222222222222,\"#7201a8\"],[0.3333333333333333,\"#9c179e\"],[0.4444444444444444,\"#bd3786\"],[0.5555555555555556,\"#d8576b\"],[0.6666666666666666,\"#ed7953\"],[0.7777777777777778,\"#fb9f3a\"],[0.8888888888888888,\"#fdca26\"],[1.0,\"#f0f921\"]],\"type\":\"histogram2d\"}],\"histogram2dcontour\":[{\"colorbar\":{\"outlinewidth\":0,\"ticks\":\"\"},\"colorscale\":[[0.0,\"#0d0887\"],[0.1111111111111111,\"#46039f\"],[0.2222222222222222,\"#7201a8\"],[0.3333333333333333,\"#9c179e\"],[0.4444444444444444,\"#bd3786\"],[0.5555555555555556,\"#d8576b\"],[0.6666666666666666,\"#ed7953\"],[0.7777777777777778,\"#fb9f3a\"],[0.8888888888888888,\"#fdca26\"],[1.0,\"#f0f921\"]],\"type\":\"histogram2dcontour\"}],\"mesh3d\":[{\"colorbar\":{\"outlinewidth\":0,\"ticks\":\"\"},\"type\":\"mesh3d\"}],\"parcoords\":[{\"line\":{\"colorbar\":{\"outlinewidth\":0,\"ticks\":\"\"}},\"type\":\"parcoords\"}],\"pie\":[{\"automargin\":true,\"type\":\"pie\"}],\"scatter\":[{\"marker\":{\"colorbar\":{\"outlinewidth\":0,\"ticks\":\"\"}},\"type\":\"scatter\"}],\"scatter3d\":[{\"line\":{\"colorbar\":{\"outlinewidth\":0,\"ticks\":\"\"}},\"marker\":{\"colorbar\":{\"outlinewidth\":0,\"ticks\":\"\"}},\"type\":\"scatter3d\"}],\"scattercarpet\":[{\"marker\":{\"colorbar\":{\"outlinewidth\":0,\"ticks\":\"\"}},\"type\":\"scattercarpet\"}],\"scattergeo\":[{\"marker\":{\"colorbar\":{\"outlinewidth\":0,\"ticks\":\"\"}},\"type\":\"scattergeo\"}],\"scattergl\":[{\"marker\":{\"colorbar\":{\"outlinewidth\":0,\"ticks\":\"\"}},\"type\":\"scattergl\"}],\"scattermapbox\":[{\"marker\":{\"colorbar\":{\"outlinewidth\":0,\"ticks\":\"\"}},\"type\":\"scattermapbox\"}],\"scatterpolar\":[{\"marker\":{\"colorbar\":{\"outlinewidth\":0,\"ticks\":\"\"}},\"type\":\"scatterpolar\"}],\"scatterpolargl\":[{\"marker\":{\"colorbar\":{\"outlinewidth\":0,\"ticks\":\"\"}},\"type\":\"scatterpolargl\"}],\"scatterternary\":[{\"marker\":{\"colorbar\":{\"outlinewidth\":0,\"ticks\":\"\"}},\"type\":\"scatterternary\"}],\"surface\":[{\"colorbar\":{\"outlinewidth\":0,\"ticks\":\"\"},\"colorscale\":[[0.0,\"#0d0887\"],[0.1111111111111111,\"#46039f\"],[0.2222222222222222,\"#7201a8\"],[0.3333333333333333,\"#9c179e\"],[0.4444444444444444,\"#bd3786\"],[0.5555555555555556,\"#d8576b\"],[0.6666666666666666,\"#ed7953\"],[0.7777777777777778,\"#fb9f3a\"],[0.8888888888888888,\"#fdca26\"],[1.0,\"#f0f921\"]],\"type\":\"surface\"}],\"table\":[{\"cells\":{\"fill\":{\"color\":\"#EBF0F8\"},\"line\":{\"color\":\"white\"}},\"header\":{\"fill\":{\"color\":\"#C8D4E3\"},\"line\":{\"color\":\"white\"}},\"type\":\"table\"}]},\"layout\":{\"annotationdefaults\":{\"arrowcolor\":\"#2a3f5f\",\"arrowhead\":0,\"arrowwidth\":1},\"autotypenumbers\":\"strict\",\"coloraxis\":{\"colorbar\":{\"outlinewidth\":0,\"ticks\":\"\"}},\"colorscale\":{\"diverging\":[[0,\"#8e0152\"],[0.1,\"#c51b7d\"],[0.2,\"#de77ae\"],[0.3,\"#f1b6da\"],[0.4,\"#fde0ef\"],[0.5,\"#f7f7f7\"],[0.6,\"#e6f5d0\"],[0.7,\"#b8e186\"],[0.8,\"#7fbc41\"],[0.9,\"#4d9221\"],[1,\"#276419\"]],\"sequential\":[[0.0,\"#0d0887\"],[0.1111111111111111,\"#46039f\"],[0.2222222222222222,\"#7201a8\"],[0.3333333333333333,\"#9c179e\"],[0.4444444444444444,\"#bd3786\"],[0.5555555555555556,\"#d8576b\"],[0.6666666666666666,\"#ed7953\"],[0.7777777777777778,\"#fb9f3a\"],[0.8888888888888888,\"#fdca26\"],[1.0,\"#f0f921\"]],\"sequentialminus\":[[0.0,\"#0d0887\"],[0.1111111111111111,\"#46039f\"],[0.2222222222222222,\"#7201a8\"],[0.3333333333333333,\"#9c179e\"],[0.4444444444444444,\"#bd3786\"],[0.5555555555555556,\"#d8576b\"],[0.6666666666666666,\"#ed7953\"],[0.7777777777777778,\"#fb9f3a\"],[0.8888888888888888,\"#fdca26\"],[1.0,\"#f0f921\"]]},\"colorway\":[\"#636efa\",\"#EF553B\",\"#00cc96\",\"#ab63fa\",\"#FFA15A\",\"#19d3f3\",\"#FF6692\",\"#B6E880\",\"#FF97FF\",\"#FECB52\"],\"font\":{\"color\":\"#2a3f5f\"},\"geo\":{\"bgcolor\":\"white\",\"lakecolor\":\"white\",\"landcolor\":\"#E5ECF6\",\"showlakes\":true,\"showland\":true,\"subunitcolor\":\"white\"},\"hoverlabel\":{\"align\":\"left\"},\"hovermode\":\"closest\",\"mapbox\":{\"style\":\"light\"},\"paper_bgcolor\":\"white\",\"plot_bgcolor\":\"#E5ECF6\",\"polar\":{\"angularaxis\":{\"gridcolor\":\"white\",\"linecolor\":\"white\",\"ticks\":\"\"},\"bgcolor\":\"#E5ECF6\",\"radialaxis\":{\"gridcolor\":\"white\",\"linecolor\":\"white\",\"ticks\":\"\"}},\"scene\":{\"xaxis\":{\"backgroundcolor\":\"#E5ECF6\",\"gridcolor\":\"white\",\"gridwidth\":2,\"linecolor\":\"white\",\"showbackground\":true,\"ticks\":\"\",\"zerolinecolor\":\"white\"},\"yaxis\":{\"backgroundcolor\":\"#E5ECF6\",\"gridcolor\":\"white\",\"gridwidth\":2,\"linecolor\":\"white\",\"showbackground\":true,\"ticks\":\"\",\"zerolinecolor\":\"white\"},\"zaxis\":{\"backgroundcolor\":\"#E5ECF6\",\"gridcolor\":\"white\",\"gridwidth\":2,\"linecolor\":\"white\",\"showbackground\":true,\"ticks\":\"\",\"zerolinecolor\":\"white\"}},\"shapedefaults\":{\"line\":{\"color\":\"#2a3f5f\"}},\"ternary\":{\"aaxis\":{\"gridcolor\":\"white\",\"linecolor\":\"white\",\"ticks\":\"\"},\"baxis\":{\"gridcolor\":\"white\",\"linecolor\":\"white\",\"ticks\":\"\"},\"bgcolor\":\"#E5ECF6\",\"caxis\":{\"gridcolor\":\"white\",\"linecolor\":\"white\",\"ticks\":\"\"}},\"title\":{\"x\":0.05},\"xaxis\":{\"automargin\":true,\"gridcolor\":\"white\",\"linecolor\":\"white\",\"ticks\":\"\",\"title\":{\"standoff\":15},\"zerolinecolor\":\"white\",\"zerolinewidth\":2},\"yaxis\":{\"automargin\":true,\"gridcolor\":\"white\",\"linecolor\":\"white\",\"ticks\":\"\",\"title\":{\"standoff\":15},\"zerolinecolor\":\"white\",\"zerolinewidth\":2}}},\"legend\":{\"tracegroupgap\":0},\"title\":{\"text\":\"TOP 10 GAMES BY GLOBAL SALES\"},\"piecolorway\":[\"rgb(99, 88, 159)\",\"rgb(130, 109, 186)\",\"rgb(159, 130, 206)\",\"rgb(185, 152, 221)\",\"rgb(209, 175, 232)\",\"rgb(228, 199, 241)\",\"rgb(243, 224, 247)\"]},                        {\"responsive\": true}                    ).then(function(){\n",
              "                            \n",
              "var gd = document.getElementById('e346b645-c1e6-4923-a37b-a2600be25c89');\n",
              "var x = new MutationObserver(function (mutations, observer) {{\n",
              "        var display = window.getComputedStyle(gd).display;\n",
              "        if (!display || display === 'none') {{\n",
              "            console.log([gd, 'removed!']);\n",
              "            Plotly.purge(gd);\n",
              "            observer.disconnect();\n",
              "        }}\n",
              "}});\n",
              "\n",
              "// Listen for the removal of the full notebook cells\n",
              "var notebookContainer = gd.closest('#notebook-container');\n",
              "if (notebookContainer) {{\n",
              "    x.observe(notebookContainer, {childList: true});\n",
              "}}\n",
              "\n",
              "// Listen for the clearing of the current output cell\n",
              "var outputEl = gd.closest('.output');\n",
              "if (outputEl) {{\n",
              "    x.observe(outputEl, {childList: true});\n",
              "}}\n",
              "\n",
              "                        })                };                            </script>        </div>\n",
              "</body>\n",
              "</html>"
            ]
          },
          "metadata": {}
        }
      ]
    },
    {
      "cell_type": "markdown",
      "source": [
        "***Visuaizing global sales of games based on each region***\n"
      ],
      "metadata": {
        "id": "n-iJOrBFUDg_"
      }
    },
    {
      "cell_type": "code",
      "source": [
        "na = pd.DataFrame(video_games.groupby(\"Game_Title\")[[\"North_America\"]].mean().sort_values(by=['North_America'],ascending=[False]).reset_index())\n",
        "na.rename(columns = {'Game_Title':'Name_NA'}, inplace = True)\n",
        "\n",
        "eu = pd.DataFrame(video_games.groupby(\"Game_Title\")[[\"Europe\"]].mean().sort_values(by=['Europe'],ascending=[False]).reset_index())\n",
        "eu.rename(columns = {'Game_Title':'Name_EU'}, inplace = True)\n",
        "\n",
        "jp = pd.DataFrame(video_games.groupby(\"Game_Title\")[[\"Japan\"]].mean().sort_values(by=['Japan'],ascending=[False]).reset_index())\n",
        "jp.rename(columns = {'Game_Title':'Name_JP'}, inplace = True)\n",
        "\n",
        "other = pd.DataFrame(video_games.groupby(\"Game_Title\")[[\"Rest_Of_world\"]].mean().sort_values(by=['Rest_Of_world'],ascending=[False]).reset_index())\n",
        "other.rename(columns = {'Game_Title':'Name_other'}, inplace = True)\n",
        "\n",
        "#Concatenating the results.\n",
        "name_df=pd.concat([na,eu,jp,other],axis=1)"
      ],
      "metadata": {
        "id": "4Iuc3OQbx5uI"
      },
      "execution_count": 93,
      "outputs": []
    },
    {
      "cell_type": "code",
      "source": [
        "subplot_name1 = make_subplots(rows=4, cols=1, shared_yaxes=True,subplot_titles=(\"TOP GAMES IN NORTH AMERICA\",\"TOP GAMES IN EUROPE\", \"TOP GAMES IN JAPAN\",\"TOP GAMES IN REST OF WORLD\"))\n",
        "\n",
        "#Subplot for North America\n",
        "subplot_name1.add_trace(go.Bar(x=name_df['Name_NA'][:5], y=name_df['North_America'][:5],marker=dict(color=[1, 2, 3],coloraxis=\"coloraxis\")),1, 1)\n",
        "\n",
        "#Subplot for Europe\n",
        "subplot_name1.add_trace(go.Bar(x=name_df['Name_EU'][:5], y=name_df['Europe'][:5],marker=dict(color=[4, 5, 6], coloraxis=\"coloraxis\")), 2, 1)\n",
        "\n",
        "#Subplot for Japan\n",
        "subplot_name1.add_trace(go.Bar(x=name_df['Name_JP'][:5], y=name_df['Japan'][:5],marker=dict(color=[7, 8, 9], coloraxis=\"coloraxis\")),3, 1)\n",
        "\n",
        "#Subplot for other regions\n",
        "subplot_name1.add_trace(go.Bar(x=name_df['Name_other'][:5], y=name_df['Rest_Of_world'][:5],marker=dict(color=[10, 11, 12], coloraxis=\"coloraxis\")),4, 1)\n",
        "\n",
        "subplot_name1.update_layout(height=1000,width=500,coloraxis=dict(colorscale='Mint_r'), showlegend=False)\n",
        "subplot_name1.update_xaxes(tickangle=45)\n",
        "subplot_name1.show()"
      ],
      "metadata": {
        "colab": {
          "base_uri": "https://localhost:8080/",
          "height": 1000
        },
        "id": "_wzZQ2Cyy4Er",
        "outputId": "f06e3dc5-02bf-4acc-e395-e95df4ea85c0"
      },
      "execution_count": 94,
      "outputs": [
        {
          "output_type": "display_data",
          "data": {
            "text/html": [
              "<html>\n",
              "<head><meta charset=\"utf-8\" /></head>\n",
              "<body>\n",
              "    <div>            <script src=\"https://cdnjs.cloudflare.com/ajax/libs/mathjax/2.7.5/MathJax.js?config=TeX-AMS-MML_SVG\"></script><script type=\"text/javascript\">if (window.MathJax) {MathJax.Hub.Config({SVG: {font: \"STIX-Web\"}});}</script>                <script type=\"text/javascript\">window.PlotlyConfig = {MathJaxConfig: 'local'};</script>\n",
              "        <script src=\"https://cdn.plot.ly/plotly-2.8.3.min.js\"></script>                <div id=\"11d0cfbc-c3d8-419e-ab06-f8d9891f6684\" class=\"plotly-graph-div\" style=\"height:1000px; width:500px;\"></div>            <script type=\"text/javascript\">                                    window.PLOTLYENV=window.PLOTLYENV || {};                                    if (document.getElementById(\"11d0cfbc-c3d8-419e-ab06-f8d9891f6684\")) {                    Plotly.newPlot(                        \"11d0cfbc-c3d8-419e-ab06-f8d9891f6684\",                        [{\"marker\":{\"color\":[1,2,3],\"coloraxis\":\"coloraxis\"},\"x\":[\"Wii Sports\",\"Super Mario Bros.\",\"Duck Hunt\",\"Wii Sports Resort\",\"Mario Kart Wii\"],\"y\":[40.43,29.08,26.93,14.82,14.5],\"type\":\"bar\",\"xaxis\":\"x\",\"yaxis\":\"y\"},{\"marker\":{\"color\":[4,5,6],\"coloraxis\":\"coloraxis\"},\"x\":[\"Wii Sports\",\"Mario Kart Wii\",\"Nintendogs\",\"Wii Sports Resort\",\"Wii Play\"],\"y\":[28.39,12.22,10.81,10.51,9.11],\"type\":\"bar\",\"xaxis\":\"x2\",\"yaxis\":\"y2\"},{\"marker\":{\"color\":[7,8,9],\"coloraxis\":\"coloraxis\"},\"x\":[\"Pok\\u00e9mon Gold / Silver Version\",\"Super Mario Bros.\",\"New Super Mario Bros.\",\"Pok\\u00e9mon Diamond / Pearl Version\",\"Pok\\u00e9mon Black / White Version\"],\"y\":[7.2,6.81,6.48,6.04,5.64],\"type\":\"bar\",\"xaxis\":\"x3\",\"yaxis\":\"y3\"},{\"marker\":{\"color\":[10,11,12],\"coloraxis\":\"coloraxis\"},\"x\":[\"Wii Sports\",\"Mario Kart Wii\",\"Wii Sports Resort\",\"New Super Mario Bros.\",\"Wii Play\"],\"y\":[8.54,3.21,3.01,2.88,2.84],\"type\":\"bar\",\"xaxis\":\"x4\",\"yaxis\":\"y4\"}],                        {\"template\":{\"data\":{\"bar\":[{\"error_x\":{\"color\":\"#2a3f5f\"},\"error_y\":{\"color\":\"#2a3f5f\"},\"marker\":{\"line\":{\"color\":\"#E5ECF6\",\"width\":0.5},\"pattern\":{\"fillmode\":\"overlay\",\"size\":10,\"solidity\":0.2}},\"type\":\"bar\"}],\"barpolar\":[{\"marker\":{\"line\":{\"color\":\"#E5ECF6\",\"width\":0.5},\"pattern\":{\"fillmode\":\"overlay\",\"size\":10,\"solidity\":0.2}},\"type\":\"barpolar\"}],\"carpet\":[{\"aaxis\":{\"endlinecolor\":\"#2a3f5f\",\"gridcolor\":\"white\",\"linecolor\":\"white\",\"minorgridcolor\":\"white\",\"startlinecolor\":\"#2a3f5f\"},\"baxis\":{\"endlinecolor\":\"#2a3f5f\",\"gridcolor\":\"white\",\"linecolor\":\"white\",\"minorgridcolor\":\"white\",\"startlinecolor\":\"#2a3f5f\"},\"type\":\"carpet\"}],\"choropleth\":[{\"colorbar\":{\"outlinewidth\":0,\"ticks\":\"\"},\"type\":\"choropleth\"}],\"contour\":[{\"colorbar\":{\"outlinewidth\":0,\"ticks\":\"\"},\"colorscale\":[[0.0,\"#0d0887\"],[0.1111111111111111,\"#46039f\"],[0.2222222222222222,\"#7201a8\"],[0.3333333333333333,\"#9c179e\"],[0.4444444444444444,\"#bd3786\"],[0.5555555555555556,\"#d8576b\"],[0.6666666666666666,\"#ed7953\"],[0.7777777777777778,\"#fb9f3a\"],[0.8888888888888888,\"#fdca26\"],[1.0,\"#f0f921\"]],\"type\":\"contour\"}],\"contourcarpet\":[{\"colorbar\":{\"outlinewidth\":0,\"ticks\":\"\"},\"type\":\"contourcarpet\"}],\"heatmap\":[{\"colorbar\":{\"outlinewidth\":0,\"ticks\":\"\"},\"colorscale\":[[0.0,\"#0d0887\"],[0.1111111111111111,\"#46039f\"],[0.2222222222222222,\"#7201a8\"],[0.3333333333333333,\"#9c179e\"],[0.4444444444444444,\"#bd3786\"],[0.5555555555555556,\"#d8576b\"],[0.6666666666666666,\"#ed7953\"],[0.7777777777777778,\"#fb9f3a\"],[0.8888888888888888,\"#fdca26\"],[1.0,\"#f0f921\"]],\"type\":\"heatmap\"}],\"heatmapgl\":[{\"colorbar\":{\"outlinewidth\":0,\"ticks\":\"\"},\"colorscale\":[[0.0,\"#0d0887\"],[0.1111111111111111,\"#46039f\"],[0.2222222222222222,\"#7201a8\"],[0.3333333333333333,\"#9c179e\"],[0.4444444444444444,\"#bd3786\"],[0.5555555555555556,\"#d8576b\"],[0.6666666666666666,\"#ed7953\"],[0.7777777777777778,\"#fb9f3a\"],[0.8888888888888888,\"#fdca26\"],[1.0,\"#f0f921\"]],\"type\":\"heatmapgl\"}],\"histogram\":[{\"marker\":{\"pattern\":{\"fillmode\":\"overlay\",\"size\":10,\"solidity\":0.2}},\"type\":\"histogram\"}],\"histogram2d\":[{\"colorbar\":{\"outlinewidth\":0,\"ticks\":\"\"},\"colorscale\":[[0.0,\"#0d0887\"],[0.1111111111111111,\"#46039f\"],[0.2222222222222222,\"#7201a8\"],[0.3333333333333333,\"#9c179e\"],[0.4444444444444444,\"#bd3786\"],[0.5555555555555556,\"#d8576b\"],[0.6666666666666666,\"#ed7953\"],[0.7777777777777778,\"#fb9f3a\"],[0.8888888888888888,\"#fdca26\"],[1.0,\"#f0f921\"]],\"type\":\"histogram2d\"}],\"histogram2dcontour\":[{\"colorbar\":{\"outlinewidth\":0,\"ticks\":\"\"},\"colorscale\":[[0.0,\"#0d0887\"],[0.1111111111111111,\"#46039f\"],[0.2222222222222222,\"#7201a8\"],[0.3333333333333333,\"#9c179e\"],[0.4444444444444444,\"#bd3786\"],[0.5555555555555556,\"#d8576b\"],[0.6666666666666666,\"#ed7953\"],[0.7777777777777778,\"#fb9f3a\"],[0.8888888888888888,\"#fdca26\"],[1.0,\"#f0f921\"]],\"type\":\"histogram2dcontour\"}],\"mesh3d\":[{\"colorbar\":{\"outlinewidth\":0,\"ticks\":\"\"},\"type\":\"mesh3d\"}],\"parcoords\":[{\"line\":{\"colorbar\":{\"outlinewidth\":0,\"ticks\":\"\"}},\"type\":\"parcoords\"}],\"pie\":[{\"automargin\":true,\"type\":\"pie\"}],\"scatter\":[{\"marker\":{\"colorbar\":{\"outlinewidth\":0,\"ticks\":\"\"}},\"type\":\"scatter\"}],\"scatter3d\":[{\"line\":{\"colorbar\":{\"outlinewidth\":0,\"ticks\":\"\"}},\"marker\":{\"colorbar\":{\"outlinewidth\":0,\"ticks\":\"\"}},\"type\":\"scatter3d\"}],\"scattercarpet\":[{\"marker\":{\"colorbar\":{\"outlinewidth\":0,\"ticks\":\"\"}},\"type\":\"scattercarpet\"}],\"scattergeo\":[{\"marker\":{\"colorbar\":{\"outlinewidth\":0,\"ticks\":\"\"}},\"type\":\"scattergeo\"}],\"scattergl\":[{\"marker\":{\"colorbar\":{\"outlinewidth\":0,\"ticks\":\"\"}},\"type\":\"scattergl\"}],\"scattermapbox\":[{\"marker\":{\"colorbar\":{\"outlinewidth\":0,\"ticks\":\"\"}},\"type\":\"scattermapbox\"}],\"scatterpolar\":[{\"marker\":{\"colorbar\":{\"outlinewidth\":0,\"ticks\":\"\"}},\"type\":\"scatterpolar\"}],\"scatterpolargl\":[{\"marker\":{\"colorbar\":{\"outlinewidth\":0,\"ticks\":\"\"}},\"type\":\"scatterpolargl\"}],\"scatterternary\":[{\"marker\":{\"colorbar\":{\"outlinewidth\":0,\"ticks\":\"\"}},\"type\":\"scatterternary\"}],\"surface\":[{\"colorbar\":{\"outlinewidth\":0,\"ticks\":\"\"},\"colorscale\":[[0.0,\"#0d0887\"],[0.1111111111111111,\"#46039f\"],[0.2222222222222222,\"#7201a8\"],[0.3333333333333333,\"#9c179e\"],[0.4444444444444444,\"#bd3786\"],[0.5555555555555556,\"#d8576b\"],[0.6666666666666666,\"#ed7953\"],[0.7777777777777778,\"#fb9f3a\"],[0.8888888888888888,\"#fdca26\"],[1.0,\"#f0f921\"]],\"type\":\"surface\"}],\"table\":[{\"cells\":{\"fill\":{\"color\":\"#EBF0F8\"},\"line\":{\"color\":\"white\"}},\"header\":{\"fill\":{\"color\":\"#C8D4E3\"},\"line\":{\"color\":\"white\"}},\"type\":\"table\"}]},\"layout\":{\"annotationdefaults\":{\"arrowcolor\":\"#2a3f5f\",\"arrowhead\":0,\"arrowwidth\":1},\"autotypenumbers\":\"strict\",\"coloraxis\":{\"colorbar\":{\"outlinewidth\":0,\"ticks\":\"\"}},\"colorscale\":{\"diverging\":[[0,\"#8e0152\"],[0.1,\"#c51b7d\"],[0.2,\"#de77ae\"],[0.3,\"#f1b6da\"],[0.4,\"#fde0ef\"],[0.5,\"#f7f7f7\"],[0.6,\"#e6f5d0\"],[0.7,\"#b8e186\"],[0.8,\"#7fbc41\"],[0.9,\"#4d9221\"],[1,\"#276419\"]],\"sequential\":[[0.0,\"#0d0887\"],[0.1111111111111111,\"#46039f\"],[0.2222222222222222,\"#7201a8\"],[0.3333333333333333,\"#9c179e\"],[0.4444444444444444,\"#bd3786\"],[0.5555555555555556,\"#d8576b\"],[0.6666666666666666,\"#ed7953\"],[0.7777777777777778,\"#fb9f3a\"],[0.8888888888888888,\"#fdca26\"],[1.0,\"#f0f921\"]],\"sequentialminus\":[[0.0,\"#0d0887\"],[0.1111111111111111,\"#46039f\"],[0.2222222222222222,\"#7201a8\"],[0.3333333333333333,\"#9c179e\"],[0.4444444444444444,\"#bd3786\"],[0.5555555555555556,\"#d8576b\"],[0.6666666666666666,\"#ed7953\"],[0.7777777777777778,\"#fb9f3a\"],[0.8888888888888888,\"#fdca26\"],[1.0,\"#f0f921\"]]},\"colorway\":[\"#636efa\",\"#EF553B\",\"#00cc96\",\"#ab63fa\",\"#FFA15A\",\"#19d3f3\",\"#FF6692\",\"#B6E880\",\"#FF97FF\",\"#FECB52\"],\"font\":{\"color\":\"#2a3f5f\"},\"geo\":{\"bgcolor\":\"white\",\"lakecolor\":\"white\",\"landcolor\":\"#E5ECF6\",\"showlakes\":true,\"showland\":true,\"subunitcolor\":\"white\"},\"hoverlabel\":{\"align\":\"left\"},\"hovermode\":\"closest\",\"mapbox\":{\"style\":\"light\"},\"paper_bgcolor\":\"white\",\"plot_bgcolor\":\"#E5ECF6\",\"polar\":{\"angularaxis\":{\"gridcolor\":\"white\",\"linecolor\":\"white\",\"ticks\":\"\"},\"bgcolor\":\"#E5ECF6\",\"radialaxis\":{\"gridcolor\":\"white\",\"linecolor\":\"white\",\"ticks\":\"\"}},\"scene\":{\"xaxis\":{\"backgroundcolor\":\"#E5ECF6\",\"gridcolor\":\"white\",\"gridwidth\":2,\"linecolor\":\"white\",\"showbackground\":true,\"ticks\":\"\",\"zerolinecolor\":\"white\"},\"yaxis\":{\"backgroundcolor\":\"#E5ECF6\",\"gridcolor\":\"white\",\"gridwidth\":2,\"linecolor\":\"white\",\"showbackground\":true,\"ticks\":\"\",\"zerolinecolor\":\"white\"},\"zaxis\":{\"backgroundcolor\":\"#E5ECF6\",\"gridcolor\":\"white\",\"gridwidth\":2,\"linecolor\":\"white\",\"showbackground\":true,\"ticks\":\"\",\"zerolinecolor\":\"white\"}},\"shapedefaults\":{\"line\":{\"color\":\"#2a3f5f\"}},\"ternary\":{\"aaxis\":{\"gridcolor\":\"white\",\"linecolor\":\"white\",\"ticks\":\"\"},\"baxis\":{\"gridcolor\":\"white\",\"linecolor\":\"white\",\"ticks\":\"\"},\"bgcolor\":\"#E5ECF6\",\"caxis\":{\"gridcolor\":\"white\",\"linecolor\":\"white\",\"ticks\":\"\"}},\"title\":{\"x\":0.05},\"xaxis\":{\"automargin\":true,\"gridcolor\":\"white\",\"linecolor\":\"white\",\"ticks\":\"\",\"title\":{\"standoff\":15},\"zerolinecolor\":\"white\",\"zerolinewidth\":2},\"yaxis\":{\"automargin\":true,\"gridcolor\":\"white\",\"linecolor\":\"white\",\"ticks\":\"\",\"title\":{\"standoff\":15},\"zerolinecolor\":\"white\",\"zerolinewidth\":2}}},\"xaxis\":{\"anchor\":\"y\",\"domain\":[0.0,1.0],\"tickangle\":45},\"yaxis\":{\"anchor\":\"x\",\"domain\":[0.84375,1.0]},\"xaxis2\":{\"anchor\":\"y2\",\"domain\":[0.0,1.0],\"tickangle\":45},\"yaxis2\":{\"anchor\":\"x2\",\"domain\":[0.5625,0.71875]},\"xaxis3\":{\"anchor\":\"y3\",\"domain\":[0.0,1.0],\"tickangle\":45},\"yaxis3\":{\"anchor\":\"x3\",\"domain\":[0.28125,0.4375]},\"xaxis4\":{\"anchor\":\"y4\",\"domain\":[0.0,1.0],\"tickangle\":45},\"yaxis4\":{\"anchor\":\"x4\",\"domain\":[0.0,0.15625]},\"annotations\":[{\"font\":{\"size\":16},\"showarrow\":false,\"text\":\"TOP GAMES IN NORTH AMERICA\",\"x\":0.5,\"xanchor\":\"center\",\"xref\":\"paper\",\"y\":1.0,\"yanchor\":\"bottom\",\"yref\":\"paper\"},{\"font\":{\"size\":16},\"showarrow\":false,\"text\":\"TOP GAMES IN EUROPE\",\"x\":0.5,\"xanchor\":\"center\",\"xref\":\"paper\",\"y\":0.71875,\"yanchor\":\"bottom\",\"yref\":\"paper\"},{\"font\":{\"size\":16},\"showarrow\":false,\"text\":\"TOP GAMES IN JAPAN\",\"x\":0.5,\"xanchor\":\"center\",\"xref\":\"paper\",\"y\":0.4375,\"yanchor\":\"bottom\",\"yref\":\"paper\"},{\"font\":{\"size\":16},\"showarrow\":false,\"text\":\"TOP GAMES IN REST OF WORLD\",\"x\":0.5,\"xanchor\":\"center\",\"xref\":\"paper\",\"y\":0.15625,\"yanchor\":\"bottom\",\"yref\":\"paper\"}],\"coloraxis\":{\"colorscale\":[[0.0,\"rgb(13, 88, 95)\"],[0.16666666666666666,\"rgb(40, 114, 116)\"],[0.3333333333333333,\"rgb(68, 140, 138)\"],[0.5,\"rgb(99, 166, 160)\"],[0.6666666666666666,\"rgb(137, 192, 182)\"],[0.8333333333333334,\"rgb(180, 217, 204)\"],[1.0,\"rgb(228, 241, 225)\"]]},\"height\":1000,\"width\":500,\"showlegend\":false},                        {\"responsive\": true}                    ).then(function(){\n",
              "                            \n",
              "var gd = document.getElementById('11d0cfbc-c3d8-419e-ab06-f8d9891f6684');\n",
              "var x = new MutationObserver(function (mutations, observer) {{\n",
              "        var display = window.getComputedStyle(gd).display;\n",
              "        if (!display || display === 'none') {{\n",
              "            console.log([gd, 'removed!']);\n",
              "            Plotly.purge(gd);\n",
              "            observer.disconnect();\n",
              "        }}\n",
              "}});\n",
              "\n",
              "// Listen for the removal of the full notebook cells\n",
              "var notebookContainer = gd.closest('#notebook-container');\n",
              "if (notebookContainer) {{\n",
              "    x.observe(notebookContainer, {childList: true});\n",
              "}}\n",
              "\n",
              "// Listen for the clearing of the current output cell\n",
              "var outputEl = gd.closest('.output');\n",
              "if (outputEl) {{\n",
              "    x.observe(outputEl, {childList: true});\n",
              "}}\n",
              "\n",
              "                        })                };                            </script>        </div>\n",
              "</body>\n",
              "</html>"
            ]
          },
          "metadata": {}
        }
      ]
    },
    {
      "cell_type": "markdown",
      "source": [
        "***Point plot to visualize game titles by year of release***"
      ],
      "metadata": {
        "id": "L-MNERBdU6fk"
      }
    },
    {
      "cell_type": "code",
      "source": [
        "titles_by_year = video_games.groupby(['Year']).agg({'Game_Title':lambda x : len(x) if (len(x) > 1) else None}).dropna()\n",
        "plt.subplots(figsize=(12,7))\n",
        "ax = sns.pointplot(x=titles_by_year.index, y=titles_by_year.Game_Title)\n",
        "g = ax.set_xticklabels(ax.get_xticklabels(), rotation=45)\n",
        "ax.set_title('GAME TITLES BY YEAR OF RELEASE', size=25, color='red', alpha=0.5)\n",
        "ax.set_xlabel('Released Year', size=25, color='black', alpha=0.5)\n",
        "ax.set_ylabel('Video games developed ', size=25, color='black', alpha=0.5)"
      ],
      "metadata": {
        "id": "gMDfJjKBP65M",
        "colab": {
          "base_uri": "https://localhost:8080/",
          "height": 515
        },
        "outputId": "19dd9bbd-d347-4c5c-ee6a-8d737c72df46"
      },
      "execution_count": 96,
      "outputs": [
        {
          "output_type": "execute_result",
          "data": {
            "text/plain": [
              "Text(0, 0.5, 'Video games developed ')"
            ]
          },
          "metadata": {},
          "execution_count": 96
        },
        {
          "output_type": "display_data",
          "data": {
            "text/plain": [
              "<Figure size 864x504 with 1 Axes>"
            ],
            "image/png": "[encoded data removed]"
          },
          "metadata": {
            "needs_background": "light"
          }
        }
      ]
    },
    {
      "cell_type": "markdown",
      "source": [
        "***Errorbar to visualize sales over years***"
      ],
      "metadata": {
        "id": "VTD6JpBUdp-9"
      }
    },
    {
      "cell_type": "code",
      "source": [
        "plt.figure(figsize=(20,5))\n",
        "\n",
        "min_year = int(video_games['Year'].min())\n",
        "max_year = int(video_games['Year'].max())\n",
        "\n",
        "plt.errorbar(video_games.groupby('Year')['Global'].sum().index, video_games.groupby('Year')['Global'].sum().values, color='darkorange')\n",
        "plt.bar(video_games.groupby('Year')['Global'].sum().sort_values().index, video_games.groupby('Year')['Global'].sum().sort_values().values, color='lightgray')\n",
        "plt.xlabel('Years')\n",
        "plt.ylabel('Total Sales')\n",
        "plt.xticks(range(min_year,max_year,2), range(min_year,max_year,2))\n",
        "plt.show()"
      ],
      "metadata": {
        "id": "UL91XKZC0pdX",
        "colab": {
          "base_uri": "https://localhost:8080/",
          "height": 334
        },
        "outputId": "ff6cabf4-1c15-4fc4-9c23-3cab53b92194"
      },
      "execution_count": 97,
      "outputs": [
        {
          "output_type": "display_data",
          "data": {
            "text/plain": [
              "<Figure size 1440x360 with 1 Axes>"
            ],
            "image/png": "[encoded data removed]"
          },
          "metadata": {
            "needs_background": "light"
          }
        }
      ]
    },
    {
      "cell_type": "markdown",
      "source": [
        "***Printing the data between the years having peak sales (2007-2008)***"
      ],
      "metadata": {
        "id": "gSrdaoqvW30w"
      }
    },
    {
      "cell_type": "code",
      "source": [
        "vg = video_games[video_games['Year']==2008]\n",
        "\n",
        "vg"
      ],
      "metadata": {
        "id": "ynfIgcrR1baY",
        "colab": {
          "base_uri": "https://localhost:8080/",
          "height": 424
        },
        "outputId": "527fc7dd-b536-4d84-9434-db42643f2d4b"
      },
      "execution_count": 98,
      "outputs": [
        {
          "output_type": "execute_result",
          "data": {
            "text/plain": [
              "      index  Rank                Game_Title Platform  Year         Genre  \\\n",
              "2         2     3            Mario Kart Wii      Wii  2008        Racing   \n",
              "37       37    38   Super Smash Bros. Brawl      Wii  2008      Fighting   \n",
              "46       46    47       Grand Theft Auto IV     X360  2008        Action   \n",
              "53       53    54       Grand Theft Auto IV      PS3  2008        Action   \n",
              "74       74    75  Pokémon Platinum Version       DS  2008  Role-Playing   \n",
              "...     ...   ...                       ...      ...   ...           ...   \n",
              "1872   1872  1873                 Fallout 3       PC  2008  Role-Playing   \n",
              "1882   1882  1883           Sonic Unleashed     X360  2008      Platform   \n",
              "1884   1884  1885         Petz Dogz Fashion       DS  2008    Simulation   \n",
              "1893   1893  1894                      GRID     X360  2008        Racing   \n",
              "1904   1904  1905             SingStar Abba      PS3  2008          Misc   \n",
              "\n",
              "                        Publisher  North_America  Europe  Japan  \\\n",
              "2                        Nintendo          14.50   12.22   3.63   \n",
              "37                       Nintendo           5.90    2.28   2.47   \n",
              "46           Take-Two Interactive           6.21    2.85   0.13   \n",
              "53           Take-Two Interactive           4.39    3.38   0.39   \n",
              "74                       Nintendo           2.68    1.62   2.69   \n",
              "...                           ...            ...     ...    ...   \n",
              "1872           Bethesda Softworks           0.00    0.78   0.00   \n",
              "1882                         Sega           0.45    0.30   0.00   \n",
              "1884                      Ubisoft           0.45    0.30   0.00   \n",
              "1893                  Codemasters           0.32    0.41   0.01   \n",
              "1904  Sony Computer Entertainment           0.25    0.44   0.00   \n",
              "\n",
              "      Rest_Of_world  Global  Review  \n",
              "2              3.21   33.56   82.07  \n",
              "37             0.93   11.58   93.00  \n",
              "46             0.99   10.18   91.00  \n",
              "53             1.50    9.66   91.00  \n",
              "74             0.53    7.52   89.00  \n",
              "...             ...     ...     ...  \n",
              "1872           0.06    0.84   90.69  \n",
              "1882           0.09    0.84   69.00  \n",
              "1884           0.09    0.84   64.00  \n",
              "1893           0.09    0.83   86.54  \n",
              "1904           0.14    0.83   73.00  \n",
              "\n",
              "[184 rows x 13 columns]"
            ],
            "text/html": [
              "\n",
              "  <div id=\"df-7e723dc0-4f0e-4bd9-93d2-661debaa1d45\">\n",
              "    <div class=\"colab-df-container\">\n",
              "      <div>\n",
              "<style scoped>\n",
              "    .dataframe tbody tr th:only-of-type {\n",
              "        vertical-align: middle;\n",
              "    }\n",
              "\n",
              "    .dataframe tbody tr th {\n",
              "        vertical-align: top;\n",
              "    }\n",
              "\n",
              "    .dataframe thead th {\n",
              "        text-align: right;\n",
              "    }\n",
              "</style>\n",
              "<table border=\"1\" class=\"dataframe\">\n",
              "  <thead>\n",
              "    <tr style=\"text-align: right;\">\n",
              "      <th></th>\n",
              "      <th>index</th>\n",
              "      <th>Rank</th>\n",
              "      <th>Game_Title</th>\n",
              "      <th>Platform</th>\n",
              "      <th>Year</th>\n",
              "      <th>Genre</th>\n",
              "      <th>Publisher</th>\n",
              "      <th>North_America</th>\n",
              "      <th>Europe</th>\n",
              "      <th>Japan</th>\n",
              "      <th>Rest_Of_world</th>\n",
              "      <th>Global</th>\n",
              "      <th>Review</th>\n",
              "    </tr>\n",
              "  </thead>\n",
              "  <tbody>\n",
              "    <tr>\n",
              "      <th>2</th>\n",
              "      <td>2</td>\n",
              "      <td>3</td>\n",
              "      <td>Mario Kart Wii</td>\n",
              "      <td>Wii</td>\n",
              "      <td>2008</td>\n",
              "      <td>Racing</td>\n",
              "      <td>Nintendo</td>\n",
              "      <td>14.50</td>\n",
              "      <td>12.22</td>\n",
              "      <td>3.63</td>\n",
              "      <td>3.21</td>\n",
              "      <td>33.56</td>\n",
              "      <td>82.07</td>\n",
              "    </tr>\n",
              "    <tr>\n",
              "      <th>37</th>\n",
              "      <td>37</td>\n",
              "      <td>38</td>\n",
              "      <td>Super Smash Bros. Brawl</td>\n",
              "      <td>Wii</td>\n",
              "      <td>2008</td>\n",
              "      <td>Fighting</td>\n",
              "      <td>Nintendo</td>\n",
              "      <td>5.90</td>\n",
              "      <td>2.28</td>\n",
              "      <td>2.47</td>\n",
              "      <td>0.93</td>\n",
              "      <td>11.58</td>\n",
              "      <td>93.00</td>\n",
              "    </tr>\n",
              "    <tr>\n",
              "      <th>46</th>\n",
              "      <td>46</td>\n",
              "      <td>47</td>\n",
              "      <td>Grand Theft Auto IV</td>\n",
              "      <td>X360</td>\n",
              "      <td>2008</td>\n",
              "      <td>Action</td>\n",
              "      <td>Take-Two Interactive</td>\n",
              "      <td>6.21</td>\n",
              "      <td>2.85</td>\n",
              "      <td>0.13</td>\n",
              "      <td>0.99</td>\n",
              "      <td>10.18</td>\n",
              "      <td>91.00</td>\n",
              "    </tr>\n",
              "    <tr>\n",
              "      <th>53</th>\n",
              "      <td>53</td>\n",
              "      <td>54</td>\n",
              "      <td>Grand Theft Auto IV</td>\n",
              "      <td>PS3</td>\n",
              "      <td>2008</td>\n",
              "      <td>Action</td>\n",
              "      <td>Take-Two Interactive</td>\n",
              "      <td>4.39</td>\n",
              "      <td>3.38</td>\n",
              "      <td>0.39</td>\n",
              "      <td>1.50</td>\n",
              "      <td>9.66</td>\n",
              "      <td>91.00</td>\n",
              "    </tr>\n",
              "    <tr>\n",
              "      <th>74</th>\n",
              "      <td>74</td>\n",
              "      <td>75</td>\n",
              "      <td>Pokémon Platinum Version</td>\n",
              "      <td>DS</td>\n",
              "      <td>2008</td>\n",
              "      <td>Role-Playing</td>\n",
              "      <td>Nintendo</td>\n",
              "      <td>2.68</td>\n",
              "      <td>1.62</td>\n",
              "      <td>2.69</td>\n",
              "      <td>0.53</td>\n",
              "      <td>7.52</td>\n",
              "      <td>89.00</td>\n",
              "    </tr>\n",
              "    <tr>\n",
              "      <th>...</th>\n",
              "      <td>...</td>\n",
              "      <td>...</td>\n",
              "      <td>...</td>\n",
              "      <td>...</td>\n",
              "      <td>...</td>\n",
              "      <td>...</td>\n",
              "      <td>...</td>\n",
              "      <td>...</td>\n",
              "      <td>...</td>\n",
              "      <td>...</td>\n",
              "      <td>...</td>\n",
              "      <td>...</td>\n",
              "      <td>...</td>\n",
              "    </tr>\n",
              "    <tr>\n",
              "      <th>1872</th>\n",
              "      <td>1872</td>\n",
              "      <td>1873</td>\n",
              "      <td>Fallout 3</td>\n",
              "      <td>PC</td>\n",
              "      <td>2008</td>\n",
              "      <td>Role-Playing</td>\n",
              "      <td>Bethesda Softworks</td>\n",
              "      <td>0.00</td>\n",
              "      <td>0.78</td>\n",
              "      <td>0.00</td>\n",
              "      <td>0.06</td>\n",
              "      <td>0.84</td>\n",
              "      <td>90.69</td>\n",
              "    </tr>\n",
              "    <tr>\n",
              "      <th>1882</th>\n",
              "      <td>1882</td>\n",
              "      <td>1883</td>\n",
              "      <td>Sonic Unleashed</td>\n",
              "      <td>X360</td>\n",
              "      <td>2008</td>\n",
              "      <td>Platform</td>\n",
              "      <td>Sega</td>\n",
              "      <td>0.45</td>\n",
              "      <td>0.30</td>\n",
              "      <td>0.00</td>\n",
              "      <td>0.09</td>\n",
              "      <td>0.84</td>\n",
              "      <td>69.00</td>\n",
              "    </tr>\n",
              "    <tr>\n",
              "      <th>1884</th>\n",
              "      <td>1884</td>\n",
              "      <td>1885</td>\n",
              "      <td>Petz Dogz Fashion</td>\n",
              "      <td>DS</td>\n",
              "      <td>2008</td>\n",
              "      <td>Simulation</td>\n",
              "      <td>Ubisoft</td>\n",
              "      <td>0.45</td>\n",
              "      <td>0.30</td>\n",
              "      <td>0.00</td>\n",
              "      <td>0.09</td>\n",
              "      <td>0.84</td>\n",
              "      <td>64.00</td>\n",
              "    </tr>\n",
              "    <tr>\n",
              "      <th>1893</th>\n",
              "      <td>1893</td>\n",
              "      <td>1894</td>\n",
              "      <td>GRID</td>\n",
              "      <td>X360</td>\n",
              "      <td>2008</td>\n",
              "      <td>Racing</td>\n",
              "      <td>Codemasters</td>\n",
              "      <td>0.32</td>\n",
              "      <td>0.41</td>\n",
              "      <td>0.01</td>\n",
              "      <td>0.09</td>\n",
              "      <td>0.83</td>\n",
              "      <td>86.54</td>\n",
              "    </tr>\n",
              "    <tr>\n",
              "      <th>1904</th>\n",
              "      <td>1904</td>\n",
              "      <td>1905</td>\n",
              "      <td>SingStar Abba</td>\n",
              "      <td>PS3</td>\n",
              "      <td>2008</td>\n",
              "      <td>Misc</td>\n",
              "      <td>Sony Computer Entertainment</td>\n",
              "      <td>0.25</td>\n",
              "      <td>0.44</td>\n",
              "      <td>0.00</td>\n",
              "      <td>0.14</td>\n",
              "      <td>0.83</td>\n",
              "      <td>73.00</td>\n",
              "    </tr>\n",
              "  </tbody>\n",
              "</table>\n",
              "<p>184 rows × 13 columns</p>\n",
              "</div>\n",
              "      <button class=\"colab-df-convert\" onclick=\"convertToInteractive('df-7e723dc0-4f0e-4bd9-93d2-661debaa1d45')\"\n",
              "              title=\"Convert this dataframe to an interactive table.\"\n",
              "              style=\"display:none;\">\n",
              "        \n",
              "  <svg xmlns=\"http://www.w3.org/2000/svg\" height=\"24px\"viewBox=\"0 0 24 24\"\n",
              "       width=\"24px\">\n",
              "    <path d=\"M0 0h24v24H0V0z\" fill=\"none\"/>\n",
              "    <path d=\"M18.56 5.44l.94 2.06.94-2.06 2.06-.94-2.06-.94-.94-2.06-.94 2.06-2.06.94zm-11 1L8.5 8.5l.94-2.06 2.06-.94-2.06-.94L8.5 2.5l-.94 2.06-2.06.94zm10 10l.94 2.06.94-2.06 2.06-.94-2.06-.94-.94-2.06-.94 2.06-2.06.94z\"/><path d=\"M17.41 7.96l-1.37-1.37c-.4-.4-.92-.59-1.43-.59-.52 0-1.04.2-1.43.59L10.3 9.45l-7.72 7.72c-.78.78-.78 2.05 0 2.83L4 21.41c.39.39.9.59 1.41.59.51 0 1.02-.2 1.41-.59l7.78-7.78 2.81-2.81c.8-.78.8-2.07 0-2.86zM5.41 20L4 18.59l7.72-7.72 1.47 1.35L5.41 20z\"/>\n",
              "  </svg>\n",
              "      </button>\n",
              "      \n",
              "  <style>\n",
              "    .colab-df-container {\n",
              "      display:flex;\n",
              "      flex-wrap:wrap;\n",
              "      gap: 12px;\n",
              "    }\n",
              "\n",
              "    .colab-df-convert {\n",
              "      background-color: #E8F0FE;\n",
              "      border: none;\n",
              "      border-radius: 50%;\n",
              "      cursor: pointer;\n",
              "      display: none;\n",
              "      fill: #1967D2;\n",
              "      height: 32px;\n",
              "      padding: 0 0 0 0;\n",
              "      width: 32px;\n",
              "    }\n",
              "\n",
              "    .colab-df-convert:hover {\n",
              "      background-color: #E2EBFA;\n",
              "      box-shadow: 0px 1px 2px rgba(60, 64, 67, 0.3), 0px 1px 3px 1px rgba(60, 64, 67, 0.15);\n",
              "      fill: #174EA6;\n",
              "    }\n",
              "\n",
              "    [theme=dark] .colab-df-convert {\n",
              "      background-color: #3B4455;\n",
              "      fill: #D2E3FC;\n",
              "    }\n",
              "\n",
              "    [theme=dark] .colab-df-convert:hover {\n",
              "      background-color: #434B5C;\n",
              "      box-shadow: 0px 1px 3px 1px rgba(0, 0, 0, 0.15);\n",
              "      filter: drop-shadow(0px 1px 2px rgba(0, 0, 0, 0.3));\n",
              "      fill: #FFFFFF;\n",
              "    }\n",
              "  </style>\n",
              "\n",
              "      <script>\n",
              "        const buttonEl =\n",
              "          document.querySelector('#df-7e723dc0-4f0e-4bd9-93d2-661debaa1d45 button.colab-df-convert');\n",
              "        buttonEl.style.display =\n",
              "          google.colab.kernel.accessAllowed ? 'block' : 'none';\n",
              "\n",
              "        async function convertToInteractive(key) {\n",
              "          const element = document.querySelector('#df-7e723dc0-4f0e-4bd9-93d2-661debaa1d45');\n",
              "          const dataTable =\n",
              "            await google.colab.kernel.invokeFunction('convertToInteractive',\n",
              "                                                     [key], {});\n",
              "          if (!dataTable) return;\n",
              "\n",
              "          const docLinkHtml = 'Like what you see? Visit the ' +\n",
              "            '<a target=\"_blank\" href=https://colab.research.google.com/notebooks/data_table.ipynb>data table notebook</a>'\n",
              "            + ' to learn more about interactive tables.';\n",
              "          element.innerHTML = '';\n",
              "          dataTable['output_type'] = 'display_data';\n",
              "          await google.colab.output.renderOutput(dataTable, element);\n",
              "          const docLink = document.createElement('div');\n",
              "          docLink.innerHTML = docLinkHtml;\n",
              "          element.appendChild(docLink);\n",
              "        }\n",
              "      </script>\n",
              "    </div>\n",
              "  </div>\n",
              "  "
            ]
          },
          "metadata": {},
          "execution_count": 98
        }
      ]
    },
    {
      "cell_type": "markdown",
      "source": [
        "***Visualizing the sales of the year 2008***"
      ],
      "metadata": {
        "id": "nIk1f1QWB9Ro"
      }
    },
    {
      "cell_type": "code",
      "source": [
        "\n",
        "video_game=vg\n",
        "fig={\n",
        "    \"data\" : [\n",
        "    {\n",
        "        'x': video_game.Game_Title,\n",
        "        'y': video_game.Global,\n",
        "        'mode': 'markers',\n",
        "        'marker': {\n",
        "            \"color\":video_game.Global,\n",
        "            'size': video_game.Global,\n",
        "            'showscale': True,\n",
        "            \"colorscale\":'Blackbody'\n",
        "        },\n",
        "        \"text\" :  \"Genre:\"+ video_game.Genre +\",\"+\" Publisher:\" + video_game.Publisher\n",
        "        \n",
        "    },\n",
        "],\n",
        "\"layout\":\n",
        "    {\n",
        "    \"title\":\"PREFERRED GENRE AND GAME IN THE YEAR 2008\",\n",
        "    \"xaxis\":{\n",
        "        \"title\":\"\",\n",
        "        \"gridcolor\":'rgb(255, 255, 255)',\n",
        "        \"zerolinewidth\":1,\n",
        "        \"ticklen\":5,\n",
        "        \"gridwidth\":2,\n",
        "    },\n",
        "    \"yaxis\":{\n",
        "        \"title\":'',\n",
        "        \"gridcolor\":'rgb(255, 255, 255)',\n",
        "        \"zerolinewidth\":1,\n",
        "        \"ticklen\":5,\n",
        "        \"gridwidth\":2,\n",
        "    },\n",
        "    \n",
        "    \"paper_bgcolor\":'rgb(243, 243, 243)',\n",
        "    \"plot_bgcolor\":'rgb(243, 243, 243)'\n",
        "    }}\n",
        "\n",
        "iplot(fig)"
      ],
      "metadata": {
        "colab": {
          "base_uri": "https://localhost:8080/",
          "height": 542
        },
        "id": "NsKelsKQ_kto",
        "outputId": "9284b75b-426d-4b22-a2e8-c5fa2a105f92"
      },
      "execution_count": 99,
      "outputs": [
        {
          "output_type": "display_data",
          "data": {
            "text/html": [
              "<html>\n",
              "<head><meta charset=\"utf-8\" /></head>\n",
              "<body>\n",
              "    <div>            <script src=\"https://cdnjs.cloudflare.com/ajax/libs/mathjax/2.7.5/MathJax.js?config=TeX-AMS-MML_SVG\"></script><script type=\"text/javascript\">if (window.MathJax) {MathJax.Hub.Config({SVG: {font: \"STIX-Web\"}});}</script>                <script type=\"text/javascript\">window.PlotlyConfig = {MathJaxConfig: 'local'};</script>\n",
              "        <script src=\"https://cdn.plot.ly/plotly-2.8.3.min.js\"></script>                <div id=\"fb2cb6a0-07ec-4b91-afd6-487118243cb6\" class=\"plotly-graph-div\" style=\"height:525px; width:100%;\"></div>            <script type=\"text/javascript\">                                    window.PLOTLYENV=window.PLOTLYENV || {};                                    if (document.getElementById(\"fb2cb6a0-07ec-4b91-afd6-487118243cb6\")) {                    Plotly.newPlot(                        \"fb2cb6a0-07ec-4b91-afd6-487118243cb6\",                        [{\"marker\":{\"color\":[33.559999999999995,11.58,10.180000000000001,9.66,7.5200000000000005,6.92,6.6,5.74,5.369999999999999,5.16,5.010000000000001,4.99,4.45,4.109999999999999,4.01,3.99,3.6300000000000003,3.57,3.44,3.2600000000000002,3.19,3.15,3.0900000000000003,3.0700000000000003,3.0199999999999996,3.01,3.01,2.86,2.8499999999999996,2.8200000000000003,2.75,2.55,2.55,2.5100000000000002,2.5000000000000004,2.49,2.48,2.4400000000000004,2.41,2.36,2.3600000000000003,2.2800000000000002,2.2800000000000002,2.2500000000000004,2.15,2.14,2.12,2.1100000000000003,2.08,1.9999999999999998,1.97,1.96,1.95,1.92,1.9100000000000001,1.8599999999999999,1.8699999999999999,1.8399999999999999,1.8299999999999998,1.8299999999999996,1.81,1.75,1.75,1.72,1.6800000000000002,1.68,1.64,1.62,1.6300000000000001,1.5999999999999999,1.5899999999999999,1.58,1.5499999999999998,1.54,1.53,1.53,1.52,1.52,1.52,1.52,1.5099999999999998,1.5,1.48,1.47,1.4300000000000002,1.42,1.42,1.42,1.4,1.41,1.4,1.4,1.38,1.38,1.3699999999999999,1.36,1.3499999999999999,1.3199999999999998,1.29,1.3,1.3,1.29,1.27,1.27,1.27,1.27,1.25,1.2599999999999998,1.25,1.2400000000000002,1.25,1.25,1.2399999999999998,1.2400000000000002,1.23,1.2200000000000002,1.2100000000000002,1.21,1.19,1.1800000000000002,1.16,1.16,1.15,1.1400000000000001,1.1300000000000001,1.1099999999999999,1.11,1.1,1.09,1.0999999999999999,1.0899999999999999,1.08,1.08,1.06,1.07,1.06,1.03,1.04,1.0299999999999998,1.02,1.02,1.01,1.0,1.0,1.0,1.0,0.98,0.99,0.99,0.98,0.98,0.97,0.97,0.9600000000000001,0.9700000000000001,0.95,0.9499999999999998,0.94,0.94,0.93,0.92,0.91,0.9,0.89,0.89,0.88,0.8800000000000001,0.88,0.89,0.88,0.88,0.88,0.87,0.87,0.86,0.8500000000000001,0.85,0.8500000000000001,0.85,0.8400000000000001,0.84,0.84,0.83,0.83],\"colorscale\":[[0.0,\"rgb(0,0,0)\"],[0.25,\"rgb(230,0,0)\"],[0.5,\"rgb(230,210,0)\"],[0.75,\"rgb(255,255,255)\"],[1.0,\"rgb(160,200,255)\"]],\"showscale\":true,\"size\":[33.559999999999995,11.58,10.180000000000001,9.66,7.5200000000000005,6.92,6.6,5.74,5.369999999999999,5.16,5.010000000000001,4.99,4.45,4.109999999999999,4.01,3.99,3.6300000000000003,3.57,3.44,3.2600000000000002,3.19,3.15,3.0900000000000003,3.0700000000000003,3.0199999999999996,3.01,3.01,2.86,2.8499999999999996,2.8200000000000003,2.75,2.55,2.55,2.5100000000000002,2.5000000000000004,2.49,2.48,2.4400000000000004,2.41,2.36,2.3600000000000003,2.2800000000000002,2.2800000000000002,2.2500000000000004,2.15,2.14,2.12,2.1100000000000003,2.08,1.9999999999999998,1.97,1.96,1.95,1.92,1.9100000000000001,1.8599999999999999,1.8699999999999999,1.8399999999999999,1.8299999999999998,1.8299999999999996,1.81,1.75,1.75,1.72,1.6800000000000002,1.68,1.64,1.62,1.6300000000000001,1.5999999999999999,1.5899999999999999,1.58,1.5499999999999998,1.54,1.53,1.53,1.52,1.52,1.52,1.52,1.5099999999999998,1.5,1.48,1.47,1.4300000000000002,1.42,1.42,1.42,1.4,1.41,1.4,1.4,1.38,1.38,1.3699999999999999,1.36,1.3499999999999999,1.3199999999999998,1.29,1.3,1.3,1.29,1.27,1.27,1.27,1.27,1.25,1.2599999999999998,1.25,1.2400000000000002,1.25,1.25,1.2399999999999998,1.2400000000000002,1.23,1.2200000000000002,1.2100000000000002,1.21,1.19,1.1800000000000002,1.16,1.16,1.15,1.1400000000000001,1.1300000000000001,1.1099999999999999,1.11,1.1,1.09,1.0999999999999999,1.0899999999999999,1.08,1.08,1.06,1.07,1.06,1.03,1.04,1.0299999999999998,1.02,1.02,1.01,1.0,1.0,1.0,1.0,0.98,0.99,0.99,0.98,0.98,0.97,0.97,0.9600000000000001,0.9700000000000001,0.95,0.9499999999999998,0.94,0.94,0.93,0.92,0.91,0.9,0.89,0.89,0.88,0.8800000000000001,0.88,0.89,0.88,0.88,0.88,0.87,0.87,0.86,0.8500000000000001,0.85,0.8500000000000001,0.85,0.8400000000000001,0.84,0.84,0.83,0.83]},\"mode\":\"markers\",\"text\":[\"Genre:Racing, Publisher:Nintendo\",\"Genre:Fighting, Publisher:Nintendo\",\"Genre:Action, Publisher:Take-Two Interactive\",\"Genre:Action, Publisher:Take-Two Interactive\",\"Genre:Role-Playing, Publisher:Nintendo\",\"Genre:Shooter, Publisher:Activision\",\"Genre:Shooter, Publisher:Microsoft Game Studios\",\"Genre:Action, Publisher:Konami Digital Entertainment\",\"Genre:Role-Playing, Publisher:Capcom\",\"Genre:Platform, Publisher:Sony Computer Entertainment\",\"Genre:Sports, Publisher:Nintendo\",\"Genre:Shooter, Publisher:Activision\",\"Genre:Simulation, Publisher:Nintendo\",\"Genre:Role-Playing, Publisher:Microsoft Game Studios\",\"Genre:Role-Playing, Publisher:Bethesda Softworks\",\"Genre:Role-Playing, Publisher:Activision\",\"Genre:Adventure, Publisher:Activision\",\"Genre:Misc, Publisher:Activision\",\"Genre:Misc, Publisher:Activision\",\"Genre:Shooter, Publisher:Electronic Arts\",\"Genre:Misc, Publisher:Nintendo\",\"Genre:Role-Playing, Publisher:Bethesda Softworks\",\"Genre:Action, Publisher:Sony Computer Entertainment\",\"Genre:Adventure, Publisher:Level 5\",\"Genre:Misc, Publisher:Nintendo\",\"Genre:Platform, Publisher:Activision\",\"Genre:Adventure, Publisher:Activision\",\"Genre:Platform, Publisher:Nintendo\",\"Genre:Sports, Publisher:Sega\",\"Genre:Adventure, Publisher:Warner Bros. Interactive Entertainment\",\"Genre:Action, Publisher:THQ\",\"Genre:Misc, Publisher:Activision\",\"Genre:Action, Publisher:LucasArts\",\"Genre:Sports, Publisher:Electronic Arts\",\"Genre:Sports, Publisher:Konami Digital Entertainment\",\"Genre:Sports, Publisher:Electronic Arts\",\"Genre:Simulation, Publisher:Nintendo\",\"Genre:Sports, Publisher:Hudson Soft\",\"Genre:Racing, Publisher:Disney Interactive Studios\",\"Genre:Shooter, Publisher:Ubisoft\",\"Genre:Shooter, Publisher:Sony Computer Entertainment\",\"Genre:Sports, Publisher:Ubisoft\",\"Genre:Sports, Publisher:Electronic Arts\",\"Genre:Role-Playing, Publisher:Nintendo\",\"Genre:Fighting, Publisher:Square Enix\",\"Genre:Misc, Publisher:Electronic Arts\",\"Genre:Racing, Publisher:Take-Two Interactive\",\"Genre:Adventure, Publisher:Activision\",\"Genre:Sports, Publisher:Konami Digital Entertainment\",\"Genre:Racing, Publisher:Take-Two Interactive\",\"Genre:Platform, Publisher:Sega\",\"Genre:Misc, Publisher:Ubisoft\",\"Genre:Action, Publisher:LucasArts\",\"Genre:Sports, Publisher:Electronic Arts\",\"Genre:Racing, Publisher:Electronic Arts\",\"Genre:Shooter, Publisher:Activision\",\"Genre:Action, Publisher:Electronic Arts\",\"Genre:Sports, Publisher:Electronic Arts\",\"Genre:Misc, Publisher:Midway Games\",\"Genre:Sports, Publisher:Nintendo\",\"Genre:Misc, Publisher:Activision\",\"Genre:Racing, Publisher:Electronic Arts\",\"Genre:Action, Publisher:LucasArts\",\"Genre:Shooter, Publisher:Activision\",\"Genre:Simulation, Publisher:Ubisoft\",\"Genre:Fighting, Publisher:Midway Games\",\"Genre:Sports, Publisher:THQ\",\"Genre:Sports, Publisher:Namco Bandai Games\",\"Genre:Sports, Publisher:Ubisoft\",\"Genre:Action, Publisher:THQ\",\"Genre:Shooter, Publisher:Electronic Arts\",\"Genre:Action, Publisher:LucasArts\",\"Genre:Fighting, Publisher:Midway Games\",\"Genre:Shooter, Publisher:Ubisoft\",\"Genre:Misc, Publisher:Activision\",\"Genre:Role-Playing, Publisher:Square Enix\",\"Genre:Misc, Publisher:Disney Interactive Studios\",\"Genre:Racing, Publisher:Electronic Arts\",\"Genre:Sports, Publisher:Atari\",\"Genre:Fighting, Publisher:Ubisoft\",\"Genre:Simulation, Publisher:Electronic Arts\",\"Genre:Sports, Publisher:Electronic Arts\",\"Genre:Simulation, Publisher:Electronic Arts\",\"Genre:Action, Publisher:Capcom\",\"Genre:Adventure, Publisher:THQ\",\"Genre:Platform, Publisher:THQ\",\"Genre:Misc, Publisher:MTV Games\",\"Genre:Adventure, Publisher:Disney Interactive Studios\",\"Genre:Shooter, Publisher:Sega\",\"Genre:Racing, Publisher:Electronic Arts\",\"Genre:Action, Publisher:Activision\",\"Genre:Sports, Publisher:Electronic Arts\",\"Genre:Shooter, Publisher:Electronic Arts\",\"Genre:Puzzle, Publisher:Electronic Arts\",\"Genre:Adventure, Publisher:LucasArts\",\"Genre:Misc, Publisher:Sony Computer Entertainment\",\"Genre:Fighting, Publisher:Ubisoft\",\"Genre:Sports, Publisher:Electronic Arts\",\"Genre:Action, Publisher:Electronic Arts\",\"Genre:Shooter, Publisher:Ubisoft\",\"Genre:Shooter, Publisher:Ubisoft\",\"Genre:Action, Publisher:Capcom\",\"Genre:Adventure, Publisher:Activision\",\"Genre:Racing, Publisher:Electronic Arts\",\"Genre:Simulation, Publisher:Ubisoft\",\"Genre:Sports, Publisher:Take-Two Interactive\",\"Genre:Misc, Publisher:Disney Interactive Studios\",\"Genre:Action, Publisher:LucasArts\",\"Genre:Shooter, Publisher:Electronic Arts\",\"Genre:Sports, Publisher:Ubisoft\",\"Genre:Racing, Publisher:Sony Computer Entertainment\",\"Genre:Sports, Publisher:Deep Silver\",\"Genre:Fighting, Publisher:THQ\",\"Genre:Misc, Publisher:Activision\",\"Genre:Adventure, Publisher:Nintendo\",\"Genre:Platform, Publisher:Activision\",\"Genre:Role-Playing, Publisher:Square Enix\",\"Genre:Shooter, Publisher:Sony Computer Entertainment\",\"Genre:Sports, Publisher:Konami Digital Entertainment\",\"Genre:Puzzle, Publisher:Electronic Arts\",\"Genre:Adventure, Publisher:Eidos Interactive\",\"Genre:Misc, Publisher:Disney Interactive Studios\",\"Genre:Simulation, Publisher:Sega\",\"Genre:Misc, Publisher:Disney Interactive Studios\",\"Genre:Misc, Publisher:Activision\",\"Genre:Shooter, Publisher:Electronic Arts\",\"Genre:Adventure, Publisher:LucasArts\",\"Genre:Platform, Publisher:Nintendo\",\"Genre:Role-Playing, Publisher:Sega\",\"Genre:Shooter, Publisher:Take-Two Interactive\",\"Genre:Action, Publisher:Electronic Arts\",\"Genre:Action, Publisher:Electronic Arts\",\"Genre:Shooter, Publisher:Electronic Arts\",\"Genre:Simulation, Publisher:Ubisoft\",\"Genre:Action, Publisher:Activision\",\"Genre:Simulation, Publisher:Ubisoft\",\"Genre:Simulation, Publisher:Electronic Arts\",\"Genre:Sports, Publisher:Sega\",\"Genre:Adventure, Publisher:Activision\",\"Genre:Racing, Publisher:Codemasters\",\"Genre:Shooter, Publisher:Electronic Arts\",\"Genre:Action, Publisher:Warner Bros. Interactive Entertainment\",\"Genre:Adventure, Publisher:Eidos Interactive\",\"Genre:Action, Publisher:Take-Two Interactive\",\"Genre:Misc, Publisher:MTV Games\",\"Genre:Adventure, Publisher:Ubisoft\",\"Genre:Action, Publisher:LucasArts\",\"Genre:Fighting, Publisher:Namco Bandai Games\",\"Genre:Sports, Publisher:Konami Digital Entertainment\",\"Genre:Strategy, Publisher:Electronic Arts\",\"Genre:Sports, Publisher:Konami Digital Entertainment\",\"Genre:Action, Publisher:Tecmo Koei\",\"Genre:Platform, Publisher:THQ\",\"Genre:Adventure, Publisher:Ubisoft\",\"Genre:Puzzle, Publisher:Ubisoft\",\"Genre:Misc, Publisher:GSP\",\"Genre:Simulation, Publisher:Electronic Arts\",\"Genre:Action, Publisher:Koch Media\",\"Genre:Racing, Publisher:Take-Two Interactive\",\"Genre:Shooter, Publisher:Ubisoft\",\"Genre:Sports, Publisher:Ubisoft\",\"Genre:Platform, Publisher:THQ\",\"Genre:Platform, Publisher:Sega\",\"Genre:Misc, Publisher:Activision\",\"Genre:Platform, Publisher:Activision\",\"Genre:Fighting, Publisher:THQ\",\"Genre:Role-Playing, Publisher:Sega\",\"Genre:Fighting, Publisher:THQ\",\"Genre:Adventure, Publisher:Activision\",\"Genre:Strategy, Publisher:Ubisoft\",\"Genre:Puzzle, Publisher:Midway Games\",\"Genre:Role-Playing, Publisher:Square Enix\",\"Genre:Shooter, Publisher:Ubisoft\",\"Genre:Sports, Publisher:Atari\",\"Genre:Sports, Publisher:Electronic Arts\",\"Genre:Misc, Publisher:Pinnacle\",\"Genre:Misc, Publisher:Sega\",\"Genre:Role-Playing, Publisher:Sony Computer Entertainment\",\"Genre:Role-Playing, Publisher:Sega\",\"Genre:Role-Playing, Publisher:Bethesda Softworks\",\"Genre:Platform, Publisher:Sega\",\"Genre:Simulation, Publisher:Ubisoft\",\"Genre:Racing, Publisher:Codemasters\",\"Genre:Misc, Publisher:Sony Computer Entertainment\"],\"x\":[\"Mario Kart Wii\",\"Super Smash Bros. Brawl\",\"Grand Theft Auto IV\",\"Grand Theft Auto IV\",\"Pok\\u00e9mon Platinum Version\",\"Call of Duty: World at War\",\"Gears of War 2\",\"Metal Gear Solid 4: Guns of the Patriots\",\"Monster Hunter Freedom Unite\",\"LittleBigPlanet\",\"Mario & Sonic at the Olympic Games\",\"Call of Duty: World at War\",\"Animal Crossing: City Folk\",\"Fable II\",\"Fallout 3\",\"World of Warcraft: Wrath of the Lich King\",\"LEGO Indiana Jones: The Original Adventures\",\"Guitar Hero: World Tour\",\"Guitar Hero: On Tour\",\"Left 4 Dead\",\"Wii Music\",\"Fallout 3\",\"God of War: Chains of Olympus\",\"Professor Layton and the Unwound Future\",\"Rhythm Heaven\",\"Kung Fu Panda\",\"LEGO Batman: The Videogame\",\"Kirby Super Star Ultra\",\"Sega Superstars Tennis\",\"LEGO Batman: The Videogame\",\"Saints Row 2\",\"Guitar Hero: World Tour\",\"Star Wars: The Force Unleashed\",\"FIFA Soccer 09\",\"PES 2009: Pro Evolution Soccer\",\"Madden NFL 09\",\"Style Savvy\",\"Deca Sports\",\"Pure\",\"Tom Clancy's Rainbow Six: Vegas 2\",\"Resistance 2\",\"My Fitness Coach\",\"FIFA Soccer 09\",\"Pok\\u00e9mon Ranger: Shadows of Almia\",\"Dissidia: Final Fantasy\",\"Rock Band 2\",\"Midnight Club: Los Angeles\",\"LEGO Indiana Jones: The Original Adventures\",\"PES 2009: Pro Evolution Soccer\",\"Midnight Club: Los Angeles\",\"Sonic Unleashed\",\"Rayman Raving Rabbids: TV Party\",\"Star Wars: The Force Unleashed\",\"FIFA Soccer 09\",\"Need For Speed: Undercover\",\"Call of Duty: World at War\",\"Dead Space\",\"Madden NFL 09\",\"Game Party 2\",\"Mario Super Sluggers\",\"Guitar Hero: World Tour\",\"Burnout Paradise\",\"Star Wars: The Force Unleashed\",\"Call of Duty: World at War Final Fronts\",\"Imagine: Teacher\",\"Mortal Kombat vs DC Universe\",\"Big Beach Sports\",\"We Ski\",\"Shaun White Snowboarding: Road Trip\",\"Saints Row 2\",\"Army of Two\",\"Star Wars The Clone Wars: Lightsaber Duels\",\"Mortal Kombat vs DC Universe\",\"Far Cry 2\",\"Guitar Hero: On Tour Decades\",\"Dragon Quest V: Hand of the Heavenly Bride\",\"High School Musical 3: Senior Year\",\"Need For Speed: Undercover\",\"Active Life: Outdoor Challenge\",\"SoulCalibur IV\",\"MySims Kingdom\",\"Madden NFL 09\",\"MySims Kingdom\",\"Devil May Cry 4\",\"Drawn To Life: SpongeBob SquarePants Edition\",\"Wall-E\",\"Rock Band 2\",\"Disney Fairies: Tinker Bell\",\"The House of the Dead 2 & 3 Return\",\"Need For Speed: Undercover\",\"007: Quantum of Solace\",\"Tiger Woods PGA Tour 09 All-Play\",\"Battlefield: Bad Company\",\"Hasbro Family Game Night\",\"LEGO Indiana Jones: The Original Adventures\",\"SingStar Abba\",\"SoulCalibur IV\",\"FIFA Soccer 09\",\"Dead Space\",\"Tom Clancy's Rainbow Six: Vegas 2\",\"Far Cry 2\",\"Devil May Cry 4\",\"LEGO Batman: The Videogame\",\"Burnout Paradise\",\"Imagine: Wedding Designer\",\"NBA 2K9\",\"High School Musical 3: Senior Year DANCE!\",\"Star Wars: The Force Unleashed\",\"Battlefield: Bad Company\",\"Gold's Gym: Cardio Workout\",\"MotorStorm: Pacific Rift\",\"Jillian Michaels' Fitness Ultimatum 2009\",\"WWE SmackDown vs. Raw 2009\",\"Guitar Hero: Aerosmith\",\"Mystery Case Files: MillionHeir\",\"Kung Fu Panda\",\"Chrono Trigger\",\"SOCOM: U.S. Navy SEALs Confrontation\",\"Pro Evolution Soccer 2008\",\"Boom Blox\",\"Tomb Raider: Underworld\",\"Disney Sing It\",\"Worldwide Soccer Manager 2009\",\"High School Musical 2: Work This Out!\",\"Guitar Hero: Aerosmith\",\"Army of Two\",\"LEGO Indiana Jones: The Original Adventures\",\"Wario Land: Shake It!\",\"Valkyria Chronicles\",\"BioShock\",\"Mirror's Edge\",\"Mirror's Edge\",\"NERF N-Strike\",\"Imagine: Babysitters\",\"007: Quantum of Solace\",\"Imagine: Fashion Designer New York\",\"Spore Creatures\",\"Sega Superstars Tennis\",\"LEGO Batman: The Videogame\",\"GRID\",\"Mercenaries 2: World in Flames\",\"Guinness World Records: The Videogame\",\"Tomb Raider: Underworld\",\"Bully: Scholarship Edition\",\"Rock Band 2\",\"Prince of Persia\",\"Star Wars: The Force Unleashed\",\"Naruto: Ultimate Ninja Storm\",\"Pro Evolution Soccer 2008\",\"Spore\",\"PES 2009: Pro Evolution Soccer\",\"Ninja Gaiden II\",\"Wall-E\",\"Prince of Persia\",\"Puzzler Collection\",\"Junior Brain Trainer\",\"Littlest Pet Shop: Winter\",\"Ben 10: Alien Force\",\"Midnight Club: LA Remix\",\"Haze\",\"My Weight Loss Coach\",\"de Blob\",\"Sonic Unleashed\",\"Guitar Hero: Aerosmith\",\"Kung Fu Panda\",\"WWE SmackDown vs. Raw 2009\",\"Phantasy Star Portable\",\"WWE SmackDown vs. Raw 2009\",\"LEGO Indiana Jones: The Original Adventures\",\"Tom Clancy's EndWar\",\"TouchMaster 2\",\"Kingdom Hearts Re: Chain of Memories\",\"Brothers in Arms: Hell's Highway\",\"We Ski & Snowboard\",\"FIFA Soccer 09 All-Play\",\"Peppa Pig: The Game\",\"Samba De Amigo\",\"White Knight Chronicles: International Edition\",\"Sonic Chronicles: The Dark Brotherhood\",\"Fallout 3\",\"Sonic Unleashed\",\"Petz Dogz Fashion\",\"GRID\",\"SingStar Abba\"],\"y\":[33.559999999999995,11.58,10.180000000000001,9.66,7.5200000000000005,6.92,6.6,5.74,5.369999999999999,5.16,5.010000000000001,4.99,4.45,4.109999999999999,4.01,3.99,3.6300000000000003,3.57,3.44,3.2600000000000002,3.19,3.15,3.0900000000000003,3.0700000000000003,3.0199999999999996,3.01,3.01,2.86,2.8499999999999996,2.8200000000000003,2.75,2.55,2.55,2.5100000000000002,2.5000000000000004,2.49,2.48,2.4400000000000004,2.41,2.36,2.3600000000000003,2.2800000000000002,2.2800000000000002,2.2500000000000004,2.15,2.14,2.12,2.1100000000000003,2.08,1.9999999999999998,1.97,1.96,1.95,1.92,1.9100000000000001,1.8599999999999999,1.8699999999999999,1.8399999999999999,1.8299999999999998,1.8299999999999996,1.81,1.75,1.75,1.72,1.6800000000000002,1.68,1.64,1.62,1.6300000000000001,1.5999999999999999,1.5899999999999999,1.58,1.5499999999999998,1.54,1.53,1.53,1.52,1.52,1.52,1.52,1.5099999999999998,1.5,1.48,1.47,1.4300000000000002,1.42,1.42,1.42,1.4,1.41,1.4,1.4,1.38,1.38,1.3699999999999999,1.36,1.3499999999999999,1.3199999999999998,1.29,1.3,1.3,1.29,1.27,1.27,1.27,1.27,1.25,1.2599999999999998,1.25,1.2400000000000002,1.25,1.25,1.2399999999999998,1.2400000000000002,1.23,1.2200000000000002,1.2100000000000002,1.21,1.19,1.1800000000000002,1.16,1.16,1.15,1.1400000000000001,1.1300000000000001,1.1099999999999999,1.11,1.1,1.09,1.0999999999999999,1.0899999999999999,1.08,1.08,1.06,1.07,1.06,1.03,1.04,1.0299999999999998,1.02,1.02,1.01,1.0,1.0,1.0,1.0,0.98,0.99,0.99,0.98,0.98,0.97,0.97,0.9600000000000001,0.9700000000000001,0.95,0.9499999999999998,0.94,0.94,0.93,0.92,0.91,0.9,0.89,0.89,0.88,0.8800000000000001,0.88,0.89,0.88,0.88,0.88,0.87,0.87,0.86,0.8500000000000001,0.85,0.8500000000000001,0.85,0.8400000000000001,0.84,0.84,0.83,0.83],\"type\":\"scatter\"}],                        {\"paper_bgcolor\":\"rgb(243, 243, 243)\",\"plot_bgcolor\":\"rgb(243, 243, 243)\",\"template\":{\"data\":{\"barpolar\":[{\"marker\":{\"line\":{\"color\":\"#E5ECF6\",\"width\":0.5},\"pattern\":{\"fillmode\":\"overlay\",\"size\":10,\"solidity\":0.2}},\"type\":\"barpolar\"}],\"bar\":[{\"error_x\":{\"color\":\"#2a3f5f\"},\"error_y\":{\"color\":\"#2a3f5f\"},\"marker\":{\"line\":{\"color\":\"#E5ECF6\",\"width\":0.5},\"pattern\":{\"fillmode\":\"overlay\",\"size\":10,\"solidity\":0.2}},\"type\":\"bar\"}],\"carpet\":[{\"aaxis\":{\"endlinecolor\":\"#2a3f5f\",\"gridcolor\":\"white\",\"linecolor\":\"white\",\"minorgridcolor\":\"white\",\"startlinecolor\":\"#2a3f5f\"},\"baxis\":{\"endlinecolor\":\"#2a3f5f\",\"gridcolor\":\"white\",\"linecolor\":\"white\",\"minorgridcolor\":\"white\",\"startlinecolor\":\"#2a3f5f\"},\"type\":\"carpet\"}],\"choropleth\":[{\"colorbar\":{\"outlinewidth\":0,\"ticks\":\"\"},\"type\":\"choropleth\"}],\"contourcarpet\":[{\"colorbar\":{\"outlinewidth\":0,\"ticks\":\"\"},\"type\":\"contourcarpet\"}],\"contour\":[{\"colorbar\":{\"outlinewidth\":0,\"ticks\":\"\"},\"colorscale\":[[0.0,\"#0d0887\"],[0.1111111111111111,\"#46039f\"],[0.2222222222222222,\"#7201a8\"],[0.3333333333333333,\"#9c179e\"],[0.4444444444444444,\"#bd3786\"],[0.5555555555555556,\"#d8576b\"],[0.6666666666666666,\"#ed7953\"],[0.7777777777777778,\"#fb9f3a\"],[0.8888888888888888,\"#fdca26\"],[1.0,\"#f0f921\"]],\"type\":\"contour\"}],\"heatmapgl\":[{\"colorbar\":{\"outlinewidth\":0,\"ticks\":\"\"},\"colorscale\":[[0.0,\"#0d0887\"],[0.1111111111111111,\"#46039f\"],[0.2222222222222222,\"#7201a8\"],[0.3333333333333333,\"#9c179e\"],[0.4444444444444444,\"#bd3786\"],[0.5555555555555556,\"#d8576b\"],[0.6666666666666666,\"#ed7953\"],[0.7777777777777778,\"#fb9f3a\"],[0.8888888888888888,\"#fdca26\"],[1.0,\"#f0f921\"]],\"type\":\"heatmapgl\"}],\"heatmap\":[{\"colorbar\":{\"outlinewidth\":0,\"ticks\":\"\"},\"colorscale\":[[0.0,\"#0d0887\"],[0.1111111111111111,\"#46039f\"],[0.2222222222222222,\"#7201a8\"],[0.3333333333333333,\"#9c179e\"],[0.4444444444444444,\"#bd3786\"],[0.5555555555555556,\"#d8576b\"],[0.6666666666666666,\"#ed7953\"],[0.7777777777777778,\"#fb9f3a\"],[0.8888888888888888,\"#fdca26\"],[1.0,\"#f0f921\"]],\"type\":\"heatmap\"}],\"histogram2dcontour\":[{\"colorbar\":{\"outlinewidth\":0,\"ticks\":\"\"},\"colorscale\":[[0.0,\"#0d0887\"],[0.1111111111111111,\"#46039f\"],[0.2222222222222222,\"#7201a8\"],[0.3333333333333333,\"#9c179e\"],[0.4444444444444444,\"#bd3786\"],[0.5555555555555556,\"#d8576b\"],[0.6666666666666666,\"#ed7953\"],[0.7777777777777778,\"#fb9f3a\"],[0.8888888888888888,\"#fdca26\"],[1.0,\"#f0f921\"]],\"type\":\"histogram2dcontour\"}],\"histogram2d\":[{\"colorbar\":{\"outlinewidth\":0,\"ticks\":\"\"},\"colorscale\":[[0.0,\"#0d0887\"],[0.1111111111111111,\"#46039f\"],[0.2222222222222222,\"#7201a8\"],[0.3333333333333333,\"#9c179e\"],[0.4444444444444444,\"#bd3786\"],[0.5555555555555556,\"#d8576b\"],[0.6666666666666666,\"#ed7953\"],[0.7777777777777778,\"#fb9f3a\"],[0.8888888888888888,\"#fdca26\"],[1.0,\"#f0f921\"]],\"type\":\"histogram2d\"}],\"histogram\":[{\"marker\":{\"pattern\":{\"fillmode\":\"overlay\",\"size\":10,\"solidity\":0.2}},\"type\":\"histogram\"}],\"mesh3d\":[{\"colorbar\":{\"outlinewidth\":0,\"ticks\":\"\"},\"type\":\"mesh3d\"}],\"parcoords\":[{\"line\":{\"colorbar\":{\"outlinewidth\":0,\"ticks\":\"\"}},\"type\":\"parcoords\"}],\"pie\":[{\"automargin\":true,\"type\":\"pie\"}],\"scatter3d\":[{\"line\":{\"colorbar\":{\"outlinewidth\":0,\"ticks\":\"\"}},\"marker\":{\"colorbar\":{\"outlinewidth\":0,\"ticks\":\"\"}},\"type\":\"scatter3d\"}],\"scattercarpet\":[{\"marker\":{\"colorbar\":{\"outlinewidth\":0,\"ticks\":\"\"}},\"type\":\"scattercarpet\"}],\"scattergeo\":[{\"marker\":{\"colorbar\":{\"outlinewidth\":0,\"ticks\":\"\"}},\"type\":\"scattergeo\"}],\"scattergl\":[{\"marker\":{\"colorbar\":{\"outlinewidth\":0,\"ticks\":\"\"}},\"type\":\"scattergl\"}],\"scattermapbox\":[{\"marker\":{\"colorbar\":{\"outlinewidth\":0,\"ticks\":\"\"}},\"type\":\"scattermapbox\"}],\"scatterpolargl\":[{\"marker\":{\"colorbar\":{\"outlinewidth\":0,\"ticks\":\"\"}},\"type\":\"scatterpolargl\"}],\"scatterpolar\":[{\"marker\":{\"colorbar\":{\"outlinewidth\":0,\"ticks\":\"\"}},\"type\":\"scatterpolar\"}],\"scatter\":[{\"marker\":{\"colorbar\":{\"outlinewidth\":0,\"ticks\":\"\"}},\"type\":\"scatter\"}],\"scatterternary\":[{\"marker\":{\"colorbar\":{\"outlinewidth\":0,\"ticks\":\"\"}},\"type\":\"scatterternary\"}],\"surface\":[{\"colorbar\":{\"outlinewidth\":0,\"ticks\":\"\"},\"colorscale\":[[0.0,\"#0d0887\"],[0.1111111111111111,\"#46039f\"],[0.2222222222222222,\"#7201a8\"],[0.3333333333333333,\"#9c179e\"],[0.4444444444444444,\"#bd3786\"],[0.5555555555555556,\"#d8576b\"],[0.6666666666666666,\"#ed7953\"],[0.7777777777777778,\"#fb9f3a\"],[0.8888888888888888,\"#fdca26\"],[1.0,\"#f0f921\"]],\"type\":\"surface\"}],\"table\":[{\"cells\":{\"fill\":{\"color\":\"#EBF0F8\"},\"line\":{\"color\":\"white\"}},\"header\":{\"fill\":{\"color\":\"#C8D4E3\"},\"line\":{\"color\":\"white\"}},\"type\":\"table\"}]},\"layout\":{\"annotationdefaults\":{\"arrowcolor\":\"#2a3f5f\",\"arrowhead\":0,\"arrowwidth\":1},\"autotypenumbers\":\"strict\",\"coloraxis\":{\"colorbar\":{\"outlinewidth\":0,\"ticks\":\"\"}},\"colorscale\":{\"diverging\":[[0,\"#8e0152\"],[0.1,\"#c51b7d\"],[0.2,\"#de77ae\"],[0.3,\"#f1b6da\"],[0.4,\"#fde0ef\"],[0.5,\"#f7f7f7\"],[0.6,\"#e6f5d0\"],[0.7,\"#b8e186\"],[0.8,\"#7fbc41\"],[0.9,\"#4d9221\"],[1,\"#276419\"]],\"sequential\":[[0.0,\"#0d0887\"],[0.1111111111111111,\"#46039f\"],[0.2222222222222222,\"#7201a8\"],[0.3333333333333333,\"#9c179e\"],[0.4444444444444444,\"#bd3786\"],[0.5555555555555556,\"#d8576b\"],[0.6666666666666666,\"#ed7953\"],[0.7777777777777778,\"#fb9f3a\"],[0.8888888888888888,\"#fdca26\"],[1.0,\"#f0f921\"]],\"sequentialminus\":[[0.0,\"#0d0887\"],[0.1111111111111111,\"#46039f\"],[0.2222222222222222,\"#7201a8\"],[0.3333333333333333,\"#9c179e\"],[0.4444444444444444,\"#bd3786\"],[0.5555555555555556,\"#d8576b\"],[0.6666666666666666,\"#ed7953\"],[0.7777777777777778,\"#fb9f3a\"],[0.8888888888888888,\"#fdca26\"],[1.0,\"#f0f921\"]]},\"colorway\":[\"#636efa\",\"#EF553B\",\"#00cc96\",\"#ab63fa\",\"#FFA15A\",\"#19d3f3\",\"#FF6692\",\"#B6E880\",\"#FF97FF\",\"#FECB52\"],\"font\":{\"color\":\"#2a3f5f\"},\"geo\":{\"bgcolor\":\"white\",\"lakecolor\":\"white\",\"landcolor\":\"#E5ECF6\",\"showlakes\":true,\"showland\":true,\"subunitcolor\":\"white\"},\"hoverlabel\":{\"align\":\"left\"},\"hovermode\":\"closest\",\"mapbox\":{\"style\":\"light\"},\"paper_bgcolor\":\"white\",\"plot_bgcolor\":\"#E5ECF6\",\"polar\":{\"angularaxis\":{\"gridcolor\":\"white\",\"linecolor\":\"white\",\"ticks\":\"\"},\"bgcolor\":\"#E5ECF6\",\"radialaxis\":{\"gridcolor\":\"white\",\"linecolor\":\"white\",\"ticks\":\"\"}},\"scene\":{\"xaxis\":{\"backgroundcolor\":\"#E5ECF6\",\"gridcolor\":\"white\",\"gridwidth\":2,\"linecolor\":\"white\",\"showbackground\":true,\"ticks\":\"\",\"zerolinecolor\":\"white\"},\"yaxis\":{\"backgroundcolor\":\"#E5ECF6\",\"gridcolor\":\"white\",\"gridwidth\":2,\"linecolor\":\"white\",\"showbackground\":true,\"ticks\":\"\",\"zerolinecolor\":\"white\"},\"zaxis\":{\"backgroundcolor\":\"#E5ECF6\",\"gridcolor\":\"white\",\"gridwidth\":2,\"linecolor\":\"white\",\"showbackground\":true,\"ticks\":\"\",\"zerolinecolor\":\"white\"}},\"shapedefaults\":{\"line\":{\"color\":\"#2a3f5f\"}},\"ternary\":{\"aaxis\":{\"gridcolor\":\"white\",\"linecolor\":\"white\",\"ticks\":\"\"},\"baxis\":{\"gridcolor\":\"white\",\"linecolor\":\"white\",\"ticks\":\"\"},\"bgcolor\":\"#E5ECF6\",\"caxis\":{\"gridcolor\":\"white\",\"linecolor\":\"white\",\"ticks\":\"\"}},\"title\":{\"x\":0.05},\"xaxis\":{\"automargin\":true,\"gridcolor\":\"white\",\"linecolor\":\"white\",\"ticks\":\"\",\"title\":{\"standoff\":15},\"zerolinecolor\":\"white\",\"zerolinewidth\":2},\"yaxis\":{\"automargin\":true,\"gridcolor\":\"white\",\"linecolor\":\"white\",\"ticks\":\"\",\"title\":{\"standoff\":15},\"zerolinecolor\":\"white\",\"zerolinewidth\":2}}},\"title\":{\"text\":\"PREFERRED GENRE AND GAME IN THE YEAR 2008\"},\"xaxis\":{\"gridcolor\":\"rgb(255, 255, 255)\",\"gridwidth\":2,\"ticklen\":5,\"title\":{\"text\":\"\"},\"zerolinewidth\":1},\"yaxis\":{\"gridcolor\":\"rgb(255, 255, 255)\",\"gridwidth\":2,\"ticklen\":5,\"title\":{\"text\":\"\"},\"zerolinewidth\":1}},                        {\"responsive\": true}                    ).then(function(){\n",
              "                            \n",
              "var gd = document.getElementById('fb2cb6a0-07ec-4b91-afd6-487118243cb6');\n",
              "var x = new MutationObserver(function (mutations, observer) {{\n",
              "        var display = window.getComputedStyle(gd).display;\n",
              "        if (!display || display === 'none') {{\n",
              "            console.log([gd, 'removed!']);\n",
              "            Plotly.purge(gd);\n",
              "            observer.disconnect();\n",
              "        }}\n",
              "}});\n",
              "\n",
              "// Listen for the removal of the full notebook cells\n",
              "var notebookContainer = gd.closest('#notebook-container');\n",
              "if (notebookContainer) {{\n",
              "    x.observe(notebookContainer, {childList: true});\n",
              "}}\n",
              "\n",
              "// Listen for the clearing of the current output cell\n",
              "var outputEl = gd.closest('.output');\n",
              "if (outputEl) {{\n",
              "    x.observe(outputEl, {childList: true});\n",
              "}}\n",
              "\n",
              "                        })                };                            </script>        </div>\n",
              "</body>\n",
              "</html>"
            ]
          },
          "metadata": {}
        }
      ]
    },
    {
      "cell_type": "markdown",
      "source": [
        "***Review based Analysis***"
      ],
      "metadata": {
        "id": "OgdNzi3QdX2c"
      }
    },
    {
      "cell_type": "code",
      "source": [
        "#review = video_games.groupby(\"Game_Title\")[[\"Game_Title\", \"Review\"]].sort_values(by=['Review'],ascending=[False])\n",
        "#for key, item in review:\n",
        "#    print(review.get_group(key), \"\\n\\n\")\n",
        "video_games.sort_values(\"Review\", ascending=False)"
      ],
      "metadata": {
        "colab": {
          "base_uri": "https://localhost:8080/",
          "height": 424
        },
        "id": "yIk-xJxgYM6t",
        "outputId": "b60a9194-c7ba-49b4-aa68-d1589868970c"
      },
      "execution_count": 100,
      "outputs": [
        {
          "output_type": "execute_result",
          "data": {
            "text/plain": [
              "      index  Rank                                  Game_Title Platform  Year  \\\n",
              "73       73    74        The Legend of Zelda: Ocarina of Time      N64  1998   \n",
              "821     821   822                              The Orange Box     X360  2007   \n",
              "411     411   412                               Metroid Prime       GC  2002   \n",
              "78       78    79                                    Tekken 3       PS  1998   \n",
              "461     461   462                                    BioShock     X360  2007   \n",
              "...     ...   ...                                         ...      ...   ...   \n",
              "953     953   954          High School Musical 3: Senior Year       DS  2008   \n",
              "1558   1558  1559  Dora the Explorer: Dora Saves the Mermaids       DS  2007   \n",
              "1387   1387  1388       High School Musical 2: Work This Out!       DS  2008   \n",
              "1237   1237  1238    Jillian Michaels' Fitness Ultimatum 2009      Wii  2008   \n",
              "1763   1763  1764                     AMF Bowling Pinbusters!      Wii  2007   \n",
              "\n",
              "          Genre                    Publisher  North_America  Europe  Japan  \\\n",
              "73    Adventure                     Nintendo           4.10    1.89   1.45   \n",
              "821     Shooter              Electronic Arts           1.04    0.48   0.02   \n",
              "411     Shooter                     Nintendo           1.96    0.67   0.10   \n",
              "78     Fighting  Sony Computer Entertainment           3.27    2.22   1.40   \n",
              "461     Shooter         Take-Two Interactive           1.46    0.81   0.05   \n",
              "...         ...                          ...            ...     ...    ...   \n",
              "953        Misc   Disney Interactive Studios           0.60    0.75   0.00   \n",
              "1558   Platform         Take-Two Interactive           0.94    0.00   0.00   \n",
              "1387       Misc   Disney Interactive Studios           0.49    0.52   0.00   \n",
              "1237     Sports                  Deep Silver           0.94    0.20   0.00   \n",
              "1763     Sports           Bethesda Softworks           0.83    0.00   0.00   \n",
              "\n",
              "      Rest_Of_world  Global  Review  \n",
              "73             0.16    7.60   97.00  \n",
              "821            0.17    1.71   96.36  \n",
              "411            0.09    2.82   96.35  \n",
              "78             0.29    7.18   96.30  \n",
              "461            0.26    2.58   96.12  \n",
              "...             ...     ...     ...  \n",
              "953            0.17    1.52   35.00  \n",
              "1558           0.08    1.02   34.00  \n",
              "1387           0.13    1.14   33.00  \n",
              "1237           0.11    1.25   31.00  \n",
              "1763           0.07    0.90   30.50  \n",
              "\n",
              "[1878 rows x 13 columns]"
            ],
            "text/html": [
              "\n",
              "  <div id=\"df-3700f0c6-76df-4eeb-9f3d-a91763fc7690\">\n",
              "    <div class=\"colab-df-container\">\n",
              "      <div>\n",
              "<style scoped>\n",
              "    .dataframe tbody tr th:only-of-type {\n",
              "        vertical-align: middle;\n",
              "    }\n",
              "\n",
              "    .dataframe tbody tr th {\n",
              "        vertical-align: top;\n",
              "    }\n",
              "\n",
              "    .dataframe thead th {\n",
              "        text-align: right;\n",
              "    }\n",
              "</style>\n",
              "<table border=\"1\" class=\"dataframe\">\n",
              "  <thead>\n",
              "    <tr style=\"text-align: right;\">\n",
              "      <th></th>\n",
              "      <th>index</th>\n",
              "      <th>Rank</th>\n",
              "      <th>Game_Title</th>\n",
              "      <th>Platform</th>\n",
              "      <th>Year</th>\n",
              "      <th>Genre</th>\n",
              "      <th>Publisher</th>\n",
              "      <th>North_America</th>\n",
              "      <th>Europe</th>\n",
              "      <th>Japan</th>\n",
              "      <th>Rest_Of_world</th>\n",
              "      <th>Global</th>\n",
              "      <th>Review</th>\n",
              "    </tr>\n",
              "  </thead>\n",
              "  <tbody>\n",
              "    <tr>\n",
              "      <th>73</th>\n",
              "      <td>73</td>\n",
              "      <td>74</td>\n",
              "      <td>The Legend of Zelda: Ocarina of Time</td>\n",
              "      <td>N64</td>\n",
              "      <td>1998</td>\n",
              "      <td>Adventure</td>\n",
              "      <td>Nintendo</td>\n",
              "      <td>4.10</td>\n",
              "      <td>1.89</td>\n",
              "      <td>1.45</td>\n",
              "      <td>0.16</td>\n",
              "      <td>7.60</td>\n",
              "      <td>97.00</td>\n",
              "    </tr>\n",
              "    <tr>\n",
              "      <th>821</th>\n",
              "      <td>821</td>\n",
              "      <td>822</td>\n",
              "      <td>The Orange Box</td>\n",
              "      <td>X360</td>\n",
              "      <td>2007</td>\n",
              "      <td>Shooter</td>\n",
              "      <td>Electronic Arts</td>\n",
              "      <td>1.04</td>\n",
              "      <td>0.48</td>\n",
              "      <td>0.02</td>\n",
              "      <td>0.17</td>\n",
              "      <td>1.71</td>\n",
              "      <td>96.36</td>\n",
              "    </tr>\n",
              "    <tr>\n",
              "      <th>411</th>\n",
              "      <td>411</td>\n",
              "      <td>412</td>\n",
              "      <td>Metroid Prime</td>\n",
              "      <td>GC</td>\n",
              "      <td>2002</td>\n",
              "      <td>Shooter</td>\n",
              "      <td>Nintendo</td>\n",
              "      <td>1.96</td>\n",
              "      <td>0.67</td>\n",
              "      <td>0.10</td>\n",
              "      <td>0.09</td>\n",
              "      <td>2.82</td>\n",
              "      <td>96.35</td>\n",
              "    </tr>\n",
              "    <tr>\n",
              "      <th>78</th>\n",
              "      <td>78</td>\n",
              "      <td>79</td>\n",
              "      <td>Tekken 3</td>\n",
              "      <td>PS</td>\n",
              "      <td>1998</td>\n",
              "      <td>Fighting</td>\n",
              "      <td>Sony Computer Entertainment</td>\n",
              "      <td>3.27</td>\n",
              "      <td>2.22</td>\n",
              "      <td>1.40</td>\n",
              "      <td>0.29</td>\n",
              "      <td>7.18</td>\n",
              "      <td>96.30</td>\n",
              "    </tr>\n",
              "    <tr>\n",
              "      <th>461</th>\n",
              "      <td>461</td>\n",
              "      <td>462</td>\n",
              "      <td>BioShock</td>\n",
              "      <td>X360</td>\n",
              "      <td>2007</td>\n",
              "      <td>Shooter</td>\n",
              "      <td>Take-Two Interactive</td>\n",
              "      <td>1.46</td>\n",
              "      <td>0.81</td>\n",
              "      <td>0.05</td>\n",
              "      <td>0.26</td>\n",
              "      <td>2.58</td>\n",
              "      <td>96.12</td>\n",
              "    </tr>\n",
              "    <tr>\n",
              "      <th>...</th>\n",
              "      <td>...</td>\n",
              "      <td>...</td>\n",
              "      <td>...</td>\n",
              "      <td>...</td>\n",
              "      <td>...</td>\n",
              "      <td>...</td>\n",
              "      <td>...</td>\n",
              "      <td>...</td>\n",
              "      <td>...</td>\n",
              "      <td>...</td>\n",
              "      <td>...</td>\n",
              "      <td>...</td>\n",
              "      <td>...</td>\n",
              "    </tr>\n",
              "    <tr>\n",
              "      <th>953</th>\n",
              "      <td>953</td>\n",
              "      <td>954</td>\n",
              "      <td>High School Musical 3: Senior Year</td>\n",
              "      <td>DS</td>\n",
              "      <td>2008</td>\n",
              "      <td>Misc</td>\n",
              "      <td>Disney Interactive Studios</td>\n",
              "      <td>0.60</td>\n",
              "      <td>0.75</td>\n",
              "      <td>0.00</td>\n",
              "      <td>0.17</td>\n",
              "      <td>1.52</td>\n",
              "      <td>35.00</td>\n",
              "    </tr>\n",
              "    <tr>\n",
              "      <th>1558</th>\n",
              "      <td>1558</td>\n",
              "      <td>1559</td>\n",
              "      <td>Dora the Explorer: Dora Saves the Mermaids</td>\n",
              "      <td>DS</td>\n",
              "      <td>2007</td>\n",
              "      <td>Platform</td>\n",
              "      <td>Take-Two Interactive</td>\n",
              "      <td>0.94</td>\n",
              "      <td>0.00</td>\n",
              "      <td>0.00</td>\n",
              "      <td>0.08</td>\n",
              "      <td>1.02</td>\n",
              "      <td>34.00</td>\n",
              "    </tr>\n",
              "    <tr>\n",
              "      <th>1387</th>\n",
              "      <td>1387</td>\n",
              "      <td>1388</td>\n",
              "      <td>High School Musical 2: Work This Out!</td>\n",
              "      <td>DS</td>\n",
              "      <td>2008</td>\n",
              "      <td>Misc</td>\n",
              "      <td>Disney Interactive Studios</td>\n",
              "      <td>0.49</td>\n",
              "      <td>0.52</td>\n",
              "      <td>0.00</td>\n",
              "      <td>0.13</td>\n",
              "      <td>1.14</td>\n",
              "      <td>33.00</td>\n",
              "    </tr>\n",
              "    <tr>\n",
              "      <th>1237</th>\n",
              "      <td>1237</td>\n",
              "      <td>1238</td>\n",
              "      <td>Jillian Michaels' Fitness Ultimatum 2009</td>\n",
              "      <td>Wii</td>\n",
              "      <td>2008</td>\n",
              "      <td>Sports</td>\n",
              "      <td>Deep Silver</td>\n",
              "      <td>0.94</td>\n",
              "      <td>0.20</td>\n",
              "      <td>0.00</td>\n",
              "      <td>0.11</td>\n",
              "      <td>1.25</td>\n",
              "      <td>31.00</td>\n",
              "    </tr>\n",
              "    <tr>\n",
              "      <th>1763</th>\n",
              "      <td>1763</td>\n",
              "      <td>1764</td>\n",
              "      <td>AMF Bowling Pinbusters!</td>\n",
              "      <td>Wii</td>\n",
              "      <td>2007</td>\n",
              "      <td>Sports</td>\n",
              "      <td>Bethesda Softworks</td>\n",
              "      <td>0.83</td>\n",
              "      <td>0.00</td>\n",
              "      <td>0.00</td>\n",
              "      <td>0.07</td>\n",
              "      <td>0.90</td>\n",
              "      <td>30.50</td>\n",
              "    </tr>\n",
              "  </tbody>\n",
              "</table>\n",
              "<p>1878 rows × 13 columns</p>\n",
              "</div>\n",
              "      <button class=\"colab-df-convert\" onclick=\"convertToInteractive('df-3700f0c6-76df-4eeb-9f3d-a91763fc7690')\"\n",
              "              title=\"Convert this dataframe to an interactive table.\"\n",
              "              style=\"display:none;\">\n",
              "        \n",
              "  <svg xmlns=\"http://www.w3.org/2000/svg\" height=\"24px\"viewBox=\"0 0 24 24\"\n",
              "       width=\"24px\">\n",
              "    <path d=\"M0 0h24v24H0V0z\" fill=\"none\"/>\n",
              "    <path d=\"M18.56 5.44l.94 2.06.94-2.06 2.06-.94-2.06-.94-.94-2.06-.94 2.06-2.06.94zm-11 1L8.5 8.5l.94-2.06 2.06-.94-2.06-.94L8.5 2.5l-.94 2.06-2.06.94zm10 10l.94 2.06.94-2.06 2.06-.94-2.06-.94-.94-2.06-.94 2.06-2.06.94z\"/><path d=\"M17.41 7.96l-1.37-1.37c-.4-.4-.92-.59-1.43-.59-.52 0-1.04.2-1.43.59L10.3 9.45l-7.72 7.72c-.78.78-.78 2.05 0 2.83L4 21.41c.39.39.9.59 1.41.59.51 0 1.02-.2 1.41-.59l7.78-7.78 2.81-2.81c.8-.78.8-2.07 0-2.86zM5.41 20L4 18.59l7.72-7.72 1.47 1.35L5.41 20z\"/>\n",
              "  </svg>\n",
              "      </button>\n",
              "      \n",
              "  <style>\n",
              "    .colab-df-container {\n",
              "      display:flex;\n",
              "      flex-wrap:wrap;\n",
              "      gap: 12px;\n",
              "    }\n",
              "\n",
              "    .colab-df-convert {\n",
              "      background-color: #E8F0FE;\n",
              "      border: none;\n",
              "      border-radius: 50%;\n",
              "      cursor: pointer;\n",
              "      display: none;\n",
              "      fill: #1967D2;\n",
              "      height: 32px;\n",
              "      padding: 0 0 0 0;\n",
              "      width: 32px;\n",
              "    }\n",
              "\n",
              "    .colab-df-convert:hover {\n",
              "      background-color: #E2EBFA;\n",
              "      box-shadow: 0px 1px 2px rgba(60, 64, 67, 0.3), 0px 1px 3px 1px rgba(60, 64, 67, 0.15);\n",
              "      fill: #174EA6;\n",
              "    }\n",
              "\n",
              "    [theme=dark] .colab-df-convert {\n",
              "      background-color: #3B4455;\n",
              "      fill: #D2E3FC;\n",
              "    }\n",
              "\n",
              "    [theme=dark] .colab-df-convert:hover {\n",
              "      background-color: #434B5C;\n",
              "      box-shadow: 0px 1px 3px 1px rgba(0, 0, 0, 0.15);\n",
              "      filter: drop-shadow(0px 1px 2px rgba(0, 0, 0, 0.3));\n",
              "      fill: #FFFFFF;\n",
              "    }\n",
              "  </style>\n",
              "\n",
              "      <script>\n",
              "        const buttonEl =\n",
              "          document.querySelector('#df-3700f0c6-76df-4eeb-9f3d-a91763fc7690 button.colab-df-convert');\n",
              "        buttonEl.style.display =\n",
              "          google.colab.kernel.accessAllowed ? 'block' : 'none';\n",
              "\n",
              "        async function convertToInteractive(key) {\n",
              "          const element = document.querySelector('#df-3700f0c6-76df-4eeb-9f3d-a91763fc7690');\n",
              "          const dataTable =\n",
              "            await google.colab.kernel.invokeFunction('convertToInteractive',\n",
              "                                                     [key], {});\n",
              "          if (!dataTable) return;\n",
              "\n",
              "          const docLinkHtml = 'Like what you see? Visit the ' +\n",
              "            '<a target=\"_blank\" href=https://colab.research.google.com/notebooks/data_table.ipynb>data table notebook</a>'\n",
              "            + ' to learn more about interactive tables.';\n",
              "          element.innerHTML = '';\n",
              "          dataTable['output_type'] = 'display_data';\n",
              "          await google.colab.output.renderOutput(dataTable, element);\n",
              "          const docLink = document.createElement('div');\n",
              "          docLink.innerHTML = docLinkHtml;\n",
              "          element.appendChild(docLink);\n",
              "        }\n",
              "      </script>\n",
              "    </div>\n",
              "  </div>\n",
              "  "
            ]
          },
          "metadata": {},
          "execution_count": 100
        }
      ]
    },
    {
      "cell_type": "code",
      "source": [
        "review = pd.DataFrame(video_games.groupby(\"Game_Title\")[[\"Review\"]].mean().sort_values(by=['Review'],ascending=[False]).reset_index())\n",
        "review_top =review.head(10)\n",
        "print(review_top)\n",
        "review_low =review.tail(10)\n",
        "print(review_low)"
      ],
      "metadata": {
        "colab": {
          "base_uri": "https://localhost:8080/"
        },
        "id": "TI9xc-iMEhV5",
        "outputId": "cae1fc62-d2cb-4497-c7bb-d3d5ba557264"
      },
      "execution_count": 101,
      "outputs": [
        {
          "output_type": "stream",
          "name": "stdout",
          "text": [
            "                               Game_Title  Review\n",
            "0                           Metroid Prime  96.350\n",
            "1                                Tekken 3  96.300\n",
            "2                    Halo: Combat Evolved  95.540\n",
            "3                             Half-Life 2  95.480\n",
            "4     Metal Gear Solid 2: Sons of Liberty  95.040\n",
            "5              Uncharted 2: Among Thieves  95.000\n",
            "6    The Legend of Zelda: Ocarina of Time  95.000\n",
            "7                   Batman: Arkham Asylum  94.985\n",
            "8                                BioShock  94.845\n",
            "9  The Legend of Zelda: Twilight Princess  94.790\n",
            "                                      Game_Title  Review\n",
            "1495                                    Baseball   39.00\n",
            "1496                     Dragon Ball Z: Taiketsu   38.15\n",
            "1497                  The Simpsons Skateboarding   37.58\n",
            "1498                        Pong: The Next Level   37.00\n",
            "1499   High School Musical 3: Senior Year DANCE!   36.00\n",
            "1500          High School Musical 3: Senior Year   35.00\n",
            "1501  Dora the Explorer: Dora Saves the Mermaids   34.00\n",
            "1502       High School Musical 2: Work This Out!   33.00\n",
            "1503    Jillian Michaels' Fitness Ultimatum 2009   31.00\n",
            "1504                     AMF Bowling Pinbusters!   30.50\n"
          ]
        }
      ]
    },
    {
      "cell_type": "code",
      "source": [
        "review = video_games.boxplot(by ='Genre', column =['Review'], grid = False)\n",
        "review.set_xticklabels(review.get_xticklabels(), rotation=40, ha=\"right\")"
      ],
      "metadata": {
        "colab": {
          "base_uri": "https://localhost:8080/",
          "height": 644
        },
        "id": "lEj9iz7HOW8p",
        "outputId": "152bdb3d-d16b-4ef6-8e0b-cc062b0914ab"
      },
      "execution_count": 102,
      "outputs": [
        {
          "output_type": "stream",
          "name": "stderr",
          "text": [
            "/usr/local/lib/python3.8/dist-packages/matplotlib/cbook/__init__.py:1376: VisibleDeprecationWarning:\n",
            "\n",
            "Creating an ndarray from ragged nested sequences (which is a list-or-tuple of lists-or-tuples-or ndarrays with different lengths or shapes) is deprecated. If you meant to do this, you must specify 'dtype=object' when creating the ndarray.\n",
            "\n"
          ]
        },
        {
          "output_type": "execute_result",
          "data": {
            "text/plain": [
              "[Text(0, 0, 'Action'),\n",
              " Text(0, 0, 'Adventure'),\n",
              " Text(0, 0, 'Fighting'),\n",
              " Text(0, 0, 'Misc'),\n",
              " Text(0, 0, 'Platform'),\n",
              " Text(0, 0, 'Puzzle'),\n",
              " Text(0, 0, 'Racing'),\n",
              " Text(0, 0, 'Role-Playing'),\n",
              " Text(0, 0, 'Shooter'),\n",
              " Text(0, 0, 'Simulation'),\n",
              " Text(0, 0, 'Sports'),\n",
              " Text(0, 0, 'Strategy')]"
            ]
          },
          "metadata": {},
          "execution_count": 102
        },
        {
          "output_type": "display_data",
          "data": {
            "text/plain": [
              "<Figure size 432x288 with 1 Axes>"
            ],
            "image/png": "[encoded data removed]"
          },
          "metadata": {
            "needs_background": "light"
          }
        }
      ]
    }
  ]
}